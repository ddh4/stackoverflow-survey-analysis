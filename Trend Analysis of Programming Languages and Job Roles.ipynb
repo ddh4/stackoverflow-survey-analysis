{
 "cells": [
  {
   "cell_type": "markdown",
   "metadata": {},
   "source": [
    "## 4. Trend Analysis of Programming Languages (2013-2019)\n",
    "\n",
    "This separate notebook is for trend analysis and wrangling techniques neccessary to parse responses stored in a variety of formats.\n",
    "\n",
    "Similarly to the previous notebook, we will import our packages and get the dataset and schema file names."
   ]
  },
  {
   "cell_type": "code",
   "execution_count": 1,
   "metadata": {},
   "outputs": [],
   "source": [
    "import numpy as np\n",
    "import pandas as pd\n",
    "import matplotlib.pyplot as plt\n",
    "import glob\n",
    "from IPython import display\n",
    "import seaborn as sns\n",
    "from collections import defaultdict, Counter\n",
    "from sklearn.preprocessing import MinMaxScaler\n",
    "\n",
    "%matplotlib inline"
   ]
  },
  {
   "cell_type": "code",
   "execution_count": 2,
   "metadata": {},
   "outputs": [
    {
     "data": {
      "text/plain": [
       "['datasets\\\\2013_survey_results_public.csv',\n",
       " 'datasets\\\\2014_survey_results_public.csv',\n",
       " 'datasets\\\\2015_survey_results_public.csv',\n",
       " 'datasets\\\\2016_survey_results_public.csv',\n",
       " 'datasets\\\\2017_survey_results_public.csv',\n",
       " 'datasets\\\\2018_survey_results_public.csv']"
      ]
     },
     "execution_count": 2,
     "metadata": {},
     "output_type": "execute_result"
    }
   ],
   "source": [
    "datasets = glob.glob(\"datasets/*_public.csv\")\n",
    "datasets"
   ]
  },
  {
   "cell_type": "code",
   "execution_count": 3,
   "metadata": {},
   "outputs": [
    {
     "data": {
      "text/plain": [
       "['datasets\\\\2017_survey_results_schema.csv',\n",
       " 'datasets\\\\2018_survey_results_schema.csv']"
      ]
     },
     "execution_count": 3,
     "metadata": {},
     "output_type": "execute_result"
    }
   ],
   "source": [
    "schemas = glob.glob(\"datasets/*_schema.csv\")\n",
    "schemas"
   ]
  },
  {
   "cell_type": "code",
   "execution_count": 4,
   "metadata": {},
   "outputs": [
    {
     "data": {
      "text/plain": [
       "{}"
      ]
     },
     "execution_count": 4,
     "metadata": {},
     "output_type": "execute_result"
    }
   ],
   "source": [
    "results = {}\n",
    "results"
   ]
  },
  {
   "cell_type": "markdown",
   "metadata": {},
   "source": [
    "### 2013 Dataset\n",
    "\n",
    "Earlier datasets do not have traditional headers, instead the first row of these datasets are the questions and the second row are the possible responses of the question, such as C, C#, PHP etc.\n",
    "Therefore, instead of parsing multilevel indexes, it would be simpler to get the columns by ``idx`` - the function defined below allows this."
   ]
  },
  {
   "cell_type": "code",
   "execution_count": 5,
   "metadata": {},
   "outputs": [],
   "source": [
    "def get_index(column, column_value, schema):\n",
    "    '''\n",
    "    INPUT - column - string - the name of the column we want to search\n",
    "            column_value - string - the term we would like to search for\n",
    "    OUTPUT - \n",
    "            idx - index - the integer index of the column containing the specified value\n",
    "    '''\n",
    "    idx = schema.index[schema[column].astype(str).str.contains(str(column_value))]\n",
    "    return idx"
   ]
  },
  {
   "cell_type": "markdown",
   "metadata": {},
   "source": [
    "We can create somewhat of a schema by parsing the first two rows of the 2013 dataset to reference as a schema and fetch data by index. The columns in the schema will be defined as ``Question`` and ``Option``. "
   ]
  },
  {
   "cell_type": "code",
   "execution_count": 7,
   "metadata": {},
   "outputs": [],
   "source": [
    "def make_schema_load_dataset(data_path):\n",
    "    '''\n",
    "    INPUT - datapath - string - the location of the file we want to load\n",
    "    OUTPUT - \n",
    "            schema, dataset - tuple(DataFrame) - two pandas dataframes, one of the schema and another, the data.\n",
    "    '''\n",
    "    schema = pd.read_csv(data_path, index_col=None, header=None, nrows=2, encoding=\"utf-8\", low_memory=False).T\n",
    "    schema.columns = ['Question', 'Option']\n",
    "    dataset = pd.read_csv(data_path, index_col=None, header=1, encoding=\"utf-8\", low_memory=False)\n",
    "    return schema, dataset"
   ]
  },
  {
   "cell_type": "code",
   "execution_count": 8,
   "metadata": {},
   "outputs": [],
   "source": [
    "df_2013_schema, df_2013_data = make_schema_load_dataset(datasets[0])"
   ]
  },
  {
   "cell_type": "code",
   "execution_count": 9,
   "metadata": {},
   "outputs": [
    {
     "data": {
      "text/html": [
       "<div>\n",
       "<style scoped>\n",
       "    .dataframe tbody tr th:only-of-type {\n",
       "        vertical-align: middle;\n",
       "    }\n",
       "\n",
       "    .dataframe tbody tr th {\n",
       "        vertical-align: top;\n",
       "    }\n",
       "\n",
       "    .dataframe thead th {\n",
       "        text-align: right;\n",
       "    }\n",
       "</style>\n",
       "<table border=\"1\" class=\"dataframe\">\n",
       "  <thead>\n",
       "    <tr style=\"text-align: right;\">\n",
       "      <th></th>\n",
       "      <th>Question</th>\n",
       "      <th>Option</th>\n",
       "    </tr>\n",
       "  </thead>\n",
       "  <tbody>\n",
       "    <tr>\n",
       "      <th>0</th>\n",
       "      <td>What Country or Region do you live in?</td>\n",
       "      <td>Response</td>\n",
       "    </tr>\n",
       "    <tr>\n",
       "      <th>1</th>\n",
       "      <td>Which US State or Territory do you live in?</td>\n",
       "      <td>Response</td>\n",
       "    </tr>\n",
       "    <tr>\n",
       "      <th>2</th>\n",
       "      <td>How old are you?</td>\n",
       "      <td>Response</td>\n",
       "    </tr>\n",
       "  </tbody>\n",
       "</table>\n",
       "</div>"
      ],
      "text/plain": [
       "                                      Question    Option\n",
       "0       What Country or Region do you live in?  Response\n",
       "1  Which US State or Territory do you live in?  Response\n",
       "2                             How old are you?  Response"
      ]
     },
     "execution_count": 9,
     "metadata": {},
     "output_type": "execute_result"
    }
   ],
   "source": [
    "df_2013_schema.head(3)"
   ]
  },
  {
   "cell_type": "markdown",
   "metadata": {},
   "source": [
    "We obtain the index by passing the value from the dataset to find, which is string matched to our values in the schema."
   ]
  },
  {
   "cell_type": "code",
   "execution_count": 10,
   "metadata": {},
   "outputs": [],
   "source": [
    "index = get_index('Question', 'Which of the following languages or technologies have you used significantly in the past year?', df_2013_schema) "
   ]
  },
  {
   "cell_type": "markdown",
   "metadata": {},
   "source": [
    "We can then slice the dataframe into a subset containing only the desired language information."
   ]
  },
  {
   "cell_type": "code",
   "execution_count": 11,
   "metadata": {},
   "outputs": [
    {
     "data": {
      "text/html": [
       "<div>\n",
       "<style scoped>\n",
       "    .dataframe tbody tr th:only-of-type {\n",
       "        vertical-align: middle;\n",
       "    }\n",
       "\n",
       "    .dataframe tbody tr th {\n",
       "        vertical-align: top;\n",
       "    }\n",
       "\n",
       "    .dataframe thead th {\n",
       "        text-align: right;\n",
       "    }\n",
       "</style>\n",
       "<table border=\"1\" class=\"dataframe\">\n",
       "  <thead>\n",
       "    <tr style=\"text-align: right;\">\n",
       "      <th></th>\n",
       "      <th>Question</th>\n",
       "      <th>Option</th>\n",
       "    </tr>\n",
       "  </thead>\n",
       "  <tbody>\n",
       "    <tr>\n",
       "      <th>56</th>\n",
       "      <td>Which of the following languages or technologi...</td>\n",
       "      <td>C</td>\n",
       "    </tr>\n",
       "    <tr>\n",
       "      <th>57</th>\n",
       "      <td>NaN</td>\n",
       "      <td>C++</td>\n",
       "    </tr>\n",
       "    <tr>\n",
       "      <th>58</th>\n",
       "      <td>NaN</td>\n",
       "      <td>C#</td>\n",
       "    </tr>\n",
       "    <tr>\n",
       "      <th>59</th>\n",
       "      <td>NaN</td>\n",
       "      <td>Java</td>\n",
       "    </tr>\n",
       "    <tr>\n",
       "      <th>60</th>\n",
       "      <td>NaN</td>\n",
       "      <td>JavaScript</td>\n",
       "    </tr>\n",
       "    <tr>\n",
       "      <th>61</th>\n",
       "      <td>NaN</td>\n",
       "      <td>jQuery</td>\n",
       "    </tr>\n",
       "    <tr>\n",
       "      <th>62</th>\n",
       "      <td>NaN</td>\n",
       "      <td>JQuery</td>\n",
       "    </tr>\n",
       "    <tr>\n",
       "      <th>63</th>\n",
       "      <td>NaN</td>\n",
       "      <td>Node.js</td>\n",
       "    </tr>\n",
       "    <tr>\n",
       "      <th>64</th>\n",
       "      <td>NaN</td>\n",
       "      <td>Objective-C</td>\n",
       "    </tr>\n",
       "    <tr>\n",
       "      <th>65</th>\n",
       "      <td>NaN</td>\n",
       "      <td>PHP</td>\n",
       "    </tr>\n",
       "    <tr>\n",
       "      <th>66</th>\n",
       "      <td>NaN</td>\n",
       "      <td>Python</td>\n",
       "    </tr>\n",
       "    <tr>\n",
       "      <th>67</th>\n",
       "      <td>NaN</td>\n",
       "      <td>Ruby</td>\n",
       "    </tr>\n",
       "    <tr>\n",
       "      <th>68</th>\n",
       "      <td>NaN</td>\n",
       "      <td>SQL</td>\n",
       "    </tr>\n",
       "    <tr>\n",
       "      <th>69</th>\n",
       "      <td>NaN</td>\n",
       "      <td>Other (please specify)</td>\n",
       "    </tr>\n",
       "  </tbody>\n",
       "</table>\n",
       "</div>"
      ],
      "text/plain": [
       "                                             Question                  Option\n",
       "56  Which of the following languages or technologi...                       C\n",
       "57                                                NaN                     C++\n",
       "58                                                NaN                      C#\n",
       "59                                                NaN                    Java\n",
       "60                                                NaN              JavaScript\n",
       "61                                                NaN                  jQuery\n",
       "62                                                NaN                  JQuery\n",
       "63                                                NaN                 Node.js\n",
       "64                                                NaN             Objective-C\n",
       "65                                                NaN                     PHP\n",
       "66                                                NaN                  Python\n",
       "67                                                NaN                    Ruby\n",
       "68                                                NaN                     SQL\n",
       "69                                                NaN  Other (please specify)"
      ]
     },
     "execution_count": 11,
     "metadata": {},
     "output_type": "execute_result"
    }
   ],
   "source": [
    "df_2013_schema.iloc[index[0]:index[0]+14]"
   ]
  },
  {
   "cell_type": "code",
   "execution_count": 12,
   "metadata": {},
   "outputs": [
    {
     "data": {
      "text/html": [
       "<div>\n",
       "<style scoped>\n",
       "    .dataframe tbody tr th:only-of-type {\n",
       "        vertical-align: middle;\n",
       "    }\n",
       "\n",
       "    .dataframe tbody tr th {\n",
       "        vertical-align: top;\n",
       "    }\n",
       "\n",
       "    .dataframe thead th {\n",
       "        text-align: right;\n",
       "    }\n",
       "</style>\n",
       "<table border=\"1\" class=\"dataframe\">\n",
       "  <thead>\n",
       "    <tr style=\"text-align: right;\">\n",
       "      <th></th>\n",
       "      <th>C</th>\n",
       "      <th>C++</th>\n",
       "      <th>C#</th>\n",
       "      <th>Java</th>\n",
       "      <th>JavaScript</th>\n",
       "      <th>jQuery</th>\n",
       "      <th>JQuery</th>\n",
       "      <th>Node.js</th>\n",
       "      <th>Objective-C</th>\n",
       "      <th>PHP</th>\n",
       "      <th>Python</th>\n",
       "      <th>Ruby</th>\n",
       "      <th>SQL</th>\n",
       "      <th>Other (please specify)</th>\n",
       "    </tr>\n",
       "  </thead>\n",
       "  <tbody>\n",
       "    <tr>\n",
       "      <th>0</th>\n",
       "      <td>NaN</td>\n",
       "      <td>NaN</td>\n",
       "      <td>NaN</td>\n",
       "      <td>Java</td>\n",
       "      <td>NaN</td>\n",
       "      <td>NaN</td>\n",
       "      <td>NaN</td>\n",
       "      <td>NaN</td>\n",
       "      <td>NaN</td>\n",
       "      <td>NaN</td>\n",
       "      <td>NaN</td>\n",
       "      <td>NaN</td>\n",
       "      <td>SQL</td>\n",
       "      <td>NaN</td>\n",
       "    </tr>\n",
       "    <tr>\n",
       "      <th>1</th>\n",
       "      <td>NaN</td>\n",
       "      <td>NaN</td>\n",
       "      <td>C#</td>\n",
       "      <td>NaN</td>\n",
       "      <td>JavaScript</td>\n",
       "      <td>jQuery</td>\n",
       "      <td>NaN</td>\n",
       "      <td>NaN</td>\n",
       "      <td>NaN</td>\n",
       "      <td>PHP</td>\n",
       "      <td>NaN</td>\n",
       "      <td>NaN</td>\n",
       "      <td>NaN</td>\n",
       "      <td>MySql / VbScript</td>\n",
       "    </tr>\n",
       "    <tr>\n",
       "      <th>2</th>\n",
       "      <td>NaN</td>\n",
       "      <td>NaN</td>\n",
       "      <td>C#</td>\n",
       "      <td>NaN</td>\n",
       "      <td>JavaScript</td>\n",
       "      <td>jQuery</td>\n",
       "      <td>NaN</td>\n",
       "      <td>NaN</td>\n",
       "      <td>NaN</td>\n",
       "      <td>NaN</td>\n",
       "      <td>NaN</td>\n",
       "      <td>NaN</td>\n",
       "      <td>SQL</td>\n",
       "      <td>PL/SQL, XSLT, XQuery</td>\n",
       "    </tr>\n",
       "  </tbody>\n",
       "</table>\n",
       "</div>"
      ],
      "text/plain": [
       "     C  C++   C#  Java  JavaScript  jQuery JQuery Node.js Objective-C  PHP  \\\n",
       "0  NaN  NaN  NaN  Java         NaN     NaN    NaN     NaN         NaN  NaN   \n",
       "1  NaN  NaN   C#   NaN  JavaScript  jQuery    NaN     NaN         NaN  PHP   \n",
       "2  NaN  NaN   C#   NaN  JavaScript  jQuery    NaN     NaN         NaN  NaN   \n",
       "\n",
       "  Python Ruby  SQL Other (please specify)  \n",
       "0    NaN  NaN  SQL                    NaN  \n",
       "1    NaN  NaN  NaN       MySql / VbScript  \n",
       "2    NaN  NaN  SQL   PL/SQL, XSLT, XQuery  "
      ]
     },
     "execution_count": 12,
     "metadata": {},
     "output_type": "execute_result"
    }
   ],
   "source": [
    "df_2013_languages = df_2013_data.iloc[:, index[0]:index[0]+14]\n",
    "df_2013_languages.head(3)"
   ]
  },
  {
   "cell_type": "code",
   "execution_count": 13,
   "metadata": {},
   "outputs": [
    {
     "data": {
      "text/plain": [
       "(9742, 14)"
      ]
     },
     "execution_count": 13,
     "metadata": {},
     "output_type": "execute_result"
    }
   ],
   "source": [
    "df_2013_languages.shape"
   ]
  },
  {
   "cell_type": "markdown",
   "metadata": {},
   "source": [
    "We can retrieved a dictionary of counts and calculate the percentages using the ``percentage_dict`` function defined below, which can also remove users who didn't report any languages. The results are stored in the results dictionary, with the key ``2013``."
   ]
  },
  {
   "cell_type": "code",
   "execution_count": 14,
   "metadata": {},
   "outputs": [
    {
     "data": {
      "text/plain": [
       "{'C': 1436,\n",
       " 'C++': 1696,\n",
       " 'C#': 3027,\n",
       " 'Java': 3020,\n",
       " 'JavaScript': 4735,\n",
       " 'jQuery': 4109,\n",
       " 'JQuery': 239,\n",
       " 'Node.js': 599,\n",
       " 'Objective-C': 955,\n",
       " 'PHP': 2324,\n",
       " 'Python': 1880,\n",
       " 'Ruby': 794,\n",
       " 'SQL': 4593,\n",
       " 'Other (please specify)': 1897}"
      ]
     },
     "execution_count": 14,
     "metadata": {},
     "output_type": "execute_result"
    }
   ],
   "source": [
    "language_dict_2013 = df_2013_languages.describe().loc['count'].to_dict()\n",
    "language_dict_2013"
   ]
  },
  {
   "cell_type": "code",
   "execution_count": 15,
   "metadata": {},
   "outputs": [],
   "source": [
    "def percentage_dict(languages, dataframe, rows=None):\n",
    "    '''\n",
    "    INPUT - languages - dict - the dictionary of language counts\n",
    "            dataframe - DataFrame - the dataframe we would like to process\n",
    "            rows - boolean - the rows we want to remove nulls from\n",
    "    OUTPUT - \n",
    "            idx - index - the integer index of the column containing the specified value\n",
    "    '''\n",
    "    print(\"Rows Before: {}\".format(dataframe.shape[0]))\n",
    "    if rows is not None:\n",
    "        dataframe = dataframe[rows].dropna(how='all', axis=0)\n",
    "    else:\n",
    "        dataframe = dataframe.dropna(how='all', axis=0)\n",
    "        \n",
    "    n = dataframe.shape[0]\n",
    "    print(\"Rows After: {}\".format(n))\n",
    "    return dict((k, v/n) for k, v in languages.items())"
   ]
  },
  {
   "cell_type": "code",
   "execution_count": 16,
   "metadata": {},
   "outputs": [
    {
     "name": "stdout",
     "output_type": "stream",
     "text": [
      "Rows Before: 9742\n",
      "Rows After: 8042\n"
     ]
    }
   ],
   "source": [
    "results['2013'] = percentage_dict(language_dict_2013, df_2013_languages)"
   ]
  },
  {
   "cell_type": "code",
   "execution_count": 17,
   "metadata": {},
   "outputs": [
    {
     "data": {
      "text/plain": [
       "{'2013': {'C': 0.1785625466301915,\n",
       "  'C++': 0.21089281273315097,\n",
       "  'C#': 0.3763989057448396,\n",
       "  'Java': 0.3755284755036061,\n",
       "  'JavaScript': 0.5887838846058194,\n",
       "  'jQuery': 0.5109425516040785,\n",
       "  'JQuery': 0.02971897537925889,\n",
       "  'Node.js': 0.07448395921412584,\n",
       "  'Objective-C': 0.11875155433971649,\n",
       "  'PHP': 0.28898284008952996,\n",
       "  'Python': 0.23377269335986073,\n",
       "  'Ruby': 0.09873165879134543,\n",
       "  'SQL': 0.5711265854265108,\n",
       "  'Other (please specify)': 0.235886595374285}}"
      ]
     },
     "execution_count": 17,
     "metadata": {},
     "output_type": "execute_result"
    }
   ],
   "source": [
    "results"
   ]
  },
  {
   "cell_type": "markdown",
   "metadata": {},
   "source": [
    "### 2014 Dataset\n",
    "\n",
    "This dataset is in the same format was the previous and therefore the same wrangling process can be applied."
   ]
  },
  {
   "cell_type": "code",
   "execution_count": 18,
   "metadata": {},
   "outputs": [],
   "source": [
    "df_2014_schema, df_2014_data = make_schema_load_dataset(datasets[1])"
   ]
  },
  {
   "cell_type": "code",
   "execution_count": 19,
   "metadata": {},
   "outputs": [
    {
     "data": {
      "text/html": [
       "<div>\n",
       "<style scoped>\n",
       "    .dataframe tbody tr th:only-of-type {\n",
       "        vertical-align: middle;\n",
       "    }\n",
       "\n",
       "    .dataframe tbody tr th {\n",
       "        vertical-align: top;\n",
       "    }\n",
       "\n",
       "    .dataframe thead th {\n",
       "        text-align: right;\n",
       "    }\n",
       "</style>\n",
       "<table border=\"1\" class=\"dataframe\">\n",
       "  <thead>\n",
       "    <tr style=\"text-align: right;\">\n",
       "      <th></th>\n",
       "      <th>Question</th>\n",
       "      <th>Option</th>\n",
       "    </tr>\n",
       "  </thead>\n",
       "  <tbody>\n",
       "    <tr>\n",
       "      <th>0</th>\n",
       "      <td>What Country do you live in?</td>\n",
       "      <td>Response</td>\n",
       "    </tr>\n",
       "    <tr>\n",
       "      <th>1</th>\n",
       "      <td>NaN</td>\n",
       "      <td>Other (please specify)</td>\n",
       "    </tr>\n",
       "    <tr>\n",
       "      <th>2</th>\n",
       "      <td>Which US State or Territory do you live in?</td>\n",
       "      <td>Response</td>\n",
       "    </tr>\n",
       "  </tbody>\n",
       "</table>\n",
       "</div>"
      ],
      "text/plain": [
       "                                      Question                  Option\n",
       "0                 What Country do you live in?                Response\n",
       "1                                          NaN  Other (please specify)\n",
       "2  Which US State or Territory do you live in?                Response"
      ]
     },
     "execution_count": 19,
     "metadata": {},
     "output_type": "execute_result"
    }
   ],
   "source": [
    "df_2014_schema.head(3)"
   ]
  },
  {
   "cell_type": "code",
   "execution_count": 20,
   "metadata": {},
   "outputs": [],
   "source": [
    "index = get_index('Question', 'Which of the following languages or technologies have you used significantly in the past year?', df_2014_schema) "
   ]
  },
  {
   "cell_type": "code",
   "execution_count": 21,
   "metadata": {},
   "outputs": [
    {
     "data": {
      "text/html": [
       "<div>\n",
       "<style scoped>\n",
       "    .dataframe tbody tr th:only-of-type {\n",
       "        vertical-align: middle;\n",
       "    }\n",
       "\n",
       "    .dataframe tbody tr th {\n",
       "        vertical-align: top;\n",
       "    }\n",
       "\n",
       "    .dataframe thead th {\n",
       "        text-align: right;\n",
       "    }\n",
       "</style>\n",
       "<table border=\"1\" class=\"dataframe\">\n",
       "  <thead>\n",
       "    <tr style=\"text-align: right;\">\n",
       "      <th></th>\n",
       "      <th>Question</th>\n",
       "      <th>Option</th>\n",
       "    </tr>\n",
       "  </thead>\n",
       "  <tbody>\n",
       "    <tr>\n",
       "      <th>42</th>\n",
       "      <td>Which of the following languages or technologi...</td>\n",
       "      <td>C</td>\n",
       "    </tr>\n",
       "    <tr>\n",
       "      <th>43</th>\n",
       "      <td>NaN</td>\n",
       "      <td>C++</td>\n",
       "    </tr>\n",
       "    <tr>\n",
       "      <th>44</th>\n",
       "      <td>NaN</td>\n",
       "      <td>C#</td>\n",
       "    </tr>\n",
       "    <tr>\n",
       "      <th>45</th>\n",
       "      <td>NaN</td>\n",
       "      <td>Java</td>\n",
       "    </tr>\n",
       "    <tr>\n",
       "      <th>46</th>\n",
       "      <td>NaN</td>\n",
       "      <td>JavaScript</td>\n",
       "    </tr>\n",
       "    <tr>\n",
       "      <th>47</th>\n",
       "      <td>NaN</td>\n",
       "      <td>Node.js</td>\n",
       "    </tr>\n",
       "    <tr>\n",
       "      <th>48</th>\n",
       "      <td>NaN</td>\n",
       "      <td>Objective-C</td>\n",
       "    </tr>\n",
       "    <tr>\n",
       "      <th>49</th>\n",
       "      <td>NaN</td>\n",
       "      <td>PHP</td>\n",
       "    </tr>\n",
       "    <tr>\n",
       "      <th>50</th>\n",
       "      <td>NaN</td>\n",
       "      <td>Python</td>\n",
       "    </tr>\n",
       "    <tr>\n",
       "      <th>51</th>\n",
       "      <td>NaN</td>\n",
       "      <td>Ruby</td>\n",
       "    </tr>\n",
       "    <tr>\n",
       "      <th>52</th>\n",
       "      <td>NaN</td>\n",
       "      <td>SQL</td>\n",
       "    </tr>\n",
       "    <tr>\n",
       "      <th>53</th>\n",
       "      <td>NaN</td>\n",
       "      <td>Other (please specify)</td>\n",
       "    </tr>\n",
       "  </tbody>\n",
       "</table>\n",
       "</div>"
      ],
      "text/plain": [
       "                                             Question                  Option\n",
       "42  Which of the following languages or technologi...                       C\n",
       "43                                                NaN                     C++\n",
       "44                                                NaN                      C#\n",
       "45                                                NaN                    Java\n",
       "46                                                NaN              JavaScript\n",
       "47                                                NaN                 Node.js\n",
       "48                                                NaN             Objective-C\n",
       "49                                                NaN                     PHP\n",
       "50                                                NaN                  Python\n",
       "51                                                NaN                    Ruby\n",
       "52                                                NaN                     SQL\n",
       "53                                                NaN  Other (please specify)"
      ]
     },
     "execution_count": 21,
     "metadata": {},
     "output_type": "execute_result"
    }
   ],
   "source": [
    "df_2014_schema.iloc[index[0]:index[0]+12]"
   ]
  },
  {
   "cell_type": "code",
   "execution_count": 22,
   "metadata": {},
   "outputs": [
    {
     "data": {
      "text/html": [
       "<div>\n",
       "<style scoped>\n",
       "    .dataframe tbody tr th:only-of-type {\n",
       "        vertical-align: middle;\n",
       "    }\n",
       "\n",
       "    .dataframe tbody tr th {\n",
       "        vertical-align: top;\n",
       "    }\n",
       "\n",
       "    .dataframe thead th {\n",
       "        text-align: right;\n",
       "    }\n",
       "</style>\n",
       "<table border=\"1\" class=\"dataframe\">\n",
       "  <thead>\n",
       "    <tr style=\"text-align: right;\">\n",
       "      <th></th>\n",
       "      <th>C</th>\n",
       "      <th>C++</th>\n",
       "      <th>C#</th>\n",
       "      <th>Java</th>\n",
       "      <th>JavaScript</th>\n",
       "      <th>Node.js</th>\n",
       "      <th>Objective-C</th>\n",
       "      <th>PHP</th>\n",
       "      <th>Python</th>\n",
       "      <th>Ruby</th>\n",
       "      <th>SQL</th>\n",
       "      <th>Other (please specify).1</th>\n",
       "    </tr>\n",
       "  </thead>\n",
       "  <tbody>\n",
       "    <tr>\n",
       "      <th>0</th>\n",
       "      <td>NaN</td>\n",
       "      <td>NaN</td>\n",
       "      <td>NaN</td>\n",
       "      <td>Java</td>\n",
       "      <td>JavaScript</td>\n",
       "      <td>NaN</td>\n",
       "      <td>NaN</td>\n",
       "      <td>PHP</td>\n",
       "      <td>Python</td>\n",
       "      <td>NaN</td>\n",
       "      <td>NaN</td>\n",
       "      <td>NaN</td>\n",
       "    </tr>\n",
       "    <tr>\n",
       "      <th>1</th>\n",
       "      <td>NaN</td>\n",
       "      <td>NaN</td>\n",
       "      <td>NaN</td>\n",
       "      <td>NaN</td>\n",
       "      <td>NaN</td>\n",
       "      <td>NaN</td>\n",
       "      <td>NaN</td>\n",
       "      <td>PHP</td>\n",
       "      <td>NaN</td>\n",
       "      <td>NaN</td>\n",
       "      <td>NaN</td>\n",
       "      <td>NaN</td>\n",
       "    </tr>\n",
       "    <tr>\n",
       "      <th>2</th>\n",
       "      <td>NaN</td>\n",
       "      <td>NaN</td>\n",
       "      <td>C#</td>\n",
       "      <td>NaN</td>\n",
       "      <td>JavaScript</td>\n",
       "      <td>NaN</td>\n",
       "      <td>NaN</td>\n",
       "      <td>NaN</td>\n",
       "      <td>NaN</td>\n",
       "      <td>NaN</td>\n",
       "      <td>SQL</td>\n",
       "      <td>NaN</td>\n",
       "    </tr>\n",
       "  </tbody>\n",
       "</table>\n",
       "</div>"
      ],
      "text/plain": [
       "     C  C++   C#  Java  JavaScript Node.js Objective-C  PHP  Python Ruby  SQL  \\\n",
       "0  NaN  NaN  NaN  Java  JavaScript     NaN         NaN  PHP  Python  NaN  NaN   \n",
       "1  NaN  NaN  NaN   NaN         NaN     NaN         NaN  PHP     NaN  NaN  NaN   \n",
       "2  NaN  NaN   C#   NaN  JavaScript     NaN         NaN  NaN     NaN  NaN  SQL   \n",
       "\n",
       "  Other (please specify).1  \n",
       "0                      NaN  \n",
       "1                      NaN  \n",
       "2                      NaN  "
      ]
     },
     "execution_count": 22,
     "metadata": {},
     "output_type": "execute_result"
    }
   ],
   "source": [
    "df_2014_languages = df_2014_data.iloc[:, index[0]:index[0]+12]\n",
    "df_2014_languages.head(3)"
   ]
  },
  {
   "cell_type": "code",
   "execution_count": 23,
   "metadata": {},
   "outputs": [
    {
     "data": {
      "text/plain": [
       "{'C': 1174,\n",
       " 'C++': 1418,\n",
       " 'C#': 2378,\n",
       " 'Java': 2479,\n",
       " 'JavaScript': 3783,\n",
       " 'Node.js': 641,\n",
       " 'Objective-C': 675,\n",
       " 'PHP': 1710,\n",
       " 'Python': 1473,\n",
       " 'Ruby': 593,\n",
       " 'SQL': 3467,\n",
       " 'Other (please specify).1': 1398}"
      ]
     },
     "execution_count": 23,
     "metadata": {},
     "output_type": "execute_result"
    }
   ],
   "source": [
    "df_2014_languages.describe().loc['count'].to_dict()"
   ]
  },
  {
   "cell_type": "code",
   "execution_count": 24,
   "metadata": {},
   "outputs": [
    {
     "name": "stdout",
     "output_type": "stream",
     "text": [
      "Rows Before: 7643\n",
      "Rows After: 6537\n"
     ]
    }
   ],
   "source": [
    "results['2014'] = percentage_dict(df_2014_languages.describe().loc['count'].to_dict(), df_2014_languages)"
   ]
  },
  {
   "cell_type": "markdown",
   "metadata": {},
   "source": [
    "### 2015 Dataset\n",
    "\n",
    "This dataset is stored in a different format, and the function we created to return the indexes had to be changed to a more general approach. Using partial string matching, we can get the language columns and in fact is a nicer approach as we don't need to find where to end the slice as the indexes of all language columns are returned. "
   ]
  },
  {
   "cell_type": "code",
   "execution_count": 25,
   "metadata": {},
   "outputs": [],
   "source": [
    "df_2015_schema, df_2015_data = make_schema_load_dataset(datasets[2])"
   ]
  },
  {
   "cell_type": "code",
   "execution_count": 26,
   "metadata": {},
   "outputs": [],
   "source": [
    "indexes = get_index('Option', 'Current Lang & Tech', df_2015_schema) "
   ]
  },
  {
   "cell_type": "code",
   "execution_count": 27,
   "metadata": {},
   "outputs": [
    {
     "data": {
      "text/plain": [
       "Int64Index([ 8,  9, 10, 11, 12, 13, 14, 15, 16, 17, 18, 19, 20, 21, 22, 23, 24,\n",
       "            25, 26, 27, 28, 29, 30, 31, 32, 33, 34, 35, 36, 37, 38, 39, 40, 41,\n",
       "            42, 43, 44, 45, 46, 47, 48, 49, 50],\n",
       "           dtype='int64')"
      ]
     },
     "execution_count": 27,
     "metadata": {},
     "output_type": "execute_result"
    }
   ],
   "source": [
    "indexes"
   ]
  },
  {
   "cell_type": "code",
   "execution_count": 28,
   "metadata": {},
   "outputs": [
    {
     "data": {
      "text/html": [
       "<div>\n",
       "<style scoped>\n",
       "    .dataframe tbody tr th:only-of-type {\n",
       "        vertical-align: middle;\n",
       "    }\n",
       "\n",
       "    .dataframe tbody tr th {\n",
       "        vertical-align: top;\n",
       "    }\n",
       "\n",
       "    .dataframe thead th {\n",
       "        text-align: right;\n",
       "    }\n",
       "</style>\n",
       "<table border=\"1\" class=\"dataframe\">\n",
       "  <thead>\n",
       "    <tr style=\"text-align: right;\">\n",
       "      <th></th>\n",
       "      <th>Current Lang &amp; Tech: Android</th>\n",
       "      <th>Current Lang &amp; Tech: Arduino</th>\n",
       "      <th>Current Lang &amp; Tech: AngularJS</th>\n",
       "      <th>Current Lang &amp; Tech: C</th>\n",
       "      <th>Current Lang &amp; Tech: C++</th>\n",
       "      <th>Current Lang &amp; Tech: C++11</th>\n",
       "      <th>Current Lang &amp; Tech: C#</th>\n",
       "      <th>Current Lang &amp; Tech: Cassandra</th>\n",
       "      <th>Current Lang &amp; Tech: CoffeeScript</th>\n",
       "      <th>Current Lang &amp; Tech: Cordova</th>\n",
       "      <th>...</th>\n",
       "      <th>Current Lang &amp; Tech: Scala</th>\n",
       "      <th>Current Lang &amp; Tech: Sharepoint</th>\n",
       "      <th>Current Lang &amp; Tech: Spark</th>\n",
       "      <th>Current Lang &amp; Tech: SQL</th>\n",
       "      <th>Current Lang &amp; Tech: SQL Server</th>\n",
       "      <th>Current Lang &amp; Tech: Swift</th>\n",
       "      <th>Current Lang &amp; Tech: Visual Basic</th>\n",
       "      <th>Current Lang &amp; Tech: Windows Phone</th>\n",
       "      <th>Current Lang &amp; Tech: Wordpress</th>\n",
       "      <th>Current Lang &amp; Tech: Write-In</th>\n",
       "    </tr>\n",
       "  </thead>\n",
       "  <tbody>\n",
       "    <tr>\n",
       "      <th>0</th>\n",
       "      <td>NaN</td>\n",
       "      <td>NaN</td>\n",
       "      <td>NaN</td>\n",
       "      <td>NaN</td>\n",
       "      <td>NaN</td>\n",
       "      <td>NaN</td>\n",
       "      <td>NaN</td>\n",
       "      <td>NaN</td>\n",
       "      <td>NaN</td>\n",
       "      <td>NaN</td>\n",
       "      <td>...</td>\n",
       "      <td>Scala</td>\n",
       "      <td>NaN</td>\n",
       "      <td>NaN</td>\n",
       "      <td>NaN</td>\n",
       "      <td>NaN</td>\n",
       "      <td>NaN</td>\n",
       "      <td>NaN</td>\n",
       "      <td>NaN</td>\n",
       "      <td>NaN</td>\n",
       "      <td>NaN</td>\n",
       "    </tr>\n",
       "    <tr>\n",
       "      <th>1</th>\n",
       "      <td>NaN</td>\n",
       "      <td>NaN</td>\n",
       "      <td>NaN</td>\n",
       "      <td>NaN</td>\n",
       "      <td>NaN</td>\n",
       "      <td>NaN</td>\n",
       "      <td>C#</td>\n",
       "      <td>NaN</td>\n",
       "      <td>NaN</td>\n",
       "      <td>NaN</td>\n",
       "      <td>...</td>\n",
       "      <td>NaN</td>\n",
       "      <td>NaN</td>\n",
       "      <td>NaN</td>\n",
       "      <td>NaN</td>\n",
       "      <td>NaN</td>\n",
       "      <td>NaN</td>\n",
       "      <td>NaN</td>\n",
       "      <td>NaN</td>\n",
       "      <td>NaN</td>\n",
       "      <td>NaN</td>\n",
       "    </tr>\n",
       "    <tr>\n",
       "      <th>2</th>\n",
       "      <td>NaN</td>\n",
       "      <td>NaN</td>\n",
       "      <td>NaN</td>\n",
       "      <td>NaN</td>\n",
       "      <td>NaN</td>\n",
       "      <td>NaN</td>\n",
       "      <td>C#</td>\n",
       "      <td>NaN</td>\n",
       "      <td>NaN</td>\n",
       "      <td>NaN</td>\n",
       "      <td>...</td>\n",
       "      <td>NaN</td>\n",
       "      <td>NaN</td>\n",
       "      <td>NaN</td>\n",
       "      <td>NaN</td>\n",
       "      <td>NaN</td>\n",
       "      <td>NaN</td>\n",
       "      <td>NaN</td>\n",
       "      <td>NaN</td>\n",
       "      <td>NaN</td>\n",
       "      <td>NaN</td>\n",
       "    </tr>\n",
       "  </tbody>\n",
       "</table>\n",
       "<p>3 rows × 43 columns</p>\n",
       "</div>"
      ],
      "text/plain": [
       "  Current Lang & Tech: Android Current Lang & Tech: Arduino  \\\n",
       "0                          NaN                          NaN   \n",
       "1                          NaN                          NaN   \n",
       "2                          NaN                          NaN   \n",
       "\n",
       "  Current Lang & Tech: AngularJS Current Lang & Tech: C  \\\n",
       "0                            NaN                    NaN   \n",
       "1                            NaN                    NaN   \n",
       "2                            NaN                    NaN   \n",
       "\n",
       "  Current Lang & Tech: C++ Current Lang & Tech: C++11 Current Lang & Tech: C#  \\\n",
       "0                      NaN                        NaN                     NaN   \n",
       "1                      NaN                        NaN                      C#   \n",
       "2                      NaN                        NaN                      C#   \n",
       "\n",
       "  Current Lang & Tech: Cassandra Current Lang & Tech: CoffeeScript  \\\n",
       "0                            NaN                               NaN   \n",
       "1                            NaN                               NaN   \n",
       "2                            NaN                               NaN   \n",
       "\n",
       "  Current Lang & Tech: Cordova              ...               \\\n",
       "0                          NaN              ...                \n",
       "1                          NaN              ...                \n",
       "2                          NaN              ...                \n",
       "\n",
       "  Current Lang & Tech: Scala Current Lang & Tech: Sharepoint  \\\n",
       "0                      Scala                             NaN   \n",
       "1                        NaN                             NaN   \n",
       "2                        NaN                             NaN   \n",
       "\n",
       "  Current Lang & Tech: Spark Current Lang & Tech: SQL  \\\n",
       "0                        NaN                      NaN   \n",
       "1                        NaN                      NaN   \n",
       "2                        NaN                      NaN   \n",
       "\n",
       "  Current Lang & Tech: SQL Server Current Lang & Tech: Swift  \\\n",
       "0                             NaN                        NaN   \n",
       "1                             NaN                        NaN   \n",
       "2                             NaN                        NaN   \n",
       "\n",
       "  Current Lang & Tech: Visual Basic Current Lang & Tech: Windows Phone  \\\n",
       "0                               NaN                                NaN   \n",
       "1                               NaN                                NaN   \n",
       "2                               NaN                                NaN   \n",
       "\n",
       "  Current Lang & Tech: Wordpress Current Lang & Tech: Write-In  \n",
       "0                            NaN                           NaN  \n",
       "1                            NaN                           NaN  \n",
       "2                            NaN                           NaN  \n",
       "\n",
       "[3 rows x 43 columns]"
      ]
     },
     "execution_count": 28,
     "metadata": {},
     "output_type": "execute_result"
    }
   ],
   "source": [
    "df_2015_languages = df_2015_data.iloc[:, indexes]\n",
    "df_2015_languages.head(3)"
   ]
  },
  {
   "cell_type": "markdown",
   "metadata": {},
   "source": [
    "Each language has the prefix ``'Current Lang & Tech: ``, for example, ``'Current Lang & Tech: Android'``. Therefore, to extract the language name, we can split the strings by ``: `` and take the second component.  "
   ]
  },
  {
   "cell_type": "code",
   "execution_count": 29,
   "metadata": {},
   "outputs": [],
   "source": [
    "def strip_keys(dictionary):\n",
    "    '''\n",
    "    INPUT - dictionary - dict - the dictionary of language counts\n",
    "    OUTPUT - \n",
    "            dict - the dictionary with stripped keys, containing only the language names\n",
    "    '''\n",
    "    return dict((k.split(': ')[1], v) for k, v in dictionary.items())"
   ]
  },
  {
   "cell_type": "code",
   "execution_count": 30,
   "metadata": {},
   "outputs": [
    {
     "data": {
      "text/plain": [
       "{'Current Lang & Tech: Android': 4110,\n",
       " 'Current Lang & Tech: Arduino': 1626,\n",
       " 'Current Lang & Tech: AngularJS': 2913,\n",
       " 'Current Lang & Tech: C': 3612,\n",
       " 'Current Lang & Tech: C++': 4529,\n",
       " 'Current Lang & Tech: C++11': 1851,\n",
       " 'Current Lang & Tech: C#': 6949,\n",
       " 'Current Lang & Tech: Cassandra': 202,\n",
       " 'Current Lang & Tech: CoffeeScript': 783,\n",
       " 'Current Lang & Tech: Cordova': 628,\n",
       " 'Current Lang & Tech: Clojure': 176,\n",
       " 'Current Lang & Tech: Cloud': 1410,\n",
       " 'Current Lang & Tech: Dart': 109,\n",
       " 'Current Lang & Tech: F#': 174,\n",
       " 'Current Lang & Tech: Go': 462,\n",
       " 'Current Lang & Tech: Hadoop': 342,\n",
       " 'Current Lang & Tech: Haskell': 357,\n",
       " 'Current Lang & Tech: iOS': 1956,\n",
       " 'Current Lang & Tech: Java': 8219,\n",
       " 'Current Lang & Tech: JavaScript': 11962,\n",
       " 'Current Lang & Tech: LAMP': 1926,\n",
       " 'Current Lang & Tech: Matlab': 860,\n",
       " 'Current Lang & Tech: MongoDB': 1745,\n",
       " 'Current Lang & Tech: Node.js': 2919,\n",
       " 'Current Lang & Tech: Objective-C': 1719,\n",
       " 'Current Lang & Tech: Perl': 738,\n",
       " 'Current Lang & Tech: PHP': 6529,\n",
       " 'Current Lang & Tech: Python': 5238,\n",
       " 'Current Lang & Tech: R': 755,\n",
       " 'Current Lang & Tech: Redis': 873,\n",
       " 'Current Lang & Tech: Ruby': 1765,\n",
       " 'Current Lang & Tech: Rust': 103,\n",
       " 'Current Lang & Tech: Salesforce': 153,\n",
       " 'Current Lang & Tech: Scala': 538,\n",
       " 'Current Lang & Tech: Sharepoint': 349,\n",
       " 'Current Lang & Tech: Spark': 104,\n",
       " 'Current Lang & Tech: SQL': 9439,\n",
       " 'Current Lang & Tech: SQL Server': 4129,\n",
       " 'Current Lang & Tech: Swift': 759,\n",
       " 'Current Lang & Tech: Visual Basic': 1701,\n",
       " 'Current Lang & Tech: Windows Phone': 570,\n",
       " 'Current Lang & Tech: Wordpress': 2007,\n",
       " 'Current Lang & Tech: Write-In': 2148}"
      ]
     },
     "execution_count": 30,
     "metadata": {},
     "output_type": "execute_result"
    }
   ],
   "source": [
    "df_2015_languages.describe().loc['count'].to_dict()"
   ]
  },
  {
   "cell_type": "code",
   "execution_count": 31,
   "metadata": {},
   "outputs": [],
   "source": [
    "df_2015_languages_stripped = strip_keys(df_2015_languages.describe().loc['count'].to_dict())"
   ]
  },
  {
   "cell_type": "code",
   "execution_count": 32,
   "metadata": {},
   "outputs": [
    {
     "name": "stdout",
     "output_type": "stream",
     "text": [
      "Rows Before: 26086\n",
      "Rows After: 22107\n"
     ]
    }
   ],
   "source": [
    "results['2015'] = percentage_dict(df_2015_languages_stripped, df_2015_languages)"
   ]
  },
  {
   "cell_type": "markdown",
   "metadata": {},
   "source": [
    "###  2016 Dataset\n",
    " \n",
    "This dataset, again, has a new format. The language results are stored in one column and not across multiple columns, delimitered by a semi-colon ``;``.  \n",
    "\n",
    "Therefore I have created a new function called ``explode_results`` which splits and counts responses and then returns the count dictionary."
   ]
  },
  {
   "cell_type": "code",
   "execution_count": 33,
   "metadata": {},
   "outputs": [
    {
     "data": {
      "text/plain": [
       "'datasets\\\\2016_survey_results_public.csv'"
      ]
     },
     "execution_count": 33,
     "metadata": {},
     "output_type": "execute_result"
    }
   ],
   "source": [
    "datasets[3]"
   ]
  },
  {
   "cell_type": "code",
   "execution_count": 35,
   "metadata": {},
   "outputs": [],
   "source": [
    "df_2016_data = pd.read_csv(datasets[3], index_col=None, header=0, encoding=\"utf-8\", low_memory=False)"
   ]
  },
  {
   "cell_type": "code",
   "execution_count": 36,
   "metadata": {},
   "outputs": [
    {
     "data": {
      "text/html": [
       "<div>\n",
       "<style scoped>\n",
       "    .dataframe tbody tr th:only-of-type {\n",
       "        vertical-align: middle;\n",
       "    }\n",
       "\n",
       "    .dataframe tbody tr th {\n",
       "        vertical-align: top;\n",
       "    }\n",
       "\n",
       "    .dataframe thead th {\n",
       "        text-align: right;\n",
       "    }\n",
       "</style>\n",
       "<table border=\"1\" class=\"dataframe\">\n",
       "  <thead>\n",
       "    <tr style=\"text-align: right;\">\n",
       "      <th></th>\n",
       "      <th>Unnamed: 0</th>\n",
       "      <th>collector</th>\n",
       "      <th>country</th>\n",
       "      <th>un_subregion</th>\n",
       "      <th>so_region</th>\n",
       "      <th>age_range</th>\n",
       "      <th>age_midpoint</th>\n",
       "      <th>gender</th>\n",
       "      <th>self_identification</th>\n",
       "      <th>occupation</th>\n",
       "      <th>...</th>\n",
       "      <th>important_sameend</th>\n",
       "      <th>important_newtech</th>\n",
       "      <th>important_buildnew</th>\n",
       "      <th>important_buildexisting</th>\n",
       "      <th>important_promotion</th>\n",
       "      <th>important_companymission</th>\n",
       "      <th>important_wfh</th>\n",
       "      <th>important_ownoffice</th>\n",
       "      <th>developer_challenges</th>\n",
       "      <th>why_stack_overflow</th>\n",
       "    </tr>\n",
       "  </thead>\n",
       "  <tbody>\n",
       "    <tr>\n",
       "      <th>0</th>\n",
       "      <td>1888</td>\n",
       "      <td>Facebook</td>\n",
       "      <td>Afghanistan</td>\n",
       "      <td>Southern Asia</td>\n",
       "      <td>Central Asia</td>\n",
       "      <td>20-24</td>\n",
       "      <td>22.0</td>\n",
       "      <td>Male</td>\n",
       "      <td>Programmer</td>\n",
       "      <td>NaN</td>\n",
       "      <td>...</td>\n",
       "      <td>NaN</td>\n",
       "      <td>NaN</td>\n",
       "      <td>NaN</td>\n",
       "      <td>NaN</td>\n",
       "      <td>NaN</td>\n",
       "      <td>NaN</td>\n",
       "      <td>NaN</td>\n",
       "      <td>NaN</td>\n",
       "      <td>NaN</td>\n",
       "      <td>NaN</td>\n",
       "    </tr>\n",
       "    <tr>\n",
       "      <th>1</th>\n",
       "      <td>4637</td>\n",
       "      <td>Facebook</td>\n",
       "      <td>Afghanistan</td>\n",
       "      <td>Southern Asia</td>\n",
       "      <td>Central Asia</td>\n",
       "      <td>30-34</td>\n",
       "      <td>32.0</td>\n",
       "      <td>Male</td>\n",
       "      <td>Developer; Engineer; Programmer</td>\n",
       "      <td>Mobile developer - iOS</td>\n",
       "      <td>...</td>\n",
       "      <td>This is somewhat important</td>\n",
       "      <td>This is very important</td>\n",
       "      <td>This is very important</td>\n",
       "      <td>I don't care about this</td>\n",
       "      <td>This is somewhat important</td>\n",
       "      <td>This is somewhat important</td>\n",
       "      <td>I don't care about this</td>\n",
       "      <td>I don't care about this</td>\n",
       "      <td>Unrealistic expectations; Interacting with non...</td>\n",
       "      <td>To get help for my job; Because I can't do my ...</td>\n",
       "    </tr>\n",
       "    <tr>\n",
       "      <th>2</th>\n",
       "      <td>11164</td>\n",
       "      <td>Facebook</td>\n",
       "      <td>Afghanistan</td>\n",
       "      <td>Southern Asia</td>\n",
       "      <td>Central Asia</td>\n",
       "      <td>NaN</td>\n",
       "      <td>NaN</td>\n",
       "      <td>NaN</td>\n",
       "      <td>NaN</td>\n",
       "      <td>NaN</td>\n",
       "      <td>...</td>\n",
       "      <td>NaN</td>\n",
       "      <td>NaN</td>\n",
       "      <td>NaN</td>\n",
       "      <td>NaN</td>\n",
       "      <td>NaN</td>\n",
       "      <td>NaN</td>\n",
       "      <td>NaN</td>\n",
       "      <td>NaN</td>\n",
       "      <td>NaN</td>\n",
       "      <td>NaN</td>\n",
       "    </tr>\n",
       "    <tr>\n",
       "      <th>3</th>\n",
       "      <td>21378</td>\n",
       "      <td>Facebook</td>\n",
       "      <td>Afghanistan</td>\n",
       "      <td>Southern Asia</td>\n",
       "      <td>Central Asia</td>\n",
       "      <td>NaN</td>\n",
       "      <td>NaN</td>\n",
       "      <td>Female</td>\n",
       "      <td>Engineer</td>\n",
       "      <td>DevOps</td>\n",
       "      <td>...</td>\n",
       "      <td>I don't care about this</td>\n",
       "      <td>This is somewhat important</td>\n",
       "      <td>This is very important</td>\n",
       "      <td>This is very important</td>\n",
       "      <td>I don't care about this</td>\n",
       "      <td>I don't care about this</td>\n",
       "      <td>This is very important</td>\n",
       "      <td>This is somewhat important</td>\n",
       "      <td>Corporate policies; Interacting with non-techn...</td>\n",
       "      <td>To get help for my job; Beacause I love to learn</td>\n",
       "    </tr>\n",
       "    <tr>\n",
       "      <th>4</th>\n",
       "      <td>30280</td>\n",
       "      <td>Facebook</td>\n",
       "      <td>Afghanistan</td>\n",
       "      <td>Southern Asia</td>\n",
       "      <td>Central Asia</td>\n",
       "      <td>&gt; 60</td>\n",
       "      <td>65.0</td>\n",
       "      <td>Prefer not to disclose</td>\n",
       "      <td>Developer; Engineer; Programmer; Sr. Developer...</td>\n",
       "      <td>NaN</td>\n",
       "      <td>...</td>\n",
       "      <td>NaN</td>\n",
       "      <td>NaN</td>\n",
       "      <td>NaN</td>\n",
       "      <td>NaN</td>\n",
       "      <td>NaN</td>\n",
       "      <td>NaN</td>\n",
       "      <td>NaN</td>\n",
       "      <td>NaN</td>\n",
       "      <td>NaN</td>\n",
       "      <td>NaN</td>\n",
       "    </tr>\n",
       "  </tbody>\n",
       "</table>\n",
       "<p>5 rows × 66 columns</p>\n",
       "</div>"
      ],
      "text/plain": [
       "   Unnamed: 0 collector      country   un_subregion     so_region age_range  \\\n",
       "0        1888  Facebook  Afghanistan  Southern Asia  Central Asia     20-24   \n",
       "1        4637  Facebook  Afghanistan  Southern Asia  Central Asia     30-34   \n",
       "2       11164  Facebook  Afghanistan  Southern Asia  Central Asia       NaN   \n",
       "3       21378  Facebook  Afghanistan  Southern Asia  Central Asia       NaN   \n",
       "4       30280  Facebook  Afghanistan  Southern Asia  Central Asia      > 60   \n",
       "\n",
       "   age_midpoint                  gender  \\\n",
       "0          22.0                    Male   \n",
       "1          32.0                    Male   \n",
       "2           NaN                     NaN   \n",
       "3           NaN                  Female   \n",
       "4          65.0  Prefer not to disclose   \n",
       "\n",
       "                                 self_identification              occupation  \\\n",
       "0                                         Programmer                     NaN   \n",
       "1                    Developer; Engineer; Programmer  Mobile developer - iOS   \n",
       "2                                                NaN                     NaN   \n",
       "3                                           Engineer                  DevOps   \n",
       "4  Developer; Engineer; Programmer; Sr. Developer...                     NaN   \n",
       "\n",
       "                         ...                          \\\n",
       "0                        ...                           \n",
       "1                        ...                           \n",
       "2                        ...                           \n",
       "3                        ...                           \n",
       "4                        ...                           \n",
       "\n",
       "            important_sameend           important_newtech  \\\n",
       "0                         NaN                         NaN   \n",
       "1  This is somewhat important      This is very important   \n",
       "2                         NaN                         NaN   \n",
       "3     I don't care about this  This is somewhat important   \n",
       "4                         NaN                         NaN   \n",
       "\n",
       "       important_buildnew  important_buildexisting  \\\n",
       "0                     NaN                      NaN   \n",
       "1  This is very important  I don't care about this   \n",
       "2                     NaN                      NaN   \n",
       "3  This is very important   This is very important   \n",
       "4                     NaN                      NaN   \n",
       "\n",
       "          important_promotion    important_companymission  \\\n",
       "0                         NaN                         NaN   \n",
       "1  This is somewhat important  This is somewhat important   \n",
       "2                         NaN                         NaN   \n",
       "3     I don't care about this     I don't care about this   \n",
       "4                         NaN                         NaN   \n",
       "\n",
       "             important_wfh         important_ownoffice  \\\n",
       "0                      NaN                         NaN   \n",
       "1  I don't care about this     I don't care about this   \n",
       "2                      NaN                         NaN   \n",
       "3   This is very important  This is somewhat important   \n",
       "4                      NaN                         NaN   \n",
       "\n",
       "                                developer_challenges  \\\n",
       "0                                                NaN   \n",
       "1  Unrealistic expectations; Interacting with non...   \n",
       "2                                                NaN   \n",
       "3  Corporate policies; Interacting with non-techn...   \n",
       "4                                                NaN   \n",
       "\n",
       "                                  why_stack_overflow  \n",
       "0                                                NaN  \n",
       "1  To get help for my job; Because I can't do my ...  \n",
       "2                                                NaN  \n",
       "3   To get help for my job; Beacause I love to learn  \n",
       "4                                                NaN  \n",
       "\n",
       "[5 rows x 66 columns]"
      ]
     },
     "execution_count": 36,
     "metadata": {},
     "output_type": "execute_result"
    }
   ],
   "source": [
    "df_2016_data.head()"
   ]
  },
  {
   "cell_type": "code",
   "execution_count": 37,
   "metadata": {},
   "outputs": [],
   "source": [
    "def explode_results(data, column):\n",
    "    '''\n",
    "    INPUT - data - DataFrame - the dataframe we would like to process\n",
    "            column - string - the column we would like to search for\n",
    "    OUTPUT - \n",
    "            dict - the resulting dictionary where languages are keys and the values are their respective counts\n",
    "    '''\n",
    "    results = defaultdict(int)\n",
    "    for index, row in data.iterrows():\n",
    "        if row[column] is not np.nan:\n",
    "            for val in row[column].split(';'):\n",
    "                results[val.strip()] += 1\n",
    "    return dict(results)"
   ]
  },
  {
   "cell_type": "code",
   "execution_count": 38,
   "metadata": {},
   "outputs": [],
   "source": [
    "df_2016_languages = explode_results(df_2016_data, 'tech_do')"
   ]
  },
  {
   "cell_type": "code",
   "execution_count": 39,
   "metadata": {},
   "outputs": [
    {
     "data": {
      "text/plain": [
       "{'iOS': 4498,\n",
       " 'Objective-C': 3202,\n",
       " 'Android': 8601,\n",
       " 'Arduino / Raspberry Pi': 3797,\n",
       " 'AngularJS': 8823,\n",
       " 'C': 7678,\n",
       " 'C++': 9589,\n",
       " 'C#': 15283,\n",
       " 'Cassandra': 663,\n",
       " 'CoffeeScript': 1662,\n",
       " 'Cordova': 1651,\n",
       " 'Clojure': 556,\n",
       " 'Cloud (AWS, GAE, Azure, etc.)': 4629,\n",
       " 'Dart': 222,\n",
       " 'F#': 484,\n",
       " 'Go': 1547,\n",
       " 'Hadoop': 1012,\n",
       " 'Haskell': 813,\n",
       " 'Java': 17942,\n",
       " 'JavaScript': 27385,\n",
       " 'LAMP': 4821,\n",
       " 'Matlab': 1602,\n",
       " 'MongoDB': 4780,\n",
       " 'Node.js': 8509,\n",
       " 'Perl': 1624,\n",
       " 'PHP': 12780,\n",
       " 'Python': 12282,\n",
       " 'R': 1632,\n",
       " 'ReactJS': 2541,\n",
       " 'Redis': 2862,\n",
       " 'Ruby': 4383,\n",
       " 'Rust': 436,\n",
       " 'Salesforce': 665,\n",
       " 'Scala': 1602,\n",
       " 'SharePoint': 853,\n",
       " 'Spark': 707,\n",
       " 'SQL': 21976,\n",
       " 'SQL Server': 9306,\n",
       " 'Swift': 2746,\n",
       " 'Visual Basic': 3312,\n",
       " 'Windows Phone': 1123,\n",
       " 'WordPress': 4496}"
      ]
     },
     "execution_count": 39,
     "metadata": {},
     "output_type": "execute_result"
    }
   ],
   "source": [
    "df_2016_languages"
   ]
  },
  {
   "cell_type": "markdown",
   "metadata": {},
   "source": [
    "This dictionary can be passed to the ``percentage_dict`` function."
   ]
  },
  {
   "cell_type": "code",
   "execution_count": 40,
   "metadata": {},
   "outputs": [
    {
     "name": "stdout",
     "output_type": "stream",
     "text": [
      "Rows Before: 56030\n",
      "Rows After: 49025\n"
     ]
    }
   ],
   "source": [
    "results['2016'] = percentage_dict(df_2016_languages, df_2016_data, 'tech_do')"
   ]
  },
  {
   "cell_type": "markdown",
   "metadata": {},
   "source": [
    "### 2017 Dataset\n",
    "\n",
    "The following two datasets are in a new, consistent format with an accompanying schema. Similarly to 2016, they are stored in a single column and semi-colon delimitered. Therefore, our ``explode_results`` function still works appropriately."
   ]
  },
  {
   "cell_type": "code",
   "execution_count": 41,
   "metadata": {},
   "outputs": [],
   "source": [
    "df_2017_data = pd.read_csv(datasets[4], index_col=None, header=0, encoding=\"utf-8\", low_memory=False)"
   ]
  },
  {
   "cell_type": "code",
   "execution_count": 42,
   "metadata": {},
   "outputs": [
    {
     "data": {
      "text/plain": [
       "0                            Swift\n",
       "1    JavaScript; Python; Ruby; SQL\n",
       "2                Java; PHP; Python\n",
       "3           Matlab; Python; R; SQL\n",
       "4                              NaN\n",
       "Name: HaveWorkedLanguage, dtype: object"
      ]
     },
     "execution_count": 42,
     "metadata": {},
     "output_type": "execute_result"
    }
   ],
   "source": [
    "df_2017_data['HaveWorkedLanguage'].head()"
   ]
  },
  {
   "cell_type": "code",
   "execution_count": 43,
   "metadata": {},
   "outputs": [],
   "source": [
    "df_2017_languages = explode_results(df_2017_data, 'HaveWorkedLanguage')"
   ]
  },
  {
   "cell_type": "code",
   "execution_count": 44,
   "metadata": {},
   "outputs": [
    {
     "data": {
      "text/plain": [
       "{'Swift': 2368,\n",
       " 'JavaScript': 22875,\n",
       " 'Python': 11704,\n",
       " 'Ruby': 3324,\n",
       " 'SQL': 18754,\n",
       " 'Java': 14524,\n",
       " 'PHP': 10290,\n",
       " 'Matlab': 1569,\n",
       " 'R': 1634,\n",
       " 'Rust': 416,\n",
       " 'CoffeeScript': 1192,\n",
       " 'Clojure': 391,\n",
       " 'Elixir': 380,\n",
       " 'Erlang': 281,\n",
       " 'Haskell': 649,\n",
       " 'C#': 12476,\n",
       " 'Objective-C': 2349,\n",
       " 'C': 6974,\n",
       " 'C++': 8155,\n",
       " 'Assembly': 1823,\n",
       " 'VB.NET': 2273,\n",
       " 'Perl': 1585,\n",
       " 'Scala': 1309,\n",
       " 'F#': 457,\n",
       " 'TypeScript': 3488,\n",
       " 'Lua': 1039,\n",
       " 'VBA': 1574,\n",
       " 'Groovy': 1193,\n",
       " 'Go': 1557,\n",
       " 'Smalltalk': 327,\n",
       " 'Visual Basic 6': 1071,\n",
       " 'Common Lisp': 273,\n",
       " 'Dart': 145,\n",
       " 'Julia': 138,\n",
       " 'Hack': 107}"
      ]
     },
     "execution_count": 44,
     "metadata": {},
     "output_type": "execute_result"
    }
   ],
   "source": [
    "df_2017_languages"
   ]
  },
  {
   "cell_type": "code",
   "execution_count": 45,
   "metadata": {},
   "outputs": [
    {
     "name": "stdout",
     "output_type": "stream",
     "text": [
      "Rows Before: 51392\n",
      "Rows After: 36625\n"
     ]
    }
   ],
   "source": [
    "results['2017'] = percentage_dict(df_2017_languages, df_2017_data, 'HaveWorkedLanguage')"
   ]
  },
  {
   "cell_type": "markdown",
   "metadata": {},
   "source": [
    "### 2018 Dataset\n",
    "\n",
    "Although stored similarly, there is a slight change in the way data is stored (colon only) which meant a change was neccessary in the ``explode_results`` function. Instead of splitting on ``; `` (colon whitespace), I removed the whitespace and stripped the strings in the resulting array."
   ]
  },
  {
   "cell_type": "code",
   "execution_count": 46,
   "metadata": {},
   "outputs": [],
   "source": [
    "df_2018_data = pd.read_csv(datasets[5], index_col=None, header=0, encoding=\"utf-8\", low_memory=False)"
   ]
  },
  {
   "cell_type": "code",
   "execution_count": 47,
   "metadata": {},
   "outputs": [
    {
     "data": {
      "text/plain": [
       "0                          JavaScript;Python;HTML;CSS\n",
       "1                        JavaScript;Python;Bash/Shell\n",
       "2                                                 NaN\n",
       "3    C#;JavaScript;SQL;TypeScript;HTML;CSS;Bash/Shell\n",
       "4                  C;C++;Java;Matlab;R;SQL;Bash/Shell\n",
       "Name: LanguageWorkedWith, dtype: object"
      ]
     },
     "execution_count": 47,
     "metadata": {},
     "output_type": "execute_result"
    }
   ],
   "source": [
    "df_2018_data['LanguageWorkedWith'].head()"
   ]
  },
  {
   "cell_type": "code",
   "execution_count": 48,
   "metadata": {},
   "outputs": [],
   "source": [
    "df_2018_languages = explode_results(df_2018_data, 'LanguageWorkedWith')"
   ]
  },
  {
   "cell_type": "code",
   "execution_count": 49,
   "metadata": {},
   "outputs": [
    {
     "data": {
      "text/plain": [
       "{'JavaScript': 54686,\n",
       " 'Python': 30359,\n",
       " 'HTML': 53628,\n",
       " 'CSS': 50979,\n",
       " 'Bash/Shell': 31172,\n",
       " 'C#': 26954,\n",
       " 'SQL': 44670,\n",
       " 'TypeScript': 13626,\n",
       " 'C': 18042,\n",
       " 'C++': 19872,\n",
       " 'Java': 35521,\n",
       " 'Matlab': 4564,\n",
       " 'R': 4813,\n",
       " 'Assembly': 5760,\n",
       " 'CoffeeScript': 2603,\n",
       " 'Erlang': 886,\n",
       " 'Go': 5532,\n",
       " 'Lua': 2733,\n",
       " 'Ruby': 7911,\n",
       " 'PHP': 24071,\n",
       " 'VB.NET': 5254,\n",
       " 'Swift': 6310,\n",
       " 'Groovy': 3373,\n",
       " 'Kotlin': 3508,\n",
       " 'Objective-C': 5510,\n",
       " 'Scala': 3420,\n",
       " 'F#': 1115,\n",
       " 'Haskell': 1961,\n",
       " 'Rust': 1857,\n",
       " 'Julia': 430,\n",
       " 'VBA': 3810,\n",
       " 'Perl': 3280,\n",
       " 'Cobol': 590,\n",
       " 'Visual Basic 6': 3087,\n",
       " 'Delphi/Object Pascal': 2025,\n",
       " 'Hack': 254,\n",
       " 'Clojure': 1032,\n",
       " 'Ocaml': 470}"
      ]
     },
     "execution_count": 49,
     "metadata": {},
     "output_type": "execute_result"
    }
   ],
   "source": [
    "df_2018_languages"
   ]
  },
  {
   "cell_type": "code",
   "execution_count": 50,
   "metadata": {},
   "outputs": [
    {
     "name": "stdout",
     "output_type": "stream",
     "text": [
      "Rows Before: 98855\n",
      "Rows After: 78334\n"
     ]
    }
   ],
   "source": [
    "results[\"2018\"] = percentage_dict(df_2018_languages, df_2018_data, 'LanguageWorkedWith')"
   ]
  },
  {
   "cell_type": "code",
   "execution_count": null,
   "metadata": {},
   "outputs": [],
   "source": []
  }
 ],
 "metadata": {
  "kernelspec": {
   "display_name": "Python 3",
   "language": "python",
   "name": "python3"
  },
  "language_info": {
   "codemirror_mode": {
    "name": "ipython",
    "version": 3
   },
   "file_extension": ".py",
   "mimetype": "text/x-python",
   "name": "python",
   "nbconvert_exporter": "python",
   "pygments_lexer": "ipython3",
   "version": "3.6.5"
  }
 },
 "nbformat": 4,
 "nbformat_minor": 2
}
