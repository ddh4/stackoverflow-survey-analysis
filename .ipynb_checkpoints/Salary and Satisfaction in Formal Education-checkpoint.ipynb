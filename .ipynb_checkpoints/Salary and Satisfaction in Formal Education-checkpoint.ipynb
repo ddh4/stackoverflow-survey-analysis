{
 "cells": [
  {
   "cell_type": "markdown",
   "metadata": {},
   "source": [
    "# Stack Overflow Data (2011-2018)\n",
    "\n",
    "## CRISP-DM\n",
    "\n",
    "<img src=\"images/crisp-dm-wikipedia.png\" width=\"300\" height=\"300\" >\n",
    "\n",
    "\n",
    "### Business Understanding\n",
    "\n",
    "Deriving understanding can be data driven or objective driven, i.e. we have access to data and forumate questions based on what is available, or we pose questions and gather data that will be useful in solving the questions. \n",
    "\n",
    "<img src=\"images/data-question-solution.png\" width=\"500\" >\n",
    "\n",
    "In this project, our questions are motivated by the available data as we have access to a wealth of information provided by StackOverflow pertaining to responses regarding developer experience from their most comprehensive survey of software developers, available [here](https://insights.stackoverflow.com/survey). The questions posed in these surveys capture information from career satisfaction and job search to education and sound preference when coding.\n",
    "\n",
    "The questions derived from the data are the following:\n",
    "\n",
    "1. What are the formal education levels of people in tech?\n",
    "2. What are the salary distributions of each formal education level?\n",
    "3. What are the job satisfaction distributions of each formal education level?\n",
    "4. What are the most popular language trends for the past 6 years?\n",
    "5. What are the most popular job roles and their salaries?\n",
    "\n",
    "\n",
    "### Data Understanding\n",
    "\n",
    "As mentioned, the data has been made publically available by StackOverlow and therefore has been downloaded and stored in the ``datasets`` repository. The data gathered by StackOverflow is over a period of 6 years, specifically from 2013 to 2018. It would be expected that, for a variety of reasons, the questions posed in these surveys and the format of the answers, have changed over time. \n",
    "\n",
    "The format of questions and how the data is stored has varied over the years. The earlier datasets are quite cumbersome in how the questions and responses are stored, but the later years, 2017 & 2018, consist of a more robust standard and include an accompanying data dictionary. Some changes are only minor, i.e. years 2013 & 2014, such as including more topical questions to guage online interaction with the StackOverflow platform, whereas others are more dramatic, i.e. 2016, which changes the entire layout of how the data is captured.\n",
    "\n",
    "| Format |  2011  |  2012  |  2013  |   2014  |  2015  |   2016  |   2017  |   2018  |\n",
    "|------|------|------|------|------|------|------|------|------|\n",
    "|1|Y|Y|-|-|-|-|-|-|\n",
    "|2|-|-|Y|-|-|-|-|-|\n",
    "|3|-|-|-|Y|-|-|-|-|\n",
    "|4|-|-|-|-|Y|-|-|-|\n",
    "|5|-|-|-|-|-|Y|-|-|\n",
    "|6|-|-|-|-|-|-|Y|Y|\n",
    "\n",
    "We will use Stack Overflow 2018 dataset for questions 1,2,3 and 5 and use 2013-2018 datasets for question 3.\n",
    "\n",
    "\n",
    "### Prepare Data\n",
    "\n",
    "This is commonly denoted as 80% of the process and the steps are documented in the notebook below, which includes loading the data into DataFrame objects, handling missing data, computing statistics and engineering new features and creating plotting functions to explain our business questions. The multiple formats add considerable complexity during the data science process in the data wrangling phase as we need to ensure attributes are consistent, same format and on the same scale.\n",
    "\n",
    "### Model Data\n",
    "\n",
    "In this project, we do not implement any predictive models but we opt for exploratory data analysis techniques and trend analysis over multiple datasets to assist in explaining our business questions.\n",
    "\n",
    "### Results\n",
    "\n",
    "Results are the findings from our wrangling and modeling and discussed in the blog post. As a result of our wrangling procedures, it enabled us to utilise matplotlib and seaborn to produce graphs to demonstrate our findings.\n"
   ]
  },
  {
   "cell_type": "markdown",
   "metadata": {},
   "source": [
    "## Load Datasets and Schemas\n",
    "\n",
    "Firstly, we import the necessary packages and libraries. \n",
    "1. NumPy - the fundamental package for scientific computing with Python. \n",
    "2. Pandas - a library providing high-performance, easy-to-use data structures and data analysis tools for the Python programming language.\n",
    "3. Matplotlib - a Python 2D plotting library which produces publication quality figures in a variety of hardcopy formats and interactive environments across platforms.\n",
    "4. Seaborn - a Python data visualization library based on matplotlib. It provides a high-level interface for drawing attractive and informative statistical graphics.\n",
    "5. glob - a module that finds all the pathnames matching a specified pattern according to the rules.\n",
    "\n",
    "We get the paths of all survey data between 2013-2018 into an array by finding files ending in ``_public.csv``. We will also get the paths of the schemas, by finding files ending in ``_schema.csv``. This can easily be achieved with ``glob``."
   ]
  },
  {
   "cell_type": "code",
   "execution_count": 5,
   "metadata": {},
   "outputs": [],
   "source": [
    "import numpy as np\n",
    "import pandas as pd\n",
    "import matplotlib.pyplot as plt\n",
    "import glob\n",
    "from IPython import display\n",
    "import seaborn as sns\n",
    "from sklearn.preprocessing import MinMaxScaler\n",
    "\n",
    "%matplotlib inline"
   ]
  },
  {
   "cell_type": "code",
   "execution_count": 7,
   "metadata": {},
   "outputs": [
    {
     "data": {
      "text/plain": [
       "['datasets\\\\2013_survey_results_public.csv',\n",
       " 'datasets\\\\2014_survey_results_public.csv',\n",
       " 'datasets\\\\2015_survey_results_public.csv',\n",
       " 'datasets\\\\2016_survey_results_public.csv',\n",
       " 'datasets\\\\2017_survey_results_public.csv',\n",
       " 'datasets\\\\2018_survey_results_public.csv']"
      ]
     },
     "execution_count": 7,
     "metadata": {},
     "output_type": "execute_result"
    }
   ],
   "source": [
    "datasets = glob.glob(\"datasets/*_public.csv\")\n",
    "datasets"
   ]
  },
  {
   "cell_type": "code",
   "execution_count": 8,
   "metadata": {},
   "outputs": [
    {
     "data": {
      "text/plain": [
       "['datasets\\\\2017_survey_results_schema.csv',\n",
       " 'datasets\\\\2018_survey_results_schema.csv']"
      ]
     },
     "execution_count": 8,
     "metadata": {},
     "output_type": "execute_result"
    }
   ],
   "source": [
    "schemas = glob.glob(\"datasets/*_schema.csv\")\n",
    "schemas"
   ]
  },
  {
   "cell_type": "markdown",
   "metadata": {},
   "source": [
    "# Question 1: Formal Education Level in Tech\n",
    "\n",
    "The questions posed in this project are based around giving aspiring developers, students and people making career moves the information necessary to understand formal education related to potential salary and satisfaction to determine how far the should need/want to pursue formal education.\n",
    "\n",
    "Therefore, our first question pertains to the formal education levels of Stack Overflow users in 2018 and therefore will load the 2018 dataset and relevant schema. "
   ]
  },
  {
   "cell_type": "code",
   "execution_count": 9,
   "metadata": {},
   "outputs": [],
   "source": [
    "df_2018 = pd.read_csv(datasets[5], index_col=None, header=0, encoding=\"utf-8\", low_memory=False)\n",
    "df_2018_schema = pd.read_csv(schemas[1], index_col=None, header=0, encoding=\"utf-8\", names=['Column', 'Question'])"
   ]
  },
  {
   "cell_type": "code",
   "execution_count": 10,
   "metadata": {},
   "outputs": [
    {
     "data": {
      "text/html": [
       "<div>\n",
       "<style scoped>\n",
       "    .dataframe tbody tr th:only-of-type {\n",
       "        vertical-align: middle;\n",
       "    }\n",
       "\n",
       "    .dataframe tbody tr th {\n",
       "        vertical-align: top;\n",
       "    }\n",
       "\n",
       "    .dataframe thead th {\n",
       "        text-align: right;\n",
       "    }\n",
       "</style>\n",
       "<table border=\"1\" class=\"dataframe\">\n",
       "  <thead>\n",
       "    <tr style=\"text-align: right;\">\n",
       "      <th></th>\n",
       "      <th>Respondent</th>\n",
       "      <th>Hobby</th>\n",
       "      <th>OpenSource</th>\n",
       "      <th>Country</th>\n",
       "      <th>Student</th>\n",
       "      <th>Employment</th>\n",
       "      <th>FormalEducation</th>\n",
       "      <th>UndergradMajor</th>\n",
       "      <th>CompanySize</th>\n",
       "      <th>DevType</th>\n",
       "      <th>...</th>\n",
       "      <th>Exercise</th>\n",
       "      <th>Gender</th>\n",
       "      <th>SexualOrientation</th>\n",
       "      <th>EducationParents</th>\n",
       "      <th>RaceEthnicity</th>\n",
       "      <th>Age</th>\n",
       "      <th>Dependents</th>\n",
       "      <th>MilitaryUS</th>\n",
       "      <th>SurveyTooLong</th>\n",
       "      <th>SurveyEasy</th>\n",
       "    </tr>\n",
       "  </thead>\n",
       "  <tbody>\n",
       "    <tr>\n",
       "      <th>0</th>\n",
       "      <td>1</td>\n",
       "      <td>Yes</td>\n",
       "      <td>No</td>\n",
       "      <td>Kenya</td>\n",
       "      <td>No</td>\n",
       "      <td>Employed part-time</td>\n",
       "      <td>Bachelor’s degree (BA, BS, B.Eng., etc.)</td>\n",
       "      <td>Mathematics or statistics</td>\n",
       "      <td>20 to 99 employees</td>\n",
       "      <td>Full-stack developer</td>\n",
       "      <td>...</td>\n",
       "      <td>3 - 4 times per week</td>\n",
       "      <td>Male</td>\n",
       "      <td>Straight or heterosexual</td>\n",
       "      <td>Bachelor’s degree (BA, BS, B.Eng., etc.)</td>\n",
       "      <td>Black or of African descent</td>\n",
       "      <td>25 - 34 years old</td>\n",
       "      <td>Yes</td>\n",
       "      <td>NaN</td>\n",
       "      <td>The survey was an appropriate length</td>\n",
       "      <td>Very easy</td>\n",
       "    </tr>\n",
       "    <tr>\n",
       "      <th>1</th>\n",
       "      <td>3</td>\n",
       "      <td>Yes</td>\n",
       "      <td>Yes</td>\n",
       "      <td>United Kingdom</td>\n",
       "      <td>No</td>\n",
       "      <td>Employed full-time</td>\n",
       "      <td>Bachelor’s degree (BA, BS, B.Eng., etc.)</td>\n",
       "      <td>A natural science (ex. biology, chemistry, phy...</td>\n",
       "      <td>10,000 or more employees</td>\n",
       "      <td>Database administrator;DevOps specialist;Full-...</td>\n",
       "      <td>...</td>\n",
       "      <td>Daily or almost every day</td>\n",
       "      <td>Male</td>\n",
       "      <td>Straight or heterosexual</td>\n",
       "      <td>Bachelor’s degree (BA, BS, B.Eng., etc.)</td>\n",
       "      <td>White or of European descent</td>\n",
       "      <td>35 - 44 years old</td>\n",
       "      <td>Yes</td>\n",
       "      <td>NaN</td>\n",
       "      <td>The survey was an appropriate length</td>\n",
       "      <td>Somewhat easy</td>\n",
       "    </tr>\n",
       "  </tbody>\n",
       "</table>\n",
       "<p>2 rows × 129 columns</p>\n",
       "</div>"
      ],
      "text/plain": [
       "   Respondent Hobby OpenSource         Country Student          Employment  \\\n",
       "0           1   Yes         No           Kenya      No  Employed part-time   \n",
       "1           3   Yes        Yes  United Kingdom      No  Employed full-time   \n",
       "\n",
       "                            FormalEducation  \\\n",
       "0  Bachelor’s degree (BA, BS, B.Eng., etc.)   \n",
       "1  Bachelor’s degree (BA, BS, B.Eng., etc.)   \n",
       "\n",
       "                                      UndergradMajor  \\\n",
       "0                          Mathematics or statistics   \n",
       "1  A natural science (ex. biology, chemistry, phy...   \n",
       "\n",
       "                CompanySize  \\\n",
       "0        20 to 99 employees   \n",
       "1  10,000 or more employees   \n",
       "\n",
       "                                             DevType      ...        \\\n",
       "0                               Full-stack developer      ...         \n",
       "1  Database administrator;DevOps specialist;Full-...      ...         \n",
       "\n",
       "                    Exercise Gender         SexualOrientation  \\\n",
       "0       3 - 4 times per week   Male  Straight or heterosexual   \n",
       "1  Daily or almost every day   Male  Straight or heterosexual   \n",
       "\n",
       "                           EducationParents                 RaceEthnicity  \\\n",
       "0  Bachelor’s degree (BA, BS, B.Eng., etc.)   Black or of African descent   \n",
       "1  Bachelor’s degree (BA, BS, B.Eng., etc.)  White or of European descent   \n",
       "\n",
       "                 Age Dependents  MilitaryUS  \\\n",
       "0  25 - 34 years old        Yes         NaN   \n",
       "1  35 - 44 years old        Yes         NaN   \n",
       "\n",
       "                          SurveyTooLong     SurveyEasy  \n",
       "0  The survey was an appropriate length      Very easy  \n",
       "1  The survey was an appropriate length  Somewhat easy  \n",
       "\n",
       "[2 rows x 129 columns]"
      ]
     },
     "execution_count": 10,
     "metadata": {},
     "output_type": "execute_result"
    }
   ],
   "source": [
    "df_2018.head(2)"
   ]
  },
  {
   "cell_type": "code",
   "execution_count": 11,
   "metadata": {},
   "outputs": [
    {
     "data": {
      "text/html": [
       "<div>\n",
       "<style scoped>\n",
       "    .dataframe tbody tr th:only-of-type {\n",
       "        vertical-align: middle;\n",
       "    }\n",
       "\n",
       "    .dataframe tbody tr th {\n",
       "        vertical-align: top;\n",
       "    }\n",
       "\n",
       "    .dataframe thead th {\n",
       "        text-align: right;\n",
       "    }\n",
       "</style>\n",
       "<table border=\"1\" class=\"dataframe\">\n",
       "  <thead>\n",
       "    <tr style=\"text-align: right;\">\n",
       "      <th></th>\n",
       "      <th>Column</th>\n",
       "      <th>Question</th>\n",
       "    </tr>\n",
       "  </thead>\n",
       "  <tbody>\n",
       "    <tr>\n",
       "      <th>0</th>\n",
       "      <td>Respondent</td>\n",
       "      <td>Randomized respondent ID number (not in order ...</td>\n",
       "    </tr>\n",
       "    <tr>\n",
       "      <th>1</th>\n",
       "      <td>Hobby</td>\n",
       "      <td>Do you code as a hobby?</td>\n",
       "    </tr>\n",
       "  </tbody>\n",
       "</table>\n",
       "</div>"
      ],
      "text/plain": [
       "       Column                                           Question\n",
       "0  Respondent  Randomized respondent ID number (not in order ...\n",
       "1       Hobby                            Do you code as a hobby?"
      ]
     },
     "execution_count": 11,
     "metadata": {},
     "output_type": "execute_result"
    }
   ],
   "source": [
    "df_2018_schema.head(2)"
   ]
  },
  {
   "cell_type": "markdown",
   "metadata": {},
   "source": [
    "I created a few functions with the aim of removing redudant code in the following questions. \n",
    "- Firstly, ``check_missing`` determines how much missing data exists in a column.\n",
    "- Secondly, ``remove_rows`` removes rows with a certain value or nulls.\n",
    "- Thirdly, ``get_description`` returns the question text from the schema.\n",
    "- Fourthly, ``column_analysis`` returns a DataFrame with columns regarding counts and percentage of the overall data. \n",
    "- Lastly, ``plot_bar`` plots a bar chart of the specified data."
   ]
  },
  {
   "cell_type": "code",
   "execution_count": 12,
   "metadata": {},
   "outputs": [],
   "source": [
    "def check_missing(column_name, dataset):\n",
    "    '''\n",
    "    INPUT - dataset - pandas dataframe with the dataset of the developers survey\n",
    "            column_name - string - the name of the column you would like to know about\n",
    "    OUTPUT - \n",
    "            missing - string - the percentage of the column which data is missing.\n",
    "    '''\n",
    "    missing = dataset[column_name].isnull().mean()\n",
    "    \n",
    "    return missing"
   ]
  },
  {
   "cell_type": "code",
   "execution_count": 13,
   "metadata": {},
   "outputs": [],
   "source": [
    "def remove_rows(dataset, col, vals=[], values=False, nulls=True):\n",
    "    '''\n",
    "    INPUT - dataset - pandas dataframe with the dataset of the developers survey\n",
    "            col - string - the name of the column you would like to select\n",
    "            vals - list of strings - the names of the values you would like to remove\n",
    "            values - boolean - true to remove values.\n",
    "            nulls - boolean - remove nulls for a specified column\n",
    "    OUTPUT - \n",
    "            A subset of the original data with the specified values or nulls removed\n",
    "    ''' \n",
    "    if values:\n",
    "        if len(vals) >= 1:\n",
    "            for val in vals:\n",
    "                dataset = dataset[dataset[col] != val]\n",
    "    \n",
    "    if nulls:\n",
    "        dataset = dataset.dropna(how='any', subset = [col], axis=0)\n",
    "        \n",
    "    return dataset"
   ]
  },
  {
   "cell_type": "code",
   "execution_count": 14,
   "metadata": {},
   "outputs": [],
   "source": [
    "def get_description(column_name, schema):\n",
    "    '''\n",
    "    INPUT - schema - pandas dataframe with the schema of the developers survey\n",
    "            column_name - string - the name of the column you would like to know about\n",
    "    OUTPUT - \n",
    "            desc - string - the description of the column\n",
    "    '''\n",
    "    desc = list(schema[schema['Column'] == column_name]['Question'])[0]\n",
    "    return desc"
   ]
  },
  {
   "cell_type": "code",
   "execution_count": 15,
   "metadata": {},
   "outputs": [],
   "source": [
    "def column_analysis(column_name, dataset):\n",
    "    '''\n",
    "    INPUT - dataset - pandas dataframe with the dataset of the developers survey\n",
    "            column_name - string - the name of the column you would like to know about\n",
    "    OUTPUT - \n",
    "            info - string - the counts and percentages of formal educations\n",
    "    '''\n",
    "    info = pd.DataFrame(dataset[column_name].value_counts()).reset_index()\n",
    "    info.columns = [column_name, 'Count']\n",
    "    info['Percent'] = info['Count']/np.sum(info['Count'])\n",
    "    \n",
    "    return info"
   ]
  },
  {
   "cell_type": "code",
   "execution_count": 16,
   "metadata": {},
   "outputs": [],
   "source": [
    "def plot_bar(dataset, x, y, show_outliers=True):\n",
    "    '''\n",
    "    INPUT - dataset - pandas dataframe with the dataset of the developers survey\n",
    "            x - string - the name of the column you would like to group by\n",
    "            y - string - the name of the column you would like to visualise\n",
    "    OUTPUT - \n",
    "            A box plot of the user specified data\n",
    "    '''\n",
    "    # Create box plot with Seaborn's default settings\n",
    "    ax = dataset.plot.barh(x=x, y=y, legend=None)\n",
    "    ax.set_xlabel(y)\n",
    "    ax.set_ylabel(\"\")\n",
    "    ax.invert_yaxis()"
   ]
  },
  {
   "cell_type": "markdown",
   "metadata": {},
   "source": [
    "We are interested primarily in the ``FormalEducation`` column in the 2018 dataset, ``df_2018``. Therefore, we can groupby the ``FormalEducation`` column and obtain high level statistics regarding ``ConvertedSalary``."
   ]
  },
  {
   "cell_type": "code",
   "execution_count": 17,
   "metadata": {},
   "outputs": [
    {
     "data": {
      "text/html": [
       "<div>\n",
       "<style scoped>\n",
       "    .dataframe tbody tr th:only-of-type {\n",
       "        vertical-align: middle;\n",
       "    }\n",
       "\n",
       "    .dataframe tbody tr th {\n",
       "        vertical-align: top;\n",
       "    }\n",
       "\n",
       "    .dataframe thead th {\n",
       "        text-align: right;\n",
       "    }\n",
       "</style>\n",
       "<table border=\"1\" class=\"dataframe\">\n",
       "  <thead>\n",
       "    <tr style=\"text-align: right;\">\n",
       "      <th></th>\n",
       "      <th>count</th>\n",
       "      <th>mean</th>\n",
       "      <th>std</th>\n",
       "      <th>min</th>\n",
       "      <th>25%</th>\n",
       "      <th>50%</th>\n",
       "      <th>75%</th>\n",
       "      <th>max</th>\n",
       "    </tr>\n",
       "    <tr>\n",
       "      <th>FormalEducation</th>\n",
       "      <th></th>\n",
       "      <th></th>\n",
       "      <th></th>\n",
       "      <th></th>\n",
       "      <th></th>\n",
       "      <th></th>\n",
       "      <th></th>\n",
       "      <th></th>\n",
       "    </tr>\n",
       "  </thead>\n",
       "  <tbody>\n",
       "    <tr>\n",
       "      <th>Associate degree</th>\n",
       "      <td>1513.0</td>\n",
       "      <td>99178.012558</td>\n",
       "      <td>223994.972587</td>\n",
       "      <td>0.0</td>\n",
       "      <td>27000.0</td>\n",
       "      <td>54755.0</td>\n",
       "      <td>86963.0</td>\n",
       "      <td>2000000.0</td>\n",
       "    </tr>\n",
       "    <tr>\n",
       "      <th>Bachelor’s degree (BA, BS, B.Eng., etc.)</th>\n",
       "      <td>22824.0</td>\n",
       "      <td>96462.508500</td>\n",
       "      <td>206249.270906</td>\n",
       "      <td>0.0</td>\n",
       "      <td>23028.0</td>\n",
       "      <td>58746.0</td>\n",
       "      <td>95968.0</td>\n",
       "      <td>2000000.0</td>\n",
       "    </tr>\n",
       "    <tr>\n",
       "      <th>I never completed any formal education</th>\n",
       "      <td>177.0</td>\n",
       "      <td>151409.604520</td>\n",
       "      <td>346192.139381</td>\n",
       "      <td>0.0</td>\n",
       "      <td>9540.0</td>\n",
       "      <td>48000.0</td>\n",
       "      <td>100000.0</td>\n",
       "      <td>2000000.0</td>\n",
       "    </tr>\n",
       "    <tr>\n",
       "      <th>Master’s degree (MA, MS, M.Eng., MBA, etc.)</th>\n",
       "      <td>11179.0</td>\n",
       "      <td>100588.150282</td>\n",
       "      <td>191524.795442</td>\n",
       "      <td>0.0</td>\n",
       "      <td>33048.0</td>\n",
       "      <td>59880.0</td>\n",
       "      <td>96318.0</td>\n",
       "      <td>2000000.0</td>\n",
       "    </tr>\n",
       "    <tr>\n",
       "      <th>Other doctoral degree (Ph.D, Ed.D., etc.)</th>\n",
       "      <td>1191.0</td>\n",
       "      <td>127154.871537</td>\n",
       "      <td>207058.036346</td>\n",
       "      <td>0.0</td>\n",
       "      <td>53851.0</td>\n",
       "      <td>79552.0</td>\n",
       "      <td>121270.5</td>\n",
       "      <td>2000000.0</td>\n",
       "    </tr>\n",
       "    <tr>\n",
       "      <th>Primary/elementary school</th>\n",
       "      <td>388.0</td>\n",
       "      <td>71942.713918</td>\n",
       "      <td>220788.592603</td>\n",
       "      <td>0.0</td>\n",
       "      <td>120.0</td>\n",
       "      <td>12012.0</td>\n",
       "      <td>58441.5</td>\n",
       "      <td>2000000.0</td>\n",
       "    </tr>\n",
       "    <tr>\n",
       "      <th>Professional degree (JD, MD, etc.)</th>\n",
       "      <td>612.0</td>\n",
       "      <td>81716.982026</td>\n",
       "      <td>205184.971453</td>\n",
       "      <td>0.0</td>\n",
       "      <td>18000.0</td>\n",
       "      <td>31848.0</td>\n",
       "      <td>61194.0</td>\n",
       "      <td>2000000.0</td>\n",
       "    </tr>\n",
       "    <tr>\n",
       "      <th>Secondary school (e.g. American high school, German Realschule or Gymnasium, etc.)</th>\n",
       "      <td>3021.0</td>\n",
       "      <td>69065.995366</td>\n",
       "      <td>173331.986143</td>\n",
       "      <td>0.0</td>\n",
       "      <td>8952.0</td>\n",
       "      <td>29376.0</td>\n",
       "      <td>62412.0</td>\n",
       "      <td>2000000.0</td>\n",
       "    </tr>\n",
       "    <tr>\n",
       "      <th>Some college/university study without earning a degree</th>\n",
       "      <td>6103.0</td>\n",
       "      <td>92913.785188</td>\n",
       "      <td>201987.896484</td>\n",
       "      <td>0.0</td>\n",
       "      <td>22500.0</td>\n",
       "      <td>50000.0</td>\n",
       "      <td>90000.0</td>\n",
       "      <td>2000000.0</td>\n",
       "    </tr>\n",
       "  </tbody>\n",
       "</table>\n",
       "</div>"
      ],
      "text/plain": [
       "                                                      count           mean  \\\n",
       "FormalEducation                                                              \n",
       "Associate degree                                     1513.0   99178.012558   \n",
       "Bachelor’s degree (BA, BS, B.Eng., etc.)            22824.0   96462.508500   \n",
       "I never completed any formal education                177.0  151409.604520   \n",
       "Master’s degree (MA, MS, M.Eng., MBA, etc.)         11179.0  100588.150282   \n",
       "Other doctoral degree (Ph.D, Ed.D., etc.)            1191.0  127154.871537   \n",
       "Primary/elementary school                             388.0   71942.713918   \n",
       "Professional degree (JD, MD, etc.)                    612.0   81716.982026   \n",
       "Secondary school (e.g. American high school, Ge...   3021.0   69065.995366   \n",
       "Some college/university study without earning a...   6103.0   92913.785188   \n",
       "\n",
       "                                                              std  min  \\\n",
       "FormalEducation                                                          \n",
       "Associate degree                                    223994.972587  0.0   \n",
       "Bachelor’s degree (BA, BS, B.Eng., etc.)            206249.270906  0.0   \n",
       "I never completed any formal education              346192.139381  0.0   \n",
       "Master’s degree (MA, MS, M.Eng., MBA, etc.)         191524.795442  0.0   \n",
       "Other doctoral degree (Ph.D, Ed.D., etc.)           207058.036346  0.0   \n",
       "Primary/elementary school                           220788.592603  0.0   \n",
       "Professional degree (JD, MD, etc.)                  205184.971453  0.0   \n",
       "Secondary school (e.g. American high school, Ge...  173331.986143  0.0   \n",
       "Some college/university study without earning a...  201987.896484  0.0   \n",
       "\n",
       "                                                        25%      50%  \\\n",
       "FormalEducation                                                        \n",
       "Associate degree                                    27000.0  54755.0   \n",
       "Bachelor’s degree (BA, BS, B.Eng., etc.)            23028.0  58746.0   \n",
       "I never completed any formal education               9540.0  48000.0   \n",
       "Master’s degree (MA, MS, M.Eng., MBA, etc.)         33048.0  59880.0   \n",
       "Other doctoral degree (Ph.D, Ed.D., etc.)           53851.0  79552.0   \n",
       "Primary/elementary school                             120.0  12012.0   \n",
       "Professional degree (JD, MD, etc.)                  18000.0  31848.0   \n",
       "Secondary school (e.g. American high school, Ge...   8952.0  29376.0   \n",
       "Some college/university study without earning a...  22500.0  50000.0   \n",
       "\n",
       "                                                         75%        max  \n",
       "FormalEducation                                                          \n",
       "Associate degree                                     86963.0  2000000.0  \n",
       "Bachelor’s degree (BA, BS, B.Eng., etc.)             95968.0  2000000.0  \n",
       "I never completed any formal education              100000.0  2000000.0  \n",
       "Master’s degree (MA, MS, M.Eng., MBA, etc.)          96318.0  2000000.0  \n",
       "Other doctoral degree (Ph.D, Ed.D., etc.)           121270.5  2000000.0  \n",
       "Primary/elementary school                            58441.5  2000000.0  \n",
       "Professional degree (JD, MD, etc.)                   61194.0  2000000.0  \n",
       "Secondary school (e.g. American high school, Ge...   62412.0  2000000.0  \n",
       "Some college/university study without earning a...   90000.0  2000000.0  "
      ]
     },
     "execution_count": 17,
     "metadata": {},
     "output_type": "execute_result"
    }
   ],
   "source": [
    "df_2018.groupby('FormalEducation')['ConvertedSalary'].describe()"
   ]
  },
  {
   "cell_type": "markdown",
   "metadata": {},
   "source": [
    "As we are interested in the ``ConvertedSalary``, it would be useful to know how much data is missing to determine if the analysis is worthwhile and if so, remove rows which do not contain a value. "
   ]
  },
  {
   "cell_type": "code",
   "execution_count": 18,
   "metadata": {},
   "outputs": [
    {
     "data": {
      "text/plain": [
       "0.5174548581255374"
      ]
     },
     "execution_count": 18,
     "metadata": {},
     "output_type": "execute_result"
    }
   ],
   "source": [
    "check_missing('ConvertedSalary', df_2018)"
   ]
  },
  {
   "cell_type": "code",
   "execution_count": 19,
   "metadata": {},
   "outputs": [],
   "source": [
    "df_2018_no_null = remove_rows(df_2018, 'ConvertedSalary')"
   ]
  },
  {
   "cell_type": "code",
   "execution_count": 20,
   "metadata": {},
   "outputs": [
    {
     "data": {
      "text/plain": [
       "0.0"
      ]
     },
     "execution_count": 20,
     "metadata": {},
     "output_type": "execute_result"
    }
   ],
   "source": [
    "check_missing('ConvertedSalary', df_2018_no_null)"
   ]
  },
  {
   "cell_type": "markdown",
   "metadata": {},
   "source": [
    "Fortunately the ``FormalEducation`` column does not require any string splitting as the respondents could only select one value, which can be shown in the groupby function above, or the cell below. Therefore getting the value counts requires little in the way of preprocessing. Although, a feature has been engineered to determine the percentage of ``FormalEducation`` over the entire dataset."
   ]
  },
  {
   "cell_type": "code",
   "execution_count": 21,
   "metadata": {},
   "outputs": [
    {
     "data": {
      "text/plain": [
       "array(['Bachelor’s degree (BA, BS, B.Eng., etc.)',\n",
       "       'Some college/university study without earning a degree',\n",
       "       'Secondary school (e.g. American high school, German Realschule or Gymnasium, etc.)',\n",
       "       'Master’s degree (MA, MS, M.Eng., MBA, etc.)', 'Associate degree',\n",
       "       'Professional degree (JD, MD, etc.)',\n",
       "       'Other doctoral degree (Ph.D, Ed.D., etc.)', nan,\n",
       "       'Primary/elementary school',\n",
       "       'I never completed any formal education'], dtype=object)"
      ]
     },
     "execution_count": 21,
     "metadata": {},
     "output_type": "execute_result"
    }
   ],
   "source": [
    "df_2018_no_null['FormalEducation'].unique()"
   ]
  },
  {
   "cell_type": "code",
   "execution_count": 22,
   "metadata": {},
   "outputs": [
    {
     "data": {
      "text/html": [
       "<div>\n",
       "<style scoped>\n",
       "    .dataframe tbody tr th:only-of-type {\n",
       "        vertical-align: middle;\n",
       "    }\n",
       "\n",
       "    .dataframe tbody tr th {\n",
       "        vertical-align: top;\n",
       "    }\n",
       "\n",
       "    .dataframe thead th {\n",
       "        text-align: right;\n",
       "    }\n",
       "</style>\n",
       "<table border=\"1\" class=\"dataframe\">\n",
       "  <thead>\n",
       "    <tr style=\"text-align: right;\">\n",
       "      <th></th>\n",
       "      <th>FormalEducation</th>\n",
       "      <th>Count</th>\n",
       "      <th>Percent</th>\n",
       "    </tr>\n",
       "  </thead>\n",
       "  <tbody>\n",
       "    <tr>\n",
       "      <th>0</th>\n",
       "      <td>Bachelor’s degree (BA, BS, B.Eng., etc.)</td>\n",
       "      <td>22824</td>\n",
       "      <td>0.485534</td>\n",
       "    </tr>\n",
       "    <tr>\n",
       "      <th>1</th>\n",
       "      <td>Master’s degree (MA, MS, M.Eng., MBA, etc.)</td>\n",
       "      <td>11179</td>\n",
       "      <td>0.237811</td>\n",
       "    </tr>\n",
       "    <tr>\n",
       "      <th>2</th>\n",
       "      <td>Some college/university study without earning ...</td>\n",
       "      <td>6103</td>\n",
       "      <td>0.129829</td>\n",
       "    </tr>\n",
       "    <tr>\n",
       "      <th>3</th>\n",
       "      <td>Secondary school (e.g. American high school, G...</td>\n",
       "      <td>3021</td>\n",
       "      <td>0.064266</td>\n",
       "    </tr>\n",
       "    <tr>\n",
       "      <th>4</th>\n",
       "      <td>Associate degree</td>\n",
       "      <td>1513</td>\n",
       "      <td>0.032186</td>\n",
       "    </tr>\n",
       "    <tr>\n",
       "      <th>5</th>\n",
       "      <td>Other doctoral degree (Ph.D, Ed.D., etc.)</td>\n",
       "      <td>1191</td>\n",
       "      <td>0.025336</td>\n",
       "    </tr>\n",
       "    <tr>\n",
       "      <th>6</th>\n",
       "      <td>Professional degree (JD, MD, etc.)</td>\n",
       "      <td>612</td>\n",
       "      <td>0.013019</td>\n",
       "    </tr>\n",
       "    <tr>\n",
       "      <th>7</th>\n",
       "      <td>Primary/elementary school</td>\n",
       "      <td>388</td>\n",
       "      <td>0.008254</td>\n",
       "    </tr>\n",
       "    <tr>\n",
       "      <th>8</th>\n",
       "      <td>I never completed any formal education</td>\n",
       "      <td>177</td>\n",
       "      <td>0.003765</td>\n",
       "    </tr>\n",
       "  </tbody>\n",
       "</table>\n",
       "</div>"
      ],
      "text/plain": [
       "                                     FormalEducation  Count   Percent\n",
       "0           Bachelor’s degree (BA, BS, B.Eng., etc.)  22824  0.485534\n",
       "1        Master’s degree (MA, MS, M.Eng., MBA, etc.)  11179  0.237811\n",
       "2  Some college/university study without earning ...   6103  0.129829\n",
       "3  Secondary school (e.g. American high school, G...   3021  0.064266\n",
       "4                                   Associate degree   1513  0.032186\n",
       "5          Other doctoral degree (Ph.D, Ed.D., etc.)   1191  0.025336\n",
       "6                 Professional degree (JD, MD, etc.)    612  0.013019\n",
       "7                          Primary/elementary school    388  0.008254\n",
       "8             I never completed any formal education    177  0.003765"
      ]
     },
     "execution_count": 22,
     "metadata": {},
     "output_type": "execute_result"
    }
   ],
   "source": [
    "df_2018_education = column_analysis('FormalEducation', df_2018_no_null)\n",
    "df_2018_education"
   ]
  },
  {
   "cell_type": "markdown",
   "metadata": {},
   "source": [
    "Given the resulting DataFrame, we can see the most common formal education responses along with their percentage statistic of the user base. As tables are not that interesting to more general audiences, we will use the ``plot_bar`` function defined above."
   ]
  },
  {
   "cell_type": "code",
   "execution_count": 23,
   "metadata": {},
   "outputs": [
    {
     "data": {
      "image/png": "[encoded data removed]",
      "text/plain": [
       "<Figure size 432x288 with 1 Axes>"
      ]
     },
     "metadata": {},
     "output_type": "display_data"
    }
   ],
   "source": [
    "plot_bar(df_2018_education, 'FormalEducation', 'Percent')"
   ]
  },
  {
   "cell_type": "code",
   "execution_count": null,
   "metadata": {},
   "outputs": [],
   "source": []
  }
 ],
 "metadata": {
  "kernelspec": {
   "display_name": "Python 3",
   "language": "python",
   "name": "python3"
  },
  "language_info": {
   "codemirror_mode": {
    "name": "ipython",
    "version": 3
   },
   "file_extension": ".py",
   "mimetype": "text/x-python",
   "name": "python",
   "nbconvert_exporter": "python",
   "pygments_lexer": "ipython3",
   "version": "3.6.5"
  }
 },
 "nbformat": 4,
 "nbformat_minor": 2
}
