{
 "cells": [
  {
   "cell_type": "markdown",
   "metadata": {},
   "source": [
    "## 4. Trend Analysis of Programming Languages (2013-2019)\n",
    "\n",
    "This separate notebook is for trend analysis and wrangling techniques neccessary to parse responses stored in a variety of formats.\n",
    "\n",
    "Similarly to the previous notebook, we will import our packages and get the dataset and schema file names."
   ]
  },
  {
   "cell_type": "code",
   "execution_count": 1,
   "metadata": {},
   "outputs": [],
   "source": [
    "import numpy as np\n",
    "import pandas as pd\n",
    "import matplotlib.pyplot as plt\n",
    "import glob\n",
    "from IPython import display\n",
    "import seaborn as sns\n",
    "from collections import defaultdict, Counter\n",
    "from sklearn.preprocessing import MinMaxScaler\n",
    "\n",
    "%matplotlib inline"
   ]
  },
  {
   "cell_type": "code",
   "execution_count": 2,
   "metadata": {},
   "outputs": [
    {
     "data": {
      "text/plain": [
       "['datasets\\\\2013_survey_results_public.csv',\n",
       " 'datasets\\\\2014_survey_results_public.csv',\n",
       " 'datasets\\\\2015_survey_results_public.csv',\n",
       " 'datasets\\\\2016_survey_results_public.csv',\n",
       " 'datasets\\\\2017_survey_results_public.csv',\n",
       " 'datasets\\\\2018_survey_results_public.csv']"
      ]
     },
     "execution_count": 2,
     "metadata": {},
     "output_type": "execute_result"
    }
   ],
   "source": [
    "datasets = glob.glob(\"datasets/*_public.csv\")\n",
    "datasets"
   ]
  },
  {
   "cell_type": "code",
   "execution_count": 3,
   "metadata": {},
   "outputs": [
    {
     "data": {
      "text/plain": [
       "['datasets\\\\2017_survey_results_schema.csv',\n",
       " 'datasets\\\\2018_survey_results_schema.csv']"
      ]
     },
     "execution_count": 3,
     "metadata": {},
     "output_type": "execute_result"
    }
   ],
   "source": [
    "schemas = glob.glob(\"datasets/*_schema.csv\")\n",
    "schemas"
   ]
  },
  {
   "cell_type": "code",
   "execution_count": 4,
   "metadata": {},
   "outputs": [
    {
     "data": {
      "text/plain": [
       "{}"
      ]
     },
     "execution_count": 4,
     "metadata": {},
     "output_type": "execute_result"
    }
   ],
   "source": [
    "results = {}\n",
    "results"
   ]
  },
  {
   "cell_type": "markdown",
   "metadata": {},
   "source": [
    "### 2013 Dataset\n",
    "\n",
    "Earlier datasets do not have traditional headers, instead the first row of these datasets are the questions and the second row are the possible responses of the question, such as C, C#, PHP etc.\n",
    "Therefore, instead of parsing multilevel indexes, it would be simpler to get the columns by ``idx`` - the function defined below allows this."
   ]
  },
  {
   "cell_type": "code",
   "execution_count": 5,
   "metadata": {},
   "outputs": [],
   "source": [
    "def get_index(column, column_value, schema):\n",
    "    '''\n",
    "    INPUT - column - string - the name of the column we want to search\n",
    "            column_value - string - the term we would like to search for\n",
    "    OUTPUT - \n",
    "            idx - index - the integer index of the column containing the specified value\n",
    "    '''\n",
    "    idx = schema.index[schema[column].astype(str).str.contains(str(column_value))]\n",
    "    return idx"
   ]
  },
  {
   "cell_type": "markdown",
   "metadata": {},
   "source": [
    "We can create somewhat of a schema by parsing the first two rows of the 2013 dataset to reference as a schema and fetch data by index. The columns in the schema will be defined as ``Question`` and ``Option``. "
   ]
  },
  {
   "cell_type": "code",
   "execution_count": 7,
   "metadata": {},
   "outputs": [],
   "source": [
    "def make_schema_load_dataset(data_path):\n",
    "    '''\n",
    "    INPUT - datapath - string - the location of the file we want to load\n",
    "    OUTPUT - \n",
    "            schema, dataset - tuple(DataFrame) - two pandas dataframes, one of the schema and another, the data.\n",
    "    '''\n",
    "    schema = pd.read_csv(data_path, index_col=None, header=None, nrows=2, encoding=\"utf-8\", low_memory=False).T\n",
    "    schema.columns = ['Question', 'Option']\n",
    "    dataset = pd.read_csv(data_path, index_col=None, header=1, encoding=\"utf-8\", low_memory=False)\n",
    "    return schema, dataset"
   ]
  },
  {
   "cell_type": "code",
   "execution_count": 8,
   "metadata": {},
   "outputs": [],
   "source": [
    "df_2013_schema, df_2013_data = make_schema_load_dataset(datasets[0])"
   ]
  },
  {
   "cell_type": "code",
   "execution_count": 9,
   "metadata": {},
   "outputs": [
    {
     "data": {
      "text/html": [
       "<div>\n",
       "<style scoped>\n",
       "    .dataframe tbody tr th:only-of-type {\n",
       "        vertical-align: middle;\n",
       "    }\n",
       "\n",
       "    .dataframe tbody tr th {\n",
       "        vertical-align: top;\n",
       "    }\n",
       "\n",
       "    .dataframe thead th {\n",
       "        text-align: right;\n",
       "    }\n",
       "</style>\n",
       "<table border=\"1\" class=\"dataframe\">\n",
       "  <thead>\n",
       "    <tr style=\"text-align: right;\">\n",
       "      <th></th>\n",
       "      <th>Question</th>\n",
       "      <th>Option</th>\n",
       "    </tr>\n",
       "  </thead>\n",
       "  <tbody>\n",
       "    <tr>\n",
       "      <th>0</th>\n",
       "      <td>What Country or Region do you live in?</td>\n",
       "      <td>Response</td>\n",
       "    </tr>\n",
       "    <tr>\n",
       "      <th>1</th>\n",
       "      <td>Which US State or Territory do you live in?</td>\n",
       "      <td>Response</td>\n",
       "    </tr>\n",
       "    <tr>\n",
       "      <th>2</th>\n",
       "      <td>How old are you?</td>\n",
       "      <td>Response</td>\n",
       "    </tr>\n",
       "  </tbody>\n",
       "</table>\n",
       "</div>"
      ],
      "text/plain": [
       "                                      Question    Option\n",
       "0       What Country or Region do you live in?  Response\n",
       "1  Which US State or Territory do you live in?  Response\n",
       "2                             How old are you?  Response"
      ]
     },
     "execution_count": 9,
     "metadata": {},
     "output_type": "execute_result"
    }
   ],
   "source": [
    "df_2013_schema.head(3)"
   ]
  },
  {
   "cell_type": "markdown",
   "metadata": {},
   "source": [
    "We obtain the index by passing the value from the dataset to find, which is string matched to our values in the schema."
   ]
  },
  {
   "cell_type": "code",
   "execution_count": 10,
   "metadata": {},
   "outputs": [],
   "source": [
    "index = get_index('Question', 'Which of the following languages or technologies have you used significantly in the past year?', df_2013_schema) "
   ]
  },
  {
   "cell_type": "markdown",
   "metadata": {},
   "source": [
    "We can then slice the dataframe into a subset containing only the desired language information."
   ]
  },
  {
   "cell_type": "code",
   "execution_count": 11,
   "metadata": {},
   "outputs": [
    {
     "data": {
      "text/html": [
       "<div>\n",
       "<style scoped>\n",
       "    .dataframe tbody tr th:only-of-type {\n",
       "        vertical-align: middle;\n",
       "    }\n",
       "\n",
       "    .dataframe tbody tr th {\n",
       "        vertical-align: top;\n",
       "    }\n",
       "\n",
       "    .dataframe thead th {\n",
       "        text-align: right;\n",
       "    }\n",
       "</style>\n",
       "<table border=\"1\" class=\"dataframe\">\n",
       "  <thead>\n",
       "    <tr style=\"text-align: right;\">\n",
       "      <th></th>\n",
       "      <th>Question</th>\n",
       "      <th>Option</th>\n",
       "    </tr>\n",
       "  </thead>\n",
       "  <tbody>\n",
       "    <tr>\n",
       "      <th>56</th>\n",
       "      <td>Which of the following languages or technologi...</td>\n",
       "      <td>C</td>\n",
       "    </tr>\n",
       "    <tr>\n",
       "      <th>57</th>\n",
       "      <td>NaN</td>\n",
       "      <td>C++</td>\n",
       "    </tr>\n",
       "    <tr>\n",
       "      <th>58</th>\n",
       "      <td>NaN</td>\n",
       "      <td>C#</td>\n",
       "    </tr>\n",
       "    <tr>\n",
       "      <th>59</th>\n",
       "      <td>NaN</td>\n",
       "      <td>Java</td>\n",
       "    </tr>\n",
       "    <tr>\n",
       "      <th>60</th>\n",
       "      <td>NaN</td>\n",
       "      <td>JavaScript</td>\n",
       "    </tr>\n",
       "    <tr>\n",
       "      <th>61</th>\n",
       "      <td>NaN</td>\n",
       "      <td>jQuery</td>\n",
       "    </tr>\n",
       "    <tr>\n",
       "      <th>62</th>\n",
       "      <td>NaN</td>\n",
       "      <td>JQuery</td>\n",
       "    </tr>\n",
       "    <tr>\n",
       "      <th>63</th>\n",
       "      <td>NaN</td>\n",
       "      <td>Node.js</td>\n",
       "    </tr>\n",
       "    <tr>\n",
       "      <th>64</th>\n",
       "      <td>NaN</td>\n",
       "      <td>Objective-C</td>\n",
       "    </tr>\n",
       "    <tr>\n",
       "      <th>65</th>\n",
       "      <td>NaN</td>\n",
       "      <td>PHP</td>\n",
       "    </tr>\n",
       "    <tr>\n",
       "      <th>66</th>\n",
       "      <td>NaN</td>\n",
       "      <td>Python</td>\n",
       "    </tr>\n",
       "    <tr>\n",
       "      <th>67</th>\n",
       "      <td>NaN</td>\n",
       "      <td>Ruby</td>\n",
       "    </tr>\n",
       "    <tr>\n",
       "      <th>68</th>\n",
       "      <td>NaN</td>\n",
       "      <td>SQL</td>\n",
       "    </tr>\n",
       "    <tr>\n",
       "      <th>69</th>\n",
       "      <td>NaN</td>\n",
       "      <td>Other (please specify)</td>\n",
       "    </tr>\n",
       "  </tbody>\n",
       "</table>\n",
       "</div>"
      ],
      "text/plain": [
       "                                             Question                  Option\n",
       "56  Which of the following languages or technologi...                       C\n",
       "57                                                NaN                     C++\n",
       "58                                                NaN                      C#\n",
       "59                                                NaN                    Java\n",
       "60                                                NaN              JavaScript\n",
       "61                                                NaN                  jQuery\n",
       "62                                                NaN                  JQuery\n",
       "63                                                NaN                 Node.js\n",
       "64                                                NaN             Objective-C\n",
       "65                                                NaN                     PHP\n",
       "66                                                NaN                  Python\n",
       "67                                                NaN                    Ruby\n",
       "68                                                NaN                     SQL\n",
       "69                                                NaN  Other (please specify)"
      ]
     },
     "execution_count": 11,
     "metadata": {},
     "output_type": "execute_result"
    }
   ],
   "source": [
    "df_2013_schema.iloc[index[0]:index[0]+14]"
   ]
  },
  {
   "cell_type": "code",
   "execution_count": 12,
   "metadata": {},
   "outputs": [
    {
     "data": {
      "text/html": [
       "<div>\n",
       "<style scoped>\n",
       "    .dataframe tbody tr th:only-of-type {\n",
       "        vertical-align: middle;\n",
       "    }\n",
       "\n",
       "    .dataframe tbody tr th {\n",
       "        vertical-align: top;\n",
       "    }\n",
       "\n",
       "    .dataframe thead th {\n",
       "        text-align: right;\n",
       "    }\n",
       "</style>\n",
       "<table border=\"1\" class=\"dataframe\">\n",
       "  <thead>\n",
       "    <tr style=\"text-align: right;\">\n",
       "      <th></th>\n",
       "      <th>C</th>\n",
       "      <th>C++</th>\n",
       "      <th>C#</th>\n",
       "      <th>Java</th>\n",
       "      <th>JavaScript</th>\n",
       "      <th>jQuery</th>\n",
       "      <th>JQuery</th>\n",
       "      <th>Node.js</th>\n",
       "      <th>Objective-C</th>\n",
       "      <th>PHP</th>\n",
       "      <th>Python</th>\n",
       "      <th>Ruby</th>\n",
       "      <th>SQL</th>\n",
       "      <th>Other (please specify)</th>\n",
       "    </tr>\n",
       "  </thead>\n",
       "  <tbody>\n",
       "    <tr>\n",
       "      <th>0</th>\n",
       "      <td>NaN</td>\n",
       "      <td>NaN</td>\n",
       "      <td>NaN</td>\n",
       "      <td>Java</td>\n",
       "      <td>NaN</td>\n",
       "      <td>NaN</td>\n",
       "      <td>NaN</td>\n",
       "      <td>NaN</td>\n",
       "      <td>NaN</td>\n",
       "      <td>NaN</td>\n",
       "      <td>NaN</td>\n",
       "      <td>NaN</td>\n",
       "      <td>SQL</td>\n",
       "      <td>NaN</td>\n",
       "    </tr>\n",
       "    <tr>\n",
       "      <th>1</th>\n",
       "      <td>NaN</td>\n",
       "      <td>NaN</td>\n",
       "      <td>C#</td>\n",
       "      <td>NaN</td>\n",
       "      <td>JavaScript</td>\n",
       "      <td>jQuery</td>\n",
       "      <td>NaN</td>\n",
       "      <td>NaN</td>\n",
       "      <td>NaN</td>\n",
       "      <td>PHP</td>\n",
       "      <td>NaN</td>\n",
       "      <td>NaN</td>\n",
       "      <td>NaN</td>\n",
       "      <td>MySql / VbScript</td>\n",
       "    </tr>\n",
       "    <tr>\n",
       "      <th>2</th>\n",
       "      <td>NaN</td>\n",
       "      <td>NaN</td>\n",
       "      <td>C#</td>\n",
       "      <td>NaN</td>\n",
       "      <td>JavaScript</td>\n",
       "      <td>jQuery</td>\n",
       "      <td>NaN</td>\n",
       "      <td>NaN</td>\n",
       "      <td>NaN</td>\n",
       "      <td>NaN</td>\n",
       "      <td>NaN</td>\n",
       "      <td>NaN</td>\n",
       "      <td>SQL</td>\n",
       "      <td>PL/SQL, XSLT, XQuery</td>\n",
       "    </tr>\n",
       "  </tbody>\n",
       "</table>\n",
       "</div>"
      ],
      "text/plain": [
       "     C  C++   C#  Java  JavaScript  jQuery JQuery Node.js Objective-C  PHP  \\\n",
       "0  NaN  NaN  NaN  Java         NaN     NaN    NaN     NaN         NaN  NaN   \n",
       "1  NaN  NaN   C#   NaN  JavaScript  jQuery    NaN     NaN         NaN  PHP   \n",
       "2  NaN  NaN   C#   NaN  JavaScript  jQuery    NaN     NaN         NaN  NaN   \n",
       "\n",
       "  Python Ruby  SQL Other (please specify)  \n",
       "0    NaN  NaN  SQL                    NaN  \n",
       "1    NaN  NaN  NaN       MySql / VbScript  \n",
       "2    NaN  NaN  SQL   PL/SQL, XSLT, XQuery  "
      ]
     },
     "execution_count": 12,
     "metadata": {},
     "output_type": "execute_result"
    }
   ],
   "source": [
    "df_2013_languages = df_2013_data.iloc[:, index[0]:index[0]+14]\n",
    "df_2013_languages.head(3)"
   ]
  },
  {
   "cell_type": "code",
   "execution_count": 13,
   "metadata": {},
   "outputs": [
    {
     "data": {
      "text/plain": [
       "(9742, 14)"
      ]
     },
     "execution_count": 13,
     "metadata": {},
     "output_type": "execute_result"
    }
   ],
   "source": [
    "df_2013_languages.shape"
   ]
  },
  {
   "cell_type": "markdown",
   "metadata": {},
   "source": [
    "We can retrieved a dictionary of counts and calculate the percentages using the ``percentage_dict`` function defined below, which can also remove users who didn't report any languages. The results are stored in the results dictionary, with the key ``2013``."
   ]
  },
  {
   "cell_type": "code",
   "execution_count": 14,
   "metadata": {},
   "outputs": [
    {
     "data": {
      "text/plain": [
       "{'C': 1436,\n",
       " 'C++': 1696,\n",
       " 'C#': 3027,\n",
       " 'Java': 3020,\n",
       " 'JavaScript': 4735,\n",
       " 'jQuery': 4109,\n",
       " 'JQuery': 239,\n",
       " 'Node.js': 599,\n",
       " 'Objective-C': 955,\n",
       " 'PHP': 2324,\n",
       " 'Python': 1880,\n",
       " 'Ruby': 794,\n",
       " 'SQL': 4593,\n",
       " 'Other (please specify)': 1897}"
      ]
     },
     "execution_count": 14,
     "metadata": {},
     "output_type": "execute_result"
    }
   ],
   "source": [
    "language_dict_2013 = df_2013_languages.describe().loc['count'].to_dict()\n",
    "language_dict_2013"
   ]
  },
  {
   "cell_type": "code",
   "execution_count": 15,
   "metadata": {},
   "outputs": [],
   "source": [
    "def percentage_dict(languages, dataframe, rows=None):\n",
    "    '''\n",
    "    INPUT - languages - dict - the dictionary of language counts\n",
    "            dataframe - DataFrame - the dataframe we would like to process\n",
    "            rows - boolean - the rows we want to remove nulls from\n",
    "    OUTPUT - \n",
    "            idx - index - the integer index of the column containing the specified value\n",
    "    '''\n",
    "    print(\"Rows Before: {}\".format(dataframe.shape[0]))\n",
    "    if rows is not None:\n",
    "        dataframe = dataframe[rows].dropna(how='all', axis=0)\n",
    "    else:\n",
    "        dataframe = dataframe.dropna(how='all', axis=0)\n",
    "        \n",
    "    n = dataframe.shape[0]\n",
    "    print(\"Rows After: {}\".format(n))\n",
    "    return dict((k, v/n) for k, v in languages.items())"
   ]
  },
  {
   "cell_type": "code",
   "execution_count": 16,
   "metadata": {},
   "outputs": [
    {
     "name": "stdout",
     "output_type": "stream",
     "text": [
      "Rows Before: 9742\n",
      "Rows After: 8042\n"
     ]
    }
   ],
   "source": [
    "results['2013'] = percentage_dict(language_dict_2013, df_2013_languages)"
   ]
  },
  {
   "cell_type": "code",
   "execution_count": 17,
   "metadata": {},
   "outputs": [
    {
     "data": {
      "text/plain": [
       "{'2013': {'C': 0.1785625466301915,\n",
       "  'C++': 0.21089281273315097,\n",
       "  'C#': 0.3763989057448396,\n",
       "  'Java': 0.3755284755036061,\n",
       "  'JavaScript': 0.5887838846058194,\n",
       "  'jQuery': 0.5109425516040785,\n",
       "  'JQuery': 0.02971897537925889,\n",
       "  'Node.js': 0.07448395921412584,\n",
       "  'Objective-C': 0.11875155433971649,\n",
       "  'PHP': 0.28898284008952996,\n",
       "  'Python': 0.23377269335986073,\n",
       "  'Ruby': 0.09873165879134543,\n",
       "  'SQL': 0.5711265854265108,\n",
       "  'Other (please specify)': 0.235886595374285}}"
      ]
     },
     "execution_count": 17,
     "metadata": {},
     "output_type": "execute_result"
    }
   ],
   "source": [
    "results"
   ]
  },
  {
   "cell_type": "code",
   "execution_count": null,
   "metadata": {},
   "outputs": [],
   "source": []
  }
 ],
 "metadata": {
  "kernelspec": {
   "display_name": "Python 3",
   "language": "python",
   "name": "python3"
  },
  "language_info": {
   "codemirror_mode": {
    "name": "ipython",
    "version": 3
   },
   "file_extension": ".py",
   "mimetype": "text/x-python",
   "name": "python",
   "nbconvert_exporter": "python",
   "pygments_lexer": "ipython3",
   "version": "3.6.5"
  }
 },
 "nbformat": 4,
 "nbformat_minor": 2
}
