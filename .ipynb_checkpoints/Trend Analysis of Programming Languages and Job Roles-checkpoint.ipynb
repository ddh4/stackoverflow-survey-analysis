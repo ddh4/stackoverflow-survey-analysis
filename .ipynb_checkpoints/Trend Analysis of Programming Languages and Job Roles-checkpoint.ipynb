{
 "cells": [
  {
   "cell_type": "markdown",
   "metadata": {},
   "source": [
    "## 4. Trend Analysis of Programming Languages (2013-2019)\n",
    "\n",
    "This separate notebook is for trend analysis and wrangling techniques neccessary to parse responses stored in a variety of formats.\n",
    "\n",
    "Similarly to the previous notebook, we will import our packages and get the dataset and schema file names."
   ]
  },
  {
   "cell_type": "code",
   "execution_count": 1,
   "metadata": {},
   "outputs": [],
   "source": [
    "import numpy as np\n",
    "import pandas as pd\n",
    "import matplotlib.pyplot as plt\n",
    "import glob\n",
    "from IPython import display\n",
    "import seaborn as sns\n",
    "from collections import defaultdict, Counter\n",
    "from sklearn.preprocessing import MinMaxScaler\n",
    "\n",
    "%matplotlib inline"
   ]
  },
  {
   "cell_type": "code",
   "execution_count": 2,
   "metadata": {},
   "outputs": [
    {
     "data": {
      "text/plain": [
       "['datasets\\\\2013_survey_results_public.csv',\n",
       " 'datasets\\\\2014_survey_results_public.csv',\n",
       " 'datasets\\\\2015_survey_results_public.csv',\n",
       " 'datasets\\\\2016_survey_results_public.csv',\n",
       " 'datasets\\\\2017_survey_results_public.csv',\n",
       " 'datasets\\\\2018_survey_results_public.csv']"
      ]
     },
     "execution_count": 2,
     "metadata": {},
     "output_type": "execute_result"
    }
   ],
   "source": [
    "datasets = glob.glob(\"datasets/*_public.csv\")\n",
    "datasets"
   ]
  },
  {
   "cell_type": "code",
   "execution_count": 3,
   "metadata": {},
   "outputs": [
    {
     "data": {
      "text/plain": [
       "['datasets\\\\2017_survey_results_schema.csv',\n",
       " 'datasets\\\\2018_survey_results_schema.csv']"
      ]
     },
     "execution_count": 3,
     "metadata": {},
     "output_type": "execute_result"
    }
   ],
   "source": [
    "schemas = glob.glob(\"datasets/*_schema.csv\")\n",
    "schemas"
   ]
  },
  {
   "cell_type": "code",
   "execution_count": 4,
   "metadata": {},
   "outputs": [
    {
     "data": {
      "text/plain": [
       "{}"
      ]
     },
     "execution_count": 4,
     "metadata": {},
     "output_type": "execute_result"
    }
   ],
   "source": [
    "results = {}\n",
    "results"
   ]
  },
  {
   "cell_type": "markdown",
   "metadata": {},
   "source": [
    "### 2013 Dataset\n",
    "\n",
    "Earlier datasets do not have traditional headers, instead the first row of these datasets are the questions and the second row are the possible responses of the question, such as C, C#, PHP etc.\n",
    "Therefore, instead of parsing multilevel indexes, it would be simpler to get the columns by ``idx`` - the function defined below allows this."
   ]
  },
  {
   "cell_type": "code",
   "execution_count": 5,
   "metadata": {},
   "outputs": [],
   "source": [
    "def get_index(column, column_value, schema):\n",
    "    '''\n",
    "    INPUT - column - string - the name of the column we want to search\n",
    "            column_value - string - the term we would like to search for\n",
    "    OUTPUT - \n",
    "            idx - index - the integer index of the column containing the specified value\n",
    "    '''\n",
    "    idx = schema.index[schema[column].astype(str).str.contains(str(column_value))]\n",
    "    return idx"
   ]
  },
  {
   "cell_type": "markdown",
   "metadata": {},
   "source": [
    "We can create somewhat of a schema by parsing the first two rows of the 2013 dataset to reference as a schema and fetch data by index. The columns in the schema will be defined as ``Question`` and ``Option``. "
   ]
  },
  {
   "cell_type": "code",
   "execution_count": 7,
   "metadata": {},
   "outputs": [],
   "source": [
    "def make_schema_load_dataset(data_path):\n",
    "    '''\n",
    "    INPUT - datapath - string - the location of the file we want to load\n",
    "    OUTPUT - \n",
    "            schema, dataset - tuple(DataFrame) - two pandas dataframes, one of the schema and another, the data.\n",
    "    '''\n",
    "    schema = pd.read_csv(data_path, index_col=None, header=None, nrows=2, encoding=\"utf-8\", low_memory=False).T\n",
    "    schema.columns = ['Question', 'Option']\n",
    "    dataset = pd.read_csv(data_path, index_col=None, header=1, encoding=\"utf-8\", low_memory=False)\n",
    "    return schema, dataset"
   ]
  },
  {
   "cell_type": "code",
   "execution_count": 8,
   "metadata": {},
   "outputs": [],
   "source": [
    "df_2013_schema, df_2013_data = make_schema_load_dataset(datasets[0])"
   ]
  },
  {
   "cell_type": "code",
   "execution_count": 9,
   "metadata": {},
   "outputs": [
    {
     "data": {
      "text/html": [
       "<div>\n",
       "<style scoped>\n",
       "    .dataframe tbody tr th:only-of-type {\n",
       "        vertical-align: middle;\n",
       "    }\n",
       "\n",
       "    .dataframe tbody tr th {\n",
       "        vertical-align: top;\n",
       "    }\n",
       "\n",
       "    .dataframe thead th {\n",
       "        text-align: right;\n",
       "    }\n",
       "</style>\n",
       "<table border=\"1\" class=\"dataframe\">\n",
       "  <thead>\n",
       "    <tr style=\"text-align: right;\">\n",
       "      <th></th>\n",
       "      <th>Question</th>\n",
       "      <th>Option</th>\n",
       "    </tr>\n",
       "  </thead>\n",
       "  <tbody>\n",
       "    <tr>\n",
       "      <th>0</th>\n",
       "      <td>What Country or Region do you live in?</td>\n",
       "      <td>Response</td>\n",
       "    </tr>\n",
       "    <tr>\n",
       "      <th>1</th>\n",
       "      <td>Which US State or Territory do you live in?</td>\n",
       "      <td>Response</td>\n",
       "    </tr>\n",
       "    <tr>\n",
       "      <th>2</th>\n",
       "      <td>How old are you?</td>\n",
       "      <td>Response</td>\n",
       "    </tr>\n",
       "  </tbody>\n",
       "</table>\n",
       "</div>"
      ],
      "text/plain": [
       "                                      Question    Option\n",
       "0       What Country or Region do you live in?  Response\n",
       "1  Which US State or Territory do you live in?  Response\n",
       "2                             How old are you?  Response"
      ]
     },
     "execution_count": 9,
     "metadata": {},
     "output_type": "execute_result"
    }
   ],
   "source": [
    "df_2013_schema.head(3)"
   ]
  },
  {
   "cell_type": "markdown",
   "metadata": {},
   "source": [
    "We obtain the index by passing the value from the dataset to find, which is string matched to our values in the schema."
   ]
  },
  {
   "cell_type": "code",
   "execution_count": 10,
   "metadata": {},
   "outputs": [],
   "source": [
    "index = get_index('Question', 'Which of the following languages or technologies have you used significantly in the past year?', df_2013_schema) "
   ]
  },
  {
   "cell_type": "markdown",
   "metadata": {},
   "source": [
    "We can then slice the dataframe into a subset containing only the desired language information."
   ]
  },
  {
   "cell_type": "code",
   "execution_count": 11,
   "metadata": {},
   "outputs": [
    {
     "data": {
      "text/html": [
       "<div>\n",
       "<style scoped>\n",
       "    .dataframe tbody tr th:only-of-type {\n",
       "        vertical-align: middle;\n",
       "    }\n",
       "\n",
       "    .dataframe tbody tr th {\n",
       "        vertical-align: top;\n",
       "    }\n",
       "\n",
       "    .dataframe thead th {\n",
       "        text-align: right;\n",
       "    }\n",
       "</style>\n",
       "<table border=\"1\" class=\"dataframe\">\n",
       "  <thead>\n",
       "    <tr style=\"text-align: right;\">\n",
       "      <th></th>\n",
       "      <th>Question</th>\n",
       "      <th>Option</th>\n",
       "    </tr>\n",
       "  </thead>\n",
       "  <tbody>\n",
       "    <tr>\n",
       "      <th>56</th>\n",
       "      <td>Which of the following languages or technologi...</td>\n",
       "      <td>C</td>\n",
       "    </tr>\n",
       "    <tr>\n",
       "      <th>57</th>\n",
       "      <td>NaN</td>\n",
       "      <td>C++</td>\n",
       "    </tr>\n",
       "    <tr>\n",
       "      <th>58</th>\n",
       "      <td>NaN</td>\n",
       "      <td>C#</td>\n",
       "    </tr>\n",
       "    <tr>\n",
       "      <th>59</th>\n",
       "      <td>NaN</td>\n",
       "      <td>Java</td>\n",
       "    </tr>\n",
       "    <tr>\n",
       "      <th>60</th>\n",
       "      <td>NaN</td>\n",
       "      <td>JavaScript</td>\n",
       "    </tr>\n",
       "    <tr>\n",
       "      <th>61</th>\n",
       "      <td>NaN</td>\n",
       "      <td>jQuery</td>\n",
       "    </tr>\n",
       "    <tr>\n",
       "      <th>62</th>\n",
       "      <td>NaN</td>\n",
       "      <td>JQuery</td>\n",
       "    </tr>\n",
       "    <tr>\n",
       "      <th>63</th>\n",
       "      <td>NaN</td>\n",
       "      <td>Node.js</td>\n",
       "    </tr>\n",
       "    <tr>\n",
       "      <th>64</th>\n",
       "      <td>NaN</td>\n",
       "      <td>Objective-C</td>\n",
       "    </tr>\n",
       "    <tr>\n",
       "      <th>65</th>\n",
       "      <td>NaN</td>\n",
       "      <td>PHP</td>\n",
       "    </tr>\n",
       "    <tr>\n",
       "      <th>66</th>\n",
       "      <td>NaN</td>\n",
       "      <td>Python</td>\n",
       "    </tr>\n",
       "    <tr>\n",
       "      <th>67</th>\n",
       "      <td>NaN</td>\n",
       "      <td>Ruby</td>\n",
       "    </tr>\n",
       "    <tr>\n",
       "      <th>68</th>\n",
       "      <td>NaN</td>\n",
       "      <td>SQL</td>\n",
       "    </tr>\n",
       "    <tr>\n",
       "      <th>69</th>\n",
       "      <td>NaN</td>\n",
       "      <td>Other (please specify)</td>\n",
       "    </tr>\n",
       "  </tbody>\n",
       "</table>\n",
       "</div>"
      ],
      "text/plain": [
       "                                             Question                  Option\n",
       "56  Which of the following languages or technologi...                       C\n",
       "57                                                NaN                     C++\n",
       "58                                                NaN                      C#\n",
       "59                                                NaN                    Java\n",
       "60                                                NaN              JavaScript\n",
       "61                                                NaN                  jQuery\n",
       "62                                                NaN                  JQuery\n",
       "63                                                NaN                 Node.js\n",
       "64                                                NaN             Objective-C\n",
       "65                                                NaN                     PHP\n",
       "66                                                NaN                  Python\n",
       "67                                                NaN                    Ruby\n",
       "68                                                NaN                     SQL\n",
       "69                                                NaN  Other (please specify)"
      ]
     },
     "execution_count": 11,
     "metadata": {},
     "output_type": "execute_result"
    }
   ],
   "source": [
    "df_2013_schema.iloc[index[0]:index[0]+14]"
   ]
  },
  {
   "cell_type": "code",
   "execution_count": 12,
   "metadata": {},
   "outputs": [
    {
     "data": {
      "text/html": [
       "<div>\n",
       "<style scoped>\n",
       "    .dataframe tbody tr th:only-of-type {\n",
       "        vertical-align: middle;\n",
       "    }\n",
       "\n",
       "    .dataframe tbody tr th {\n",
       "        vertical-align: top;\n",
       "    }\n",
       "\n",
       "    .dataframe thead th {\n",
       "        text-align: right;\n",
       "    }\n",
       "</style>\n",
       "<table border=\"1\" class=\"dataframe\">\n",
       "  <thead>\n",
       "    <tr style=\"text-align: right;\">\n",
       "      <th></th>\n",
       "      <th>C</th>\n",
       "      <th>C++</th>\n",
       "      <th>C#</th>\n",
       "      <th>Java</th>\n",
       "      <th>JavaScript</th>\n",
       "      <th>jQuery</th>\n",
       "      <th>JQuery</th>\n",
       "      <th>Node.js</th>\n",
       "      <th>Objective-C</th>\n",
       "      <th>PHP</th>\n",
       "      <th>Python</th>\n",
       "      <th>Ruby</th>\n",
       "      <th>SQL</th>\n",
       "      <th>Other (please specify)</th>\n",
       "    </tr>\n",
       "  </thead>\n",
       "  <tbody>\n",
       "    <tr>\n",
       "      <th>0</th>\n",
       "      <td>NaN</td>\n",
       "      <td>NaN</td>\n",
       "      <td>NaN</td>\n",
       "      <td>Java</td>\n",
       "      <td>NaN</td>\n",
       "      <td>NaN</td>\n",
       "      <td>NaN</td>\n",
       "      <td>NaN</td>\n",
       "      <td>NaN</td>\n",
       "      <td>NaN</td>\n",
       "      <td>NaN</td>\n",
       "      <td>NaN</td>\n",
       "      <td>SQL</td>\n",
       "      <td>NaN</td>\n",
       "    </tr>\n",
       "    <tr>\n",
       "      <th>1</th>\n",
       "      <td>NaN</td>\n",
       "      <td>NaN</td>\n",
       "      <td>C#</td>\n",
       "      <td>NaN</td>\n",
       "      <td>JavaScript</td>\n",
       "      <td>jQuery</td>\n",
       "      <td>NaN</td>\n",
       "      <td>NaN</td>\n",
       "      <td>NaN</td>\n",
       "      <td>PHP</td>\n",
       "      <td>NaN</td>\n",
       "      <td>NaN</td>\n",
       "      <td>NaN</td>\n",
       "      <td>MySql / VbScript</td>\n",
       "    </tr>\n",
       "    <tr>\n",
       "      <th>2</th>\n",
       "      <td>NaN</td>\n",
       "      <td>NaN</td>\n",
       "      <td>C#</td>\n",
       "      <td>NaN</td>\n",
       "      <td>JavaScript</td>\n",
       "      <td>jQuery</td>\n",
       "      <td>NaN</td>\n",
       "      <td>NaN</td>\n",
       "      <td>NaN</td>\n",
       "      <td>NaN</td>\n",
       "      <td>NaN</td>\n",
       "      <td>NaN</td>\n",
       "      <td>SQL</td>\n",
       "      <td>PL/SQL, XSLT, XQuery</td>\n",
       "    </tr>\n",
       "  </tbody>\n",
       "</table>\n",
       "</div>"
      ],
      "text/plain": [
       "     C  C++   C#  Java  JavaScript  jQuery JQuery Node.js Objective-C  PHP  \\\n",
       "0  NaN  NaN  NaN  Java         NaN     NaN    NaN     NaN         NaN  NaN   \n",
       "1  NaN  NaN   C#   NaN  JavaScript  jQuery    NaN     NaN         NaN  PHP   \n",
       "2  NaN  NaN   C#   NaN  JavaScript  jQuery    NaN     NaN         NaN  NaN   \n",
       "\n",
       "  Python Ruby  SQL Other (please specify)  \n",
       "0    NaN  NaN  SQL                    NaN  \n",
       "1    NaN  NaN  NaN       MySql / VbScript  \n",
       "2    NaN  NaN  SQL   PL/SQL, XSLT, XQuery  "
      ]
     },
     "execution_count": 12,
     "metadata": {},
     "output_type": "execute_result"
    }
   ],
   "source": [
    "df_2013_languages = df_2013_data.iloc[:, index[0]:index[0]+14]\n",
    "df_2013_languages.head(3)"
   ]
  },
  {
   "cell_type": "code",
   "execution_count": 13,
   "metadata": {},
   "outputs": [
    {
     "data": {
      "text/plain": [
       "(9742, 14)"
      ]
     },
     "execution_count": 13,
     "metadata": {},
     "output_type": "execute_result"
    }
   ],
   "source": [
    "df_2013_languages.shape"
   ]
  },
  {
   "cell_type": "markdown",
   "metadata": {},
   "source": [
    "We can retrieved a dictionary of counts and calculate the percentages using the ``percentage_dict`` function defined below, which can also remove users who didn't report any languages. The results are stored in the results dictionary, with the key ``2013``."
   ]
  },
  {
   "cell_type": "code",
   "execution_count": 14,
   "metadata": {},
   "outputs": [
    {
     "data": {
      "text/plain": [
       "{'C': 1436,\n",
       " 'C++': 1696,\n",
       " 'C#': 3027,\n",
       " 'Java': 3020,\n",
       " 'JavaScript': 4735,\n",
       " 'jQuery': 4109,\n",
       " 'JQuery': 239,\n",
       " 'Node.js': 599,\n",
       " 'Objective-C': 955,\n",
       " 'PHP': 2324,\n",
       " 'Python': 1880,\n",
       " 'Ruby': 794,\n",
       " 'SQL': 4593,\n",
       " 'Other (please specify)': 1897}"
      ]
     },
     "execution_count": 14,
     "metadata": {},
     "output_type": "execute_result"
    }
   ],
   "source": [
    "language_dict_2013 = df_2013_languages.describe().loc['count'].to_dict()\n",
    "language_dict_2013"
   ]
  },
  {
   "cell_type": "code",
   "execution_count": 15,
   "metadata": {},
   "outputs": [],
   "source": [
    "def percentage_dict(languages, dataframe, rows=None):\n",
    "    '''\n",
    "    INPUT - languages - dict - the dictionary of language counts\n",
    "            dataframe - DataFrame - the dataframe we would like to process\n",
    "            rows - boolean - the rows we want to remove nulls from\n",
    "    OUTPUT - \n",
    "            idx - index - the integer index of the column containing the specified value\n",
    "    '''\n",
    "    print(\"Rows Before: {}\".format(dataframe.shape[0]))\n",
    "    if rows is not None:\n",
    "        dataframe = dataframe[rows].dropna(how='all', axis=0)\n",
    "    else:\n",
    "        dataframe = dataframe.dropna(how='all', axis=0)\n",
    "        \n",
    "    n = dataframe.shape[0]\n",
    "    print(\"Rows After: {}\".format(n))\n",
    "    return dict((k, v/n) for k, v in languages.items())"
   ]
  },
  {
   "cell_type": "code",
   "execution_count": 16,
   "metadata": {},
   "outputs": [
    {
     "name": "stdout",
     "output_type": "stream",
     "text": [
      "Rows Before: 9742\n",
      "Rows After: 8042\n"
     ]
    }
   ],
   "source": [
    "results['2013'] = percentage_dict(language_dict_2013, df_2013_languages)"
   ]
  },
  {
   "cell_type": "code",
   "execution_count": 17,
   "metadata": {},
   "outputs": [
    {
     "data": {
      "text/plain": [
       "{'2013': {'C': 0.1785625466301915,\n",
       "  'C++': 0.21089281273315097,\n",
       "  'C#': 0.3763989057448396,\n",
       "  'Java': 0.3755284755036061,\n",
       "  'JavaScript': 0.5887838846058194,\n",
       "  'jQuery': 0.5109425516040785,\n",
       "  'JQuery': 0.02971897537925889,\n",
       "  'Node.js': 0.07448395921412584,\n",
       "  'Objective-C': 0.11875155433971649,\n",
       "  'PHP': 0.28898284008952996,\n",
       "  'Python': 0.23377269335986073,\n",
       "  'Ruby': 0.09873165879134543,\n",
       "  'SQL': 0.5711265854265108,\n",
       "  'Other (please specify)': 0.235886595374285}}"
      ]
     },
     "execution_count": 17,
     "metadata": {},
     "output_type": "execute_result"
    }
   ],
   "source": [
    "results"
   ]
  },
  {
   "cell_type": "markdown",
   "metadata": {},
   "source": [
    "### 2014 Dataset\n",
    "\n",
    "This dataset is in the same format was the previous and therefore the same wrangling process can be applied."
   ]
  },
  {
   "cell_type": "code",
   "execution_count": 18,
   "metadata": {},
   "outputs": [],
   "source": [
    "df_2014_schema, df_2014_data = make_schema_load_dataset(datasets[1])"
   ]
  },
  {
   "cell_type": "code",
   "execution_count": 19,
   "metadata": {},
   "outputs": [
    {
     "data": {
      "text/html": [
       "<div>\n",
       "<style scoped>\n",
       "    .dataframe tbody tr th:only-of-type {\n",
       "        vertical-align: middle;\n",
       "    }\n",
       "\n",
       "    .dataframe tbody tr th {\n",
       "        vertical-align: top;\n",
       "    }\n",
       "\n",
       "    .dataframe thead th {\n",
       "        text-align: right;\n",
       "    }\n",
       "</style>\n",
       "<table border=\"1\" class=\"dataframe\">\n",
       "  <thead>\n",
       "    <tr style=\"text-align: right;\">\n",
       "      <th></th>\n",
       "      <th>Question</th>\n",
       "      <th>Option</th>\n",
       "    </tr>\n",
       "  </thead>\n",
       "  <tbody>\n",
       "    <tr>\n",
       "      <th>0</th>\n",
       "      <td>What Country do you live in?</td>\n",
       "      <td>Response</td>\n",
       "    </tr>\n",
       "    <tr>\n",
       "      <th>1</th>\n",
       "      <td>NaN</td>\n",
       "      <td>Other (please specify)</td>\n",
       "    </tr>\n",
       "    <tr>\n",
       "      <th>2</th>\n",
       "      <td>Which US State or Territory do you live in?</td>\n",
       "      <td>Response</td>\n",
       "    </tr>\n",
       "  </tbody>\n",
       "</table>\n",
       "</div>"
      ],
      "text/plain": [
       "                                      Question                  Option\n",
       "0                 What Country do you live in?                Response\n",
       "1                                          NaN  Other (please specify)\n",
       "2  Which US State or Territory do you live in?                Response"
      ]
     },
     "execution_count": 19,
     "metadata": {},
     "output_type": "execute_result"
    }
   ],
   "source": [
    "df_2014_schema.head(3)"
   ]
  },
  {
   "cell_type": "code",
   "execution_count": 20,
   "metadata": {},
   "outputs": [],
   "source": [
    "index = get_index('Question', 'Which of the following languages or technologies have you used significantly in the past year?', df_2014_schema) "
   ]
  },
  {
   "cell_type": "code",
   "execution_count": 21,
   "metadata": {},
   "outputs": [
    {
     "data": {
      "text/html": [
       "<div>\n",
       "<style scoped>\n",
       "    .dataframe tbody tr th:only-of-type {\n",
       "        vertical-align: middle;\n",
       "    }\n",
       "\n",
       "    .dataframe tbody tr th {\n",
       "        vertical-align: top;\n",
       "    }\n",
       "\n",
       "    .dataframe thead th {\n",
       "        text-align: right;\n",
       "    }\n",
       "</style>\n",
       "<table border=\"1\" class=\"dataframe\">\n",
       "  <thead>\n",
       "    <tr style=\"text-align: right;\">\n",
       "      <th></th>\n",
       "      <th>Question</th>\n",
       "      <th>Option</th>\n",
       "    </tr>\n",
       "  </thead>\n",
       "  <tbody>\n",
       "    <tr>\n",
       "      <th>42</th>\n",
       "      <td>Which of the following languages or technologi...</td>\n",
       "      <td>C</td>\n",
       "    </tr>\n",
       "    <tr>\n",
       "      <th>43</th>\n",
       "      <td>NaN</td>\n",
       "      <td>C++</td>\n",
       "    </tr>\n",
       "    <tr>\n",
       "      <th>44</th>\n",
       "      <td>NaN</td>\n",
       "      <td>C#</td>\n",
       "    </tr>\n",
       "    <tr>\n",
       "      <th>45</th>\n",
       "      <td>NaN</td>\n",
       "      <td>Java</td>\n",
       "    </tr>\n",
       "    <tr>\n",
       "      <th>46</th>\n",
       "      <td>NaN</td>\n",
       "      <td>JavaScript</td>\n",
       "    </tr>\n",
       "    <tr>\n",
       "      <th>47</th>\n",
       "      <td>NaN</td>\n",
       "      <td>Node.js</td>\n",
       "    </tr>\n",
       "    <tr>\n",
       "      <th>48</th>\n",
       "      <td>NaN</td>\n",
       "      <td>Objective-C</td>\n",
       "    </tr>\n",
       "    <tr>\n",
       "      <th>49</th>\n",
       "      <td>NaN</td>\n",
       "      <td>PHP</td>\n",
       "    </tr>\n",
       "    <tr>\n",
       "      <th>50</th>\n",
       "      <td>NaN</td>\n",
       "      <td>Python</td>\n",
       "    </tr>\n",
       "    <tr>\n",
       "      <th>51</th>\n",
       "      <td>NaN</td>\n",
       "      <td>Ruby</td>\n",
       "    </tr>\n",
       "    <tr>\n",
       "      <th>52</th>\n",
       "      <td>NaN</td>\n",
       "      <td>SQL</td>\n",
       "    </tr>\n",
       "    <tr>\n",
       "      <th>53</th>\n",
       "      <td>NaN</td>\n",
       "      <td>Other (please specify)</td>\n",
       "    </tr>\n",
       "  </tbody>\n",
       "</table>\n",
       "</div>"
      ],
      "text/plain": [
       "                                             Question                  Option\n",
       "42  Which of the following languages or technologi...                       C\n",
       "43                                                NaN                     C++\n",
       "44                                                NaN                      C#\n",
       "45                                                NaN                    Java\n",
       "46                                                NaN              JavaScript\n",
       "47                                                NaN                 Node.js\n",
       "48                                                NaN             Objective-C\n",
       "49                                                NaN                     PHP\n",
       "50                                                NaN                  Python\n",
       "51                                                NaN                    Ruby\n",
       "52                                                NaN                     SQL\n",
       "53                                                NaN  Other (please specify)"
      ]
     },
     "execution_count": 21,
     "metadata": {},
     "output_type": "execute_result"
    }
   ],
   "source": [
    "df_2014_schema.iloc[index[0]:index[0]+12]"
   ]
  },
  {
   "cell_type": "code",
   "execution_count": 22,
   "metadata": {},
   "outputs": [
    {
     "data": {
      "text/html": [
       "<div>\n",
       "<style scoped>\n",
       "    .dataframe tbody tr th:only-of-type {\n",
       "        vertical-align: middle;\n",
       "    }\n",
       "\n",
       "    .dataframe tbody tr th {\n",
       "        vertical-align: top;\n",
       "    }\n",
       "\n",
       "    .dataframe thead th {\n",
       "        text-align: right;\n",
       "    }\n",
       "</style>\n",
       "<table border=\"1\" class=\"dataframe\">\n",
       "  <thead>\n",
       "    <tr style=\"text-align: right;\">\n",
       "      <th></th>\n",
       "      <th>C</th>\n",
       "      <th>C++</th>\n",
       "      <th>C#</th>\n",
       "      <th>Java</th>\n",
       "      <th>JavaScript</th>\n",
       "      <th>Node.js</th>\n",
       "      <th>Objective-C</th>\n",
       "      <th>PHP</th>\n",
       "      <th>Python</th>\n",
       "      <th>Ruby</th>\n",
       "      <th>SQL</th>\n",
       "      <th>Other (please specify).1</th>\n",
       "    </tr>\n",
       "  </thead>\n",
       "  <tbody>\n",
       "    <tr>\n",
       "      <th>0</th>\n",
       "      <td>NaN</td>\n",
       "      <td>NaN</td>\n",
       "      <td>NaN</td>\n",
       "      <td>Java</td>\n",
       "      <td>JavaScript</td>\n",
       "      <td>NaN</td>\n",
       "      <td>NaN</td>\n",
       "      <td>PHP</td>\n",
       "      <td>Python</td>\n",
       "      <td>NaN</td>\n",
       "      <td>NaN</td>\n",
       "      <td>NaN</td>\n",
       "    </tr>\n",
       "    <tr>\n",
       "      <th>1</th>\n",
       "      <td>NaN</td>\n",
       "      <td>NaN</td>\n",
       "      <td>NaN</td>\n",
       "      <td>NaN</td>\n",
       "      <td>NaN</td>\n",
       "      <td>NaN</td>\n",
       "      <td>NaN</td>\n",
       "      <td>PHP</td>\n",
       "      <td>NaN</td>\n",
       "      <td>NaN</td>\n",
       "      <td>NaN</td>\n",
       "      <td>NaN</td>\n",
       "    </tr>\n",
       "    <tr>\n",
       "      <th>2</th>\n",
       "      <td>NaN</td>\n",
       "      <td>NaN</td>\n",
       "      <td>C#</td>\n",
       "      <td>NaN</td>\n",
       "      <td>JavaScript</td>\n",
       "      <td>NaN</td>\n",
       "      <td>NaN</td>\n",
       "      <td>NaN</td>\n",
       "      <td>NaN</td>\n",
       "      <td>NaN</td>\n",
       "      <td>SQL</td>\n",
       "      <td>NaN</td>\n",
       "    </tr>\n",
       "  </tbody>\n",
       "</table>\n",
       "</div>"
      ],
      "text/plain": [
       "     C  C++   C#  Java  JavaScript Node.js Objective-C  PHP  Python Ruby  SQL  \\\n",
       "0  NaN  NaN  NaN  Java  JavaScript     NaN         NaN  PHP  Python  NaN  NaN   \n",
       "1  NaN  NaN  NaN   NaN         NaN     NaN         NaN  PHP     NaN  NaN  NaN   \n",
       "2  NaN  NaN   C#   NaN  JavaScript     NaN         NaN  NaN     NaN  NaN  SQL   \n",
       "\n",
       "  Other (please specify).1  \n",
       "0                      NaN  \n",
       "1                      NaN  \n",
       "2                      NaN  "
      ]
     },
     "execution_count": 22,
     "metadata": {},
     "output_type": "execute_result"
    }
   ],
   "source": [
    "df_2014_languages = df_2014_data.iloc[:, index[0]:index[0]+12]\n",
    "df_2014_languages.head(3)"
   ]
  },
  {
   "cell_type": "code",
   "execution_count": 23,
   "metadata": {},
   "outputs": [
    {
     "data": {
      "text/plain": [
       "{'C': 1174,\n",
       " 'C++': 1418,\n",
       " 'C#': 2378,\n",
       " 'Java': 2479,\n",
       " 'JavaScript': 3783,\n",
       " 'Node.js': 641,\n",
       " 'Objective-C': 675,\n",
       " 'PHP': 1710,\n",
       " 'Python': 1473,\n",
       " 'Ruby': 593,\n",
       " 'SQL': 3467,\n",
       " 'Other (please specify).1': 1398}"
      ]
     },
     "execution_count": 23,
     "metadata": {},
     "output_type": "execute_result"
    }
   ],
   "source": [
    "df_2014_languages.describe().loc['count'].to_dict()"
   ]
  },
  {
   "cell_type": "code",
   "execution_count": 24,
   "metadata": {},
   "outputs": [
    {
     "name": "stdout",
     "output_type": "stream",
     "text": [
      "Rows Before: 7643\n",
      "Rows After: 6537\n"
     ]
    }
   ],
   "source": [
    "results['2014'] = percentage_dict(df_2014_languages.describe().loc['count'].to_dict(), df_2014_languages)"
   ]
  },
  {
   "cell_type": "markdown",
   "metadata": {},
   "source": [
    "### 2015 Dataset\n",
    "\n",
    "This dataset is stored in a different format, and the function we created to return the indexes had to be changed to a more general approach. Using partial string matching, we can get the language columns and in fact is a nicer approach as we don't need to find where to end the slice as the indexes of all language columns are returned. "
   ]
  },
  {
   "cell_type": "code",
   "execution_count": 25,
   "metadata": {},
   "outputs": [],
   "source": [
    "df_2015_schema, df_2015_data = make_schema_load_dataset(datasets[2])"
   ]
  },
  {
   "cell_type": "code",
   "execution_count": 26,
   "metadata": {},
   "outputs": [],
   "source": [
    "indexes = get_index('Option', 'Current Lang & Tech', df_2015_schema) "
   ]
  },
  {
   "cell_type": "code",
   "execution_count": 27,
   "metadata": {},
   "outputs": [
    {
     "data": {
      "text/plain": [
       "Int64Index([ 8,  9, 10, 11, 12, 13, 14, 15, 16, 17, 18, 19, 20, 21, 22, 23, 24,\n",
       "            25, 26, 27, 28, 29, 30, 31, 32, 33, 34, 35, 36, 37, 38, 39, 40, 41,\n",
       "            42, 43, 44, 45, 46, 47, 48, 49, 50],\n",
       "           dtype='int64')"
      ]
     },
     "execution_count": 27,
     "metadata": {},
     "output_type": "execute_result"
    }
   ],
   "source": [
    "indexes"
   ]
  },
  {
   "cell_type": "code",
   "execution_count": 28,
   "metadata": {},
   "outputs": [
    {
     "data": {
      "text/html": [
       "<div>\n",
       "<style scoped>\n",
       "    .dataframe tbody tr th:only-of-type {\n",
       "        vertical-align: middle;\n",
       "    }\n",
       "\n",
       "    .dataframe tbody tr th {\n",
       "        vertical-align: top;\n",
       "    }\n",
       "\n",
       "    .dataframe thead th {\n",
       "        text-align: right;\n",
       "    }\n",
       "</style>\n",
       "<table border=\"1\" class=\"dataframe\">\n",
       "  <thead>\n",
       "    <tr style=\"text-align: right;\">\n",
       "      <th></th>\n",
       "      <th>Current Lang &amp; Tech: Android</th>\n",
       "      <th>Current Lang &amp; Tech: Arduino</th>\n",
       "      <th>Current Lang &amp; Tech: AngularJS</th>\n",
       "      <th>Current Lang &amp; Tech: C</th>\n",
       "      <th>Current Lang &amp; Tech: C++</th>\n",
       "      <th>Current Lang &amp; Tech: C++11</th>\n",
       "      <th>Current Lang &amp; Tech: C#</th>\n",
       "      <th>Current Lang &amp; Tech: Cassandra</th>\n",
       "      <th>Current Lang &amp; Tech: CoffeeScript</th>\n",
       "      <th>Current Lang &amp; Tech: Cordova</th>\n",
       "      <th>...</th>\n",
       "      <th>Current Lang &amp; Tech: Scala</th>\n",
       "      <th>Current Lang &amp; Tech: Sharepoint</th>\n",
       "      <th>Current Lang &amp; Tech: Spark</th>\n",
       "      <th>Current Lang &amp; Tech: SQL</th>\n",
       "      <th>Current Lang &amp; Tech: SQL Server</th>\n",
       "      <th>Current Lang &amp; Tech: Swift</th>\n",
       "      <th>Current Lang &amp; Tech: Visual Basic</th>\n",
       "      <th>Current Lang &amp; Tech: Windows Phone</th>\n",
       "      <th>Current Lang &amp; Tech: Wordpress</th>\n",
       "      <th>Current Lang &amp; Tech: Write-In</th>\n",
       "    </tr>\n",
       "  </thead>\n",
       "  <tbody>\n",
       "    <tr>\n",
       "      <th>0</th>\n",
       "      <td>NaN</td>\n",
       "      <td>NaN</td>\n",
       "      <td>NaN</td>\n",
       "      <td>NaN</td>\n",
       "      <td>NaN</td>\n",
       "      <td>NaN</td>\n",
       "      <td>NaN</td>\n",
       "      <td>NaN</td>\n",
       "      <td>NaN</td>\n",
       "      <td>NaN</td>\n",
       "      <td>...</td>\n",
       "      <td>Scala</td>\n",
       "      <td>NaN</td>\n",
       "      <td>NaN</td>\n",
       "      <td>NaN</td>\n",
       "      <td>NaN</td>\n",
       "      <td>NaN</td>\n",
       "      <td>NaN</td>\n",
       "      <td>NaN</td>\n",
       "      <td>NaN</td>\n",
       "      <td>NaN</td>\n",
       "    </tr>\n",
       "    <tr>\n",
       "      <th>1</th>\n",
       "      <td>NaN</td>\n",
       "      <td>NaN</td>\n",
       "      <td>NaN</td>\n",
       "      <td>NaN</td>\n",
       "      <td>NaN</td>\n",
       "      <td>NaN</td>\n",
       "      <td>C#</td>\n",
       "      <td>NaN</td>\n",
       "      <td>NaN</td>\n",
       "      <td>NaN</td>\n",
       "      <td>...</td>\n",
       "      <td>NaN</td>\n",
       "      <td>NaN</td>\n",
       "      <td>NaN</td>\n",
       "      <td>NaN</td>\n",
       "      <td>NaN</td>\n",
       "      <td>NaN</td>\n",
       "      <td>NaN</td>\n",
       "      <td>NaN</td>\n",
       "      <td>NaN</td>\n",
       "      <td>NaN</td>\n",
       "    </tr>\n",
       "    <tr>\n",
       "      <th>2</th>\n",
       "      <td>NaN</td>\n",
       "      <td>NaN</td>\n",
       "      <td>NaN</td>\n",
       "      <td>NaN</td>\n",
       "      <td>NaN</td>\n",
       "      <td>NaN</td>\n",
       "      <td>C#</td>\n",
       "      <td>NaN</td>\n",
       "      <td>NaN</td>\n",
       "      <td>NaN</td>\n",
       "      <td>...</td>\n",
       "      <td>NaN</td>\n",
       "      <td>NaN</td>\n",
       "      <td>NaN</td>\n",
       "      <td>NaN</td>\n",
       "      <td>NaN</td>\n",
       "      <td>NaN</td>\n",
       "      <td>NaN</td>\n",
       "      <td>NaN</td>\n",
       "      <td>NaN</td>\n",
       "      <td>NaN</td>\n",
       "    </tr>\n",
       "  </tbody>\n",
       "</table>\n",
       "<p>3 rows × 43 columns</p>\n",
       "</div>"
      ],
      "text/plain": [
       "  Current Lang & Tech: Android Current Lang & Tech: Arduino  \\\n",
       "0                          NaN                          NaN   \n",
       "1                          NaN                          NaN   \n",
       "2                          NaN                          NaN   \n",
       "\n",
       "  Current Lang & Tech: AngularJS Current Lang & Tech: C  \\\n",
       "0                            NaN                    NaN   \n",
       "1                            NaN                    NaN   \n",
       "2                            NaN                    NaN   \n",
       "\n",
       "  Current Lang & Tech: C++ Current Lang & Tech: C++11 Current Lang & Tech: C#  \\\n",
       "0                      NaN                        NaN                     NaN   \n",
       "1                      NaN                        NaN                      C#   \n",
       "2                      NaN                        NaN                      C#   \n",
       "\n",
       "  Current Lang & Tech: Cassandra Current Lang & Tech: CoffeeScript  \\\n",
       "0                            NaN                               NaN   \n",
       "1                            NaN                               NaN   \n",
       "2                            NaN                               NaN   \n",
       "\n",
       "  Current Lang & Tech: Cordova              ...               \\\n",
       "0                          NaN              ...                \n",
       "1                          NaN              ...                \n",
       "2                          NaN              ...                \n",
       "\n",
       "  Current Lang & Tech: Scala Current Lang & Tech: Sharepoint  \\\n",
       "0                      Scala                             NaN   \n",
       "1                        NaN                             NaN   \n",
       "2                        NaN                             NaN   \n",
       "\n",
       "  Current Lang & Tech: Spark Current Lang & Tech: SQL  \\\n",
       "0                        NaN                      NaN   \n",
       "1                        NaN                      NaN   \n",
       "2                        NaN                      NaN   \n",
       "\n",
       "  Current Lang & Tech: SQL Server Current Lang & Tech: Swift  \\\n",
       "0                             NaN                        NaN   \n",
       "1                             NaN                        NaN   \n",
       "2                             NaN                        NaN   \n",
       "\n",
       "  Current Lang & Tech: Visual Basic Current Lang & Tech: Windows Phone  \\\n",
       "0                               NaN                                NaN   \n",
       "1                               NaN                                NaN   \n",
       "2                               NaN                                NaN   \n",
       "\n",
       "  Current Lang & Tech: Wordpress Current Lang & Tech: Write-In  \n",
       "0                            NaN                           NaN  \n",
       "1                            NaN                           NaN  \n",
       "2                            NaN                           NaN  \n",
       "\n",
       "[3 rows x 43 columns]"
      ]
     },
     "execution_count": 28,
     "metadata": {},
     "output_type": "execute_result"
    }
   ],
   "source": [
    "df_2015_languages = df_2015_data.iloc[:, indexes]\n",
    "df_2015_languages.head(3)"
   ]
  },
  {
   "cell_type": "markdown",
   "metadata": {},
   "source": [
    "Each language has the prefix ``'Current Lang & Tech: ``, for example, ``'Current Lang & Tech: Android'``. Therefore, to extract the language name, we can split the strings by ``: `` and take the second component.  "
   ]
  },
  {
   "cell_type": "code",
   "execution_count": 29,
   "metadata": {},
   "outputs": [],
   "source": [
    "def strip_keys(dictionary):\n",
    "    '''\n",
    "    INPUT - dictionary - dict - the dictionary of language counts\n",
    "    OUTPUT - \n",
    "            dict - the dictionary with stripped keys, containing only the language names\n",
    "    '''\n",
    "    return dict((k.split(': ')[1], v) for k, v in dictionary.items())"
   ]
  },
  {
   "cell_type": "code",
   "execution_count": 30,
   "metadata": {},
   "outputs": [
    {
     "data": {
      "text/plain": [
       "{'Current Lang & Tech: Android': 4110,\n",
       " 'Current Lang & Tech: Arduino': 1626,\n",
       " 'Current Lang & Tech: AngularJS': 2913,\n",
       " 'Current Lang & Tech: C': 3612,\n",
       " 'Current Lang & Tech: C++': 4529,\n",
       " 'Current Lang & Tech: C++11': 1851,\n",
       " 'Current Lang & Tech: C#': 6949,\n",
       " 'Current Lang & Tech: Cassandra': 202,\n",
       " 'Current Lang & Tech: CoffeeScript': 783,\n",
       " 'Current Lang & Tech: Cordova': 628,\n",
       " 'Current Lang & Tech: Clojure': 176,\n",
       " 'Current Lang & Tech: Cloud': 1410,\n",
       " 'Current Lang & Tech: Dart': 109,\n",
       " 'Current Lang & Tech: F#': 174,\n",
       " 'Current Lang & Tech: Go': 462,\n",
       " 'Current Lang & Tech: Hadoop': 342,\n",
       " 'Current Lang & Tech: Haskell': 357,\n",
       " 'Current Lang & Tech: iOS': 1956,\n",
       " 'Current Lang & Tech: Java': 8219,\n",
       " 'Current Lang & Tech: JavaScript': 11962,\n",
       " 'Current Lang & Tech: LAMP': 1926,\n",
       " 'Current Lang & Tech: Matlab': 860,\n",
       " 'Current Lang & Tech: MongoDB': 1745,\n",
       " 'Current Lang & Tech: Node.js': 2919,\n",
       " 'Current Lang & Tech: Objective-C': 1719,\n",
       " 'Current Lang & Tech: Perl': 738,\n",
       " 'Current Lang & Tech: PHP': 6529,\n",
       " 'Current Lang & Tech: Python': 5238,\n",
       " 'Current Lang & Tech: R': 755,\n",
       " 'Current Lang & Tech: Redis': 873,\n",
       " 'Current Lang & Tech: Ruby': 1765,\n",
       " 'Current Lang & Tech: Rust': 103,\n",
       " 'Current Lang & Tech: Salesforce': 153,\n",
       " 'Current Lang & Tech: Scala': 538,\n",
       " 'Current Lang & Tech: Sharepoint': 349,\n",
       " 'Current Lang & Tech: Spark': 104,\n",
       " 'Current Lang & Tech: SQL': 9439,\n",
       " 'Current Lang & Tech: SQL Server': 4129,\n",
       " 'Current Lang & Tech: Swift': 759,\n",
       " 'Current Lang & Tech: Visual Basic': 1701,\n",
       " 'Current Lang & Tech: Windows Phone': 570,\n",
       " 'Current Lang & Tech: Wordpress': 2007,\n",
       " 'Current Lang & Tech: Write-In': 2148}"
      ]
     },
     "execution_count": 30,
     "metadata": {},
     "output_type": "execute_result"
    }
   ],
   "source": [
    "df_2015_languages.describe().loc['count'].to_dict()"
   ]
  },
  {
   "cell_type": "code",
   "execution_count": 31,
   "metadata": {},
   "outputs": [],
   "source": [
    "df_2015_languages_stripped = strip_keys(df_2015_languages.describe().loc['count'].to_dict())"
   ]
  },
  {
   "cell_type": "code",
   "execution_count": 32,
   "metadata": {},
   "outputs": [
    {
     "name": "stdout",
     "output_type": "stream",
     "text": [
      "Rows Before: 26086\n",
      "Rows After: 22107\n"
     ]
    }
   ],
   "source": [
    "results['2015'] = percentage_dict(df_2015_languages_stripped, df_2015_languages)"
   ]
  },
  {
   "cell_type": "markdown",
   "metadata": {},
   "source": [
    "###  2016 Dataset\n",
    " \n",
    "This dataset, again, has a new format. The language results are stored in one column and not across multiple columns, delimitered by a semi-colon ``;``.  \n",
    "\n",
    "Therefore I have created a new function called ``explode_results`` which splits and counts responses and then returns the count dictionary."
   ]
  },
  {
   "cell_type": "code",
   "execution_count": 33,
   "metadata": {},
   "outputs": [
    {
     "data": {
      "text/plain": [
       "'datasets\\\\2016_survey_results_public.csv'"
      ]
     },
     "execution_count": 33,
     "metadata": {},
     "output_type": "execute_result"
    }
   ],
   "source": [
    "datasets[3]"
   ]
  },
  {
   "cell_type": "code",
   "execution_count": 35,
   "metadata": {},
   "outputs": [],
   "source": [
    "df_2016_data = pd.read_csv(datasets[3], index_col=None, header=0, encoding=\"utf-8\", low_memory=False)"
   ]
  },
  {
   "cell_type": "code",
   "execution_count": 36,
   "metadata": {},
   "outputs": [
    {
     "data": {
      "text/html": [
       "<div>\n",
       "<style scoped>\n",
       "    .dataframe tbody tr th:only-of-type {\n",
       "        vertical-align: middle;\n",
       "    }\n",
       "\n",
       "    .dataframe tbody tr th {\n",
       "        vertical-align: top;\n",
       "    }\n",
       "\n",
       "    .dataframe thead th {\n",
       "        text-align: right;\n",
       "    }\n",
       "</style>\n",
       "<table border=\"1\" class=\"dataframe\">\n",
       "  <thead>\n",
       "    <tr style=\"text-align: right;\">\n",
       "      <th></th>\n",
       "      <th>Unnamed: 0</th>\n",
       "      <th>collector</th>\n",
       "      <th>country</th>\n",
       "      <th>un_subregion</th>\n",
       "      <th>so_region</th>\n",
       "      <th>age_range</th>\n",
       "      <th>age_midpoint</th>\n",
       "      <th>gender</th>\n",
       "      <th>self_identification</th>\n",
       "      <th>occupation</th>\n",
       "      <th>...</th>\n",
       "      <th>important_sameend</th>\n",
       "      <th>important_newtech</th>\n",
       "      <th>important_buildnew</th>\n",
       "      <th>important_buildexisting</th>\n",
       "      <th>important_promotion</th>\n",
       "      <th>important_companymission</th>\n",
       "      <th>important_wfh</th>\n",
       "      <th>important_ownoffice</th>\n",
       "      <th>developer_challenges</th>\n",
       "      <th>why_stack_overflow</th>\n",
       "    </tr>\n",
       "  </thead>\n",
       "  <tbody>\n",
       "    <tr>\n",
       "      <th>0</th>\n",
       "      <td>1888</td>\n",
       "      <td>Facebook</td>\n",
       "      <td>Afghanistan</td>\n",
       "      <td>Southern Asia</td>\n",
       "      <td>Central Asia</td>\n",
       "      <td>20-24</td>\n",
       "      <td>22.0</td>\n",
       "      <td>Male</td>\n",
       "      <td>Programmer</td>\n",
       "      <td>NaN</td>\n",
       "      <td>...</td>\n",
       "      <td>NaN</td>\n",
       "      <td>NaN</td>\n",
       "      <td>NaN</td>\n",
       "      <td>NaN</td>\n",
       "      <td>NaN</td>\n",
       "      <td>NaN</td>\n",
       "      <td>NaN</td>\n",
       "      <td>NaN</td>\n",
       "      <td>NaN</td>\n",
       "      <td>NaN</td>\n",
       "    </tr>\n",
       "    <tr>\n",
       "      <th>1</th>\n",
       "      <td>4637</td>\n",
       "      <td>Facebook</td>\n",
       "      <td>Afghanistan</td>\n",
       "      <td>Southern Asia</td>\n",
       "      <td>Central Asia</td>\n",
       "      <td>30-34</td>\n",
       "      <td>32.0</td>\n",
       "      <td>Male</td>\n",
       "      <td>Developer; Engineer; Programmer</td>\n",
       "      <td>Mobile developer - iOS</td>\n",
       "      <td>...</td>\n",
       "      <td>This is somewhat important</td>\n",
       "      <td>This is very important</td>\n",
       "      <td>This is very important</td>\n",
       "      <td>I don't care about this</td>\n",
       "      <td>This is somewhat important</td>\n",
       "      <td>This is somewhat important</td>\n",
       "      <td>I don't care about this</td>\n",
       "      <td>I don't care about this</td>\n",
       "      <td>Unrealistic expectations; Interacting with non...</td>\n",
       "      <td>To get help for my job; Because I can't do my ...</td>\n",
       "    </tr>\n",
       "    <tr>\n",
       "      <th>2</th>\n",
       "      <td>11164</td>\n",
       "      <td>Facebook</td>\n",
       "      <td>Afghanistan</td>\n",
       "      <td>Southern Asia</td>\n",
       "      <td>Central Asia</td>\n",
       "      <td>NaN</td>\n",
       "      <td>NaN</td>\n",
       "      <td>NaN</td>\n",
       "      <td>NaN</td>\n",
       "      <td>NaN</td>\n",
       "      <td>...</td>\n",
       "      <td>NaN</td>\n",
       "      <td>NaN</td>\n",
       "      <td>NaN</td>\n",
       "      <td>NaN</td>\n",
       "      <td>NaN</td>\n",
       "      <td>NaN</td>\n",
       "      <td>NaN</td>\n",
       "      <td>NaN</td>\n",
       "      <td>NaN</td>\n",
       "      <td>NaN</td>\n",
       "    </tr>\n",
       "    <tr>\n",
       "      <th>3</th>\n",
       "      <td>21378</td>\n",
       "      <td>Facebook</td>\n",
       "      <td>Afghanistan</td>\n",
       "      <td>Southern Asia</td>\n",
       "      <td>Central Asia</td>\n",
       "      <td>NaN</td>\n",
       "      <td>NaN</td>\n",
       "      <td>Female</td>\n",
       "      <td>Engineer</td>\n",
       "      <td>DevOps</td>\n",
       "      <td>...</td>\n",
       "      <td>I don't care about this</td>\n",
       "      <td>This is somewhat important</td>\n",
       "      <td>This is very important</td>\n",
       "      <td>This is very important</td>\n",
       "      <td>I don't care about this</td>\n",
       "      <td>I don't care about this</td>\n",
       "      <td>This is very important</td>\n",
       "      <td>This is somewhat important</td>\n",
       "      <td>Corporate policies; Interacting with non-techn...</td>\n",
       "      <td>To get help for my job; Beacause I love to learn</td>\n",
       "    </tr>\n",
       "    <tr>\n",
       "      <th>4</th>\n",
       "      <td>30280</td>\n",
       "      <td>Facebook</td>\n",
       "      <td>Afghanistan</td>\n",
       "      <td>Southern Asia</td>\n",
       "      <td>Central Asia</td>\n",
       "      <td>&gt; 60</td>\n",
       "      <td>65.0</td>\n",
       "      <td>Prefer not to disclose</td>\n",
       "      <td>Developer; Engineer; Programmer; Sr. Developer...</td>\n",
       "      <td>NaN</td>\n",
       "      <td>...</td>\n",
       "      <td>NaN</td>\n",
       "      <td>NaN</td>\n",
       "      <td>NaN</td>\n",
       "      <td>NaN</td>\n",
       "      <td>NaN</td>\n",
       "      <td>NaN</td>\n",
       "      <td>NaN</td>\n",
       "      <td>NaN</td>\n",
       "      <td>NaN</td>\n",
       "      <td>NaN</td>\n",
       "    </tr>\n",
       "  </tbody>\n",
       "</table>\n",
       "<p>5 rows × 66 columns</p>\n",
       "</div>"
      ],
      "text/plain": [
       "   Unnamed: 0 collector      country   un_subregion     so_region age_range  \\\n",
       "0        1888  Facebook  Afghanistan  Southern Asia  Central Asia     20-24   \n",
       "1        4637  Facebook  Afghanistan  Southern Asia  Central Asia     30-34   \n",
       "2       11164  Facebook  Afghanistan  Southern Asia  Central Asia       NaN   \n",
       "3       21378  Facebook  Afghanistan  Southern Asia  Central Asia       NaN   \n",
       "4       30280  Facebook  Afghanistan  Southern Asia  Central Asia      > 60   \n",
       "\n",
       "   age_midpoint                  gender  \\\n",
       "0          22.0                    Male   \n",
       "1          32.0                    Male   \n",
       "2           NaN                     NaN   \n",
       "3           NaN                  Female   \n",
       "4          65.0  Prefer not to disclose   \n",
       "\n",
       "                                 self_identification              occupation  \\\n",
       "0                                         Programmer                     NaN   \n",
       "1                    Developer; Engineer; Programmer  Mobile developer - iOS   \n",
       "2                                                NaN                     NaN   \n",
       "3                                           Engineer                  DevOps   \n",
       "4  Developer; Engineer; Programmer; Sr. Developer...                     NaN   \n",
       "\n",
       "                         ...                          \\\n",
       "0                        ...                           \n",
       "1                        ...                           \n",
       "2                        ...                           \n",
       "3                        ...                           \n",
       "4                        ...                           \n",
       "\n",
       "            important_sameend           important_newtech  \\\n",
       "0                         NaN                         NaN   \n",
       "1  This is somewhat important      This is very important   \n",
       "2                         NaN                         NaN   \n",
       "3     I don't care about this  This is somewhat important   \n",
       "4                         NaN                         NaN   \n",
       "\n",
       "       important_buildnew  important_buildexisting  \\\n",
       "0                     NaN                      NaN   \n",
       "1  This is very important  I don't care about this   \n",
       "2                     NaN                      NaN   \n",
       "3  This is very important   This is very important   \n",
       "4                     NaN                      NaN   \n",
       "\n",
       "          important_promotion    important_companymission  \\\n",
       "0                         NaN                         NaN   \n",
       "1  This is somewhat important  This is somewhat important   \n",
       "2                         NaN                         NaN   \n",
       "3     I don't care about this     I don't care about this   \n",
       "4                         NaN                         NaN   \n",
       "\n",
       "             important_wfh         important_ownoffice  \\\n",
       "0                      NaN                         NaN   \n",
       "1  I don't care about this     I don't care about this   \n",
       "2                      NaN                         NaN   \n",
       "3   This is very important  This is somewhat important   \n",
       "4                      NaN                         NaN   \n",
       "\n",
       "                                developer_challenges  \\\n",
       "0                                                NaN   \n",
       "1  Unrealistic expectations; Interacting with non...   \n",
       "2                                                NaN   \n",
       "3  Corporate policies; Interacting with non-techn...   \n",
       "4                                                NaN   \n",
       "\n",
       "                                  why_stack_overflow  \n",
       "0                                                NaN  \n",
       "1  To get help for my job; Because I can't do my ...  \n",
       "2                                                NaN  \n",
       "3   To get help for my job; Beacause I love to learn  \n",
       "4                                                NaN  \n",
       "\n",
       "[5 rows x 66 columns]"
      ]
     },
     "execution_count": 36,
     "metadata": {},
     "output_type": "execute_result"
    }
   ],
   "source": [
    "df_2016_data.head()"
   ]
  },
  {
   "cell_type": "code",
   "execution_count": 37,
   "metadata": {},
   "outputs": [],
   "source": [
    "def explode_results(data, column):\n",
    "    '''\n",
    "    INPUT - data - DataFrame - the dataframe we would like to process\n",
    "            column - string - the column we would like to search for\n",
    "    OUTPUT - \n",
    "            dict - the resulting dictionary where languages are keys and the values are their respective counts\n",
    "    '''\n",
    "    results = defaultdict(int)\n",
    "    for index, row in data.iterrows():\n",
    "        if row[column] is not np.nan:\n",
    "            for val in row[column].split(';'):\n",
    "                results[val.strip()] += 1\n",
    "    return dict(results)"
   ]
  },
  {
   "cell_type": "code",
   "execution_count": 38,
   "metadata": {},
   "outputs": [],
   "source": [
    "df_2016_languages = explode_results(df_2016_data, 'tech_do')"
   ]
  },
  {
   "cell_type": "code",
   "execution_count": 39,
   "metadata": {},
   "outputs": [
    {
     "data": {
      "text/plain": [
       "{'iOS': 4498,\n",
       " 'Objective-C': 3202,\n",
       " 'Android': 8601,\n",
       " 'Arduino / Raspberry Pi': 3797,\n",
       " 'AngularJS': 8823,\n",
       " 'C': 7678,\n",
       " 'C++': 9589,\n",
       " 'C#': 15283,\n",
       " 'Cassandra': 663,\n",
       " 'CoffeeScript': 1662,\n",
       " 'Cordova': 1651,\n",
       " 'Clojure': 556,\n",
       " 'Cloud (AWS, GAE, Azure, etc.)': 4629,\n",
       " 'Dart': 222,\n",
       " 'F#': 484,\n",
       " 'Go': 1547,\n",
       " 'Hadoop': 1012,\n",
       " 'Haskell': 813,\n",
       " 'Java': 17942,\n",
       " 'JavaScript': 27385,\n",
       " 'LAMP': 4821,\n",
       " 'Matlab': 1602,\n",
       " 'MongoDB': 4780,\n",
       " 'Node.js': 8509,\n",
       " 'Perl': 1624,\n",
       " 'PHP': 12780,\n",
       " 'Python': 12282,\n",
       " 'R': 1632,\n",
       " 'ReactJS': 2541,\n",
       " 'Redis': 2862,\n",
       " 'Ruby': 4383,\n",
       " 'Rust': 436,\n",
       " 'Salesforce': 665,\n",
       " 'Scala': 1602,\n",
       " 'SharePoint': 853,\n",
       " 'Spark': 707,\n",
       " 'SQL': 21976,\n",
       " 'SQL Server': 9306,\n",
       " 'Swift': 2746,\n",
       " 'Visual Basic': 3312,\n",
       " 'Windows Phone': 1123,\n",
       " 'WordPress': 4496}"
      ]
     },
     "execution_count": 39,
     "metadata": {},
     "output_type": "execute_result"
    }
   ],
   "source": [
    "df_2016_languages"
   ]
  },
  {
   "cell_type": "markdown",
   "metadata": {},
   "source": [
    "This dictionary can be passed to the ``percentage_dict`` function."
   ]
  },
  {
   "cell_type": "code",
   "execution_count": 40,
   "metadata": {},
   "outputs": [
    {
     "name": "stdout",
     "output_type": "stream",
     "text": [
      "Rows Before: 56030\n",
      "Rows After: 49025\n"
     ]
    }
   ],
   "source": [
    "results['2016'] = percentage_dict(df_2016_languages, df_2016_data, 'tech_do')"
   ]
  },
  {
   "cell_type": "markdown",
   "metadata": {},
   "source": [
    "### 2017 Dataset\n",
    "\n",
    "The following two datasets are in a new, consistent format with an accompanying schema. Similarly to 2016, they are stored in a single column and semi-colon delimitered. Therefore, our ``explode_results`` function still works appropriately."
   ]
  },
  {
   "cell_type": "code",
   "execution_count": 41,
   "metadata": {},
   "outputs": [],
   "source": [
    "df_2017_data = pd.read_csv(datasets[4], index_col=None, header=0, encoding=\"utf-8\", low_memory=False)"
   ]
  },
  {
   "cell_type": "code",
   "execution_count": 42,
   "metadata": {},
   "outputs": [
    {
     "data": {
      "text/plain": [
       "0                            Swift\n",
       "1    JavaScript; Python; Ruby; SQL\n",
       "2                Java; PHP; Python\n",
       "3           Matlab; Python; R; SQL\n",
       "4                              NaN\n",
       "Name: HaveWorkedLanguage, dtype: object"
      ]
     },
     "execution_count": 42,
     "metadata": {},
     "output_type": "execute_result"
    }
   ],
   "source": [
    "df_2017_data['HaveWorkedLanguage'].head()"
   ]
  },
  {
   "cell_type": "code",
   "execution_count": 43,
   "metadata": {},
   "outputs": [],
   "source": [
    "df_2017_languages = explode_results(df_2017_data, 'HaveWorkedLanguage')"
   ]
  },
  {
   "cell_type": "code",
   "execution_count": 44,
   "metadata": {},
   "outputs": [
    {
     "data": {
      "text/plain": [
       "{'Swift': 2368,\n",
       " 'JavaScript': 22875,\n",
       " 'Python': 11704,\n",
       " 'Ruby': 3324,\n",
       " 'SQL': 18754,\n",
       " 'Java': 14524,\n",
       " 'PHP': 10290,\n",
       " 'Matlab': 1569,\n",
       " 'R': 1634,\n",
       " 'Rust': 416,\n",
       " 'CoffeeScript': 1192,\n",
       " 'Clojure': 391,\n",
       " 'Elixir': 380,\n",
       " 'Erlang': 281,\n",
       " 'Haskell': 649,\n",
       " 'C#': 12476,\n",
       " 'Objective-C': 2349,\n",
       " 'C': 6974,\n",
       " 'C++': 8155,\n",
       " 'Assembly': 1823,\n",
       " 'VB.NET': 2273,\n",
       " 'Perl': 1585,\n",
       " 'Scala': 1309,\n",
       " 'F#': 457,\n",
       " 'TypeScript': 3488,\n",
       " 'Lua': 1039,\n",
       " 'VBA': 1574,\n",
       " 'Groovy': 1193,\n",
       " 'Go': 1557,\n",
       " 'Smalltalk': 327,\n",
       " 'Visual Basic 6': 1071,\n",
       " 'Common Lisp': 273,\n",
       " 'Dart': 145,\n",
       " 'Julia': 138,\n",
       " 'Hack': 107}"
      ]
     },
     "execution_count": 44,
     "metadata": {},
     "output_type": "execute_result"
    }
   ],
   "source": [
    "df_2017_languages"
   ]
  },
  {
   "cell_type": "code",
   "execution_count": 45,
   "metadata": {},
   "outputs": [
    {
     "name": "stdout",
     "output_type": "stream",
     "text": [
      "Rows Before: 51392\n",
      "Rows After: 36625\n"
     ]
    }
   ],
   "source": [
    "results['2017'] = percentage_dict(df_2017_languages, df_2017_data, 'HaveWorkedLanguage')"
   ]
  },
  {
   "cell_type": "markdown",
   "metadata": {},
   "source": [
    "### 2018 Dataset\n",
    "\n",
    "Although stored similarly, there is a slight change in the way data is stored (colon only) which meant a change was neccessary in the ``explode_results`` function. Instead of splitting on ``; `` (colon whitespace), I removed the whitespace and stripped the strings in the resulting array."
   ]
  },
  {
   "cell_type": "code",
   "execution_count": 46,
   "metadata": {},
   "outputs": [],
   "source": [
    "df_2018_data = pd.read_csv(datasets[5], index_col=None, header=0, encoding=\"utf-8\", low_memory=False)"
   ]
  },
  {
   "cell_type": "code",
   "execution_count": 47,
   "metadata": {},
   "outputs": [
    {
     "data": {
      "text/plain": [
       "0                          JavaScript;Python;HTML;CSS\n",
       "1                        JavaScript;Python;Bash/Shell\n",
       "2                                                 NaN\n",
       "3    C#;JavaScript;SQL;TypeScript;HTML;CSS;Bash/Shell\n",
       "4                  C;C++;Java;Matlab;R;SQL;Bash/Shell\n",
       "Name: LanguageWorkedWith, dtype: object"
      ]
     },
     "execution_count": 47,
     "metadata": {},
     "output_type": "execute_result"
    }
   ],
   "source": [
    "df_2018_data['LanguageWorkedWith'].head()"
   ]
  },
  {
   "cell_type": "code",
   "execution_count": 48,
   "metadata": {},
   "outputs": [],
   "source": [
    "df_2018_languages = explode_results(df_2018_data, 'LanguageWorkedWith')"
   ]
  },
  {
   "cell_type": "code",
   "execution_count": 49,
   "metadata": {},
   "outputs": [
    {
     "data": {
      "text/plain": [
       "{'JavaScript': 54686,\n",
       " 'Python': 30359,\n",
       " 'HTML': 53628,\n",
       " 'CSS': 50979,\n",
       " 'Bash/Shell': 31172,\n",
       " 'C#': 26954,\n",
       " 'SQL': 44670,\n",
       " 'TypeScript': 13626,\n",
       " 'C': 18042,\n",
       " 'C++': 19872,\n",
       " 'Java': 35521,\n",
       " 'Matlab': 4564,\n",
       " 'R': 4813,\n",
       " 'Assembly': 5760,\n",
       " 'CoffeeScript': 2603,\n",
       " 'Erlang': 886,\n",
       " 'Go': 5532,\n",
       " 'Lua': 2733,\n",
       " 'Ruby': 7911,\n",
       " 'PHP': 24071,\n",
       " 'VB.NET': 5254,\n",
       " 'Swift': 6310,\n",
       " 'Groovy': 3373,\n",
       " 'Kotlin': 3508,\n",
       " 'Objective-C': 5510,\n",
       " 'Scala': 3420,\n",
       " 'F#': 1115,\n",
       " 'Haskell': 1961,\n",
       " 'Rust': 1857,\n",
       " 'Julia': 430,\n",
       " 'VBA': 3810,\n",
       " 'Perl': 3280,\n",
       " 'Cobol': 590,\n",
       " 'Visual Basic 6': 3087,\n",
       " 'Delphi/Object Pascal': 2025,\n",
       " 'Hack': 254,\n",
       " 'Clojure': 1032,\n",
       " 'Ocaml': 470}"
      ]
     },
     "execution_count": 49,
     "metadata": {},
     "output_type": "execute_result"
    }
   ],
   "source": [
    "df_2018_languages"
   ]
  },
  {
   "cell_type": "code",
   "execution_count": 50,
   "metadata": {},
   "outputs": [
    {
     "name": "stdout",
     "output_type": "stream",
     "text": [
      "Rows Before: 98855\n",
      "Rows After: 78334\n"
     ]
    }
   ],
   "source": [
    "results[\"2018\"] = percentage_dict(df_2018_languages, df_2018_data, 'LanguageWorkedWith')"
   ]
  },
  {
   "cell_type": "markdown",
   "metadata": {},
   "source": [
    "## Find Top X in Dictionary for Latest Year\n",
    "As we are interested in the most popular languages, we will focus on the 2018 results to determine the top languages. "
   ]
  },
  {
   "cell_type": "code",
   "execution_count": 51,
   "metadata": {},
   "outputs": [
    {
     "data": {
      "text/plain": [
       "dict_keys(['2013', '2014', '2015', '2016', '2017', '2018'])"
      ]
     },
     "execution_count": 51,
     "metadata": {},
     "output_type": "execute_result"
    }
   ],
   "source": [
    "results.keys()"
   ]
  },
  {
   "cell_type": "code",
   "execution_count": 52,
   "metadata": {},
   "outputs": [
    {
     "data": {
      "text/plain": [
       "{'JavaScript': 0.6981132075471698,\n",
       " 'Python': 0.3875584037582659,\n",
       " 'HTML': 0.6846069395154084,\n",
       " 'CSS': 0.6507902060407996,\n",
       " 'Bash/Shell': 0.39793703883371206,\n",
       " 'C#': 0.34409068858988434,\n",
       " 'SQL': 0.5702504659534813,\n",
       " 'TypeScript': 0.1739474557663339,\n",
       " 'C': 0.2303214440728164,\n",
       " 'C++': 0.25368294737917124,\n",
       " 'Java': 0.4534557152705083,\n",
       " 'Matlab': 0.058263333929072944,\n",
       " 'R': 0.061442030280593356,\n",
       " 'Assembly': 0.07353128909541196,\n",
       " 'CoffeeScript': 0.033229504429749535,\n",
       " 'Erlang': 0.011310542037940102,\n",
       " 'Go': 0.07062067556871857,\n",
       " 'Lua': 0.03488906477391682,\n",
       " 'Ruby': 0.10099062986697986,\n",
       " 'PHP': 0.3072867464957745,\n",
       " 'VB.NET': 0.06707176960196083,\n",
       " 'Swift': 0.08055250593611969,\n",
       " 'Groovy': 0.04305920800674037,\n",
       " 'Kotlin': 0.044782597594914084,\n",
       " 'Objective-C': 0.07033982689509026,\n",
       " 'Scala': 0.043659202900400845,\n",
       " 'F#': 0.01423392141343478,\n",
       " 'Haskell': 0.02503382949932341,\n",
       " 'Rust': 0.023706181223989584,\n",
       " 'Julia': 0.005489314984553323,\n",
       " 'VBA': 0.0486378839329027,\n",
       " 'Perl': 0.041871984068220694,\n",
       " 'Cobol': 0.00753185079275921,\n",
       " 'Visual Basic 6': 0.039408175249572346,\n",
       " 'Delphi/Object Pascal': 0.025850843822605767,\n",
       " 'Hack': 0.0032425255955268466,\n",
       " 'Clojure': 0.013174355962927976,\n",
       " 'Ocaml': 0.005999948936604795}"
      ]
     },
     "execution_count": 52,
     "metadata": {},
     "output_type": "execute_result"
    }
   ],
   "source": [
    "results[\"2018\"]"
   ]
  },
  {
   "cell_type": "markdown",
   "metadata": {},
   "source": [
    "We can use the ``Counter`` package to find the most common values in a dictionary, returning the sorted top x specified languages. "
   ]
  },
  {
   "cell_type": "code",
   "execution_count": 53,
   "metadata": {},
   "outputs": [
    {
     "data": {
      "text/plain": [
       "[('JavaScript', 0.6981132075471698),\n",
       " ('HTML', 0.6846069395154084),\n",
       " ('CSS', 0.6507902060407996),\n",
       " ('SQL', 0.5702504659534813),\n",
       " ('Java', 0.4534557152705083),\n",
       " ('Bash/Shell', 0.39793703883371206),\n",
       " ('Python', 0.3875584037582659),\n",
       " ('C#', 0.34409068858988434),\n",
       " ('PHP', 0.3072867464957745),\n",
       " ('C++', 0.25368294737917124)]"
      ]
     },
     "execution_count": 53,
     "metadata": {},
     "output_type": "execute_result"
    }
   ],
   "source": [
    "count = Counter(results['2018'])\n",
    "count.most_common(10)"
   ]
  },
  {
   "cell_type": "markdown",
   "metadata": {},
   "source": [
    "We have defined a function which will help with retrieving the trends of only the languages we are interested in. "
   ]
  },
  {
   "cell_type": "code",
   "execution_count": 54,
   "metadata": {},
   "outputs": [],
   "source": [
    "def get_all_values(top, x, res):\n",
    "    '''\n",
    "    INPUT - top - Counter - a counter object containing the top languages\n",
    "            x - int - the top number of languages we want returned\n",
    "            res - List - list of yearly result dictionaries\n",
    "    OUTPUT - \n",
    "            yearly_results - list - a new list containing only the languages of interest for all years\n",
    "    '''\n",
    "    yearly_results = defaultdict(list)\n",
    "    \n",
    "    for year in res.keys():\n",
    "        for k, v in top.most_common(x):\n",
    "            try:\n",
    "                yearly_results[k].append(res[year][k])\n",
    "            except:\n",
    "                yearly_results[k].append(np.nan)\n",
    "            \n",
    "    return yearly_results"
   ]
  },
  {
   "cell_type": "code",
   "execution_count": 55,
   "metadata": {},
   "outputs": [
    {
     "data": {
      "text/plain": [
       "defaultdict(list,\n",
       "            {'JavaScript': [0.5887838846058194,\n",
       "              0.5787058283616338,\n",
       "              0.5410955805853349,\n",
       "              0.55859255481897,\n",
       "              0.6245733788395904,\n",
       "              0.6981132075471698],\n",
       "             'HTML': [nan, nan, nan, nan, nan, 0.6846069395154084],\n",
       "             'CSS': [nan, nan, nan, nan, nan, 0.6507902060407996],\n",
       "             'SQL': [0.5711265854265108,\n",
       "              0.530365611136607,\n",
       "              0.42696883340118513,\n",
       "              0.4482610912799592,\n",
       "              0.5120546075085324,\n",
       "              0.5702504659534813],\n",
       "             'Java': [0.3755284755036061,\n",
       "              0.3792259446229157,\n",
       "              0.37178269326457686,\n",
       "              0.36597654258031614,\n",
       "              0.39655972696245734,\n",
       "              0.4534557152705083],\n",
       "             'Bash/Shell': [nan, nan, nan, nan, nan, 0.39793703883371206],\n",
       "             'Python': [0.23377269335986073,\n",
       "              0.22533272143184946,\n",
       "              0.2369385262586511,\n",
       "              0.2505252422233554,\n",
       "              0.3195631399317406,\n",
       "              0.3875584037582659],\n",
       "             'C#': [0.3763989057448396,\n",
       "              0.36377543215542296,\n",
       "              0.31433482607318947,\n",
       "              0.3117389087200408,\n",
       "              0.34064163822525595,\n",
       "              0.34409068858988434],\n",
       "             'PHP': [0.28898284008952996,\n",
       "              0.2615878843506195,\n",
       "              0.2953363188130456,\n",
       "              0.2606833248342682,\n",
       "              0.2809556313993174,\n",
       "              0.3072867464957745],\n",
       "             'C++': [0.21089281273315097,\n",
       "              0.21691907602875937,\n",
       "              0.20486723662188447,\n",
       "              0.19559408465068842,\n",
       "              0.22266211604095562,\n",
       "              0.25368294737917124]})"
      ]
     },
     "execution_count": 55,
     "metadata": {},
     "output_type": "execute_result"
    }
   ],
   "source": [
    "get_all_values(count, 10, results)"
   ]
  },
  {
   "cell_type": "markdown",
   "metadata": {},
   "source": [
    "It is surprising that 2018 is the first year in which ``HTML``, ``CSS`` and ``Bash/Shell`` are options. These are undoubtedly popular languages, but we will remove them to show the trends of other languages which are either under represented or present in all years."
   ]
  },
  {
   "cell_type": "code",
   "execution_count": 58,
   "metadata": {},
   "outputs": [],
   "source": [
    "del count['HTML']\n",
    "del count['CSS']\n",
    "del count['Bash/Shell']"
   ]
  },
  {
   "cell_type": "code",
   "execution_count": 59,
   "metadata": {},
   "outputs": [
    {
     "data": {
      "text/plain": [
       "{'JavaScript': [0.5887838846058194,\n",
       "  0.5787058283616338,\n",
       "  0.5410955805853349,\n",
       "  0.55859255481897,\n",
       "  0.6245733788395904,\n",
       "  0.6981132075471698],\n",
       " 'SQL': [0.5711265854265108,\n",
       "  0.530365611136607,\n",
       "  0.42696883340118513,\n",
       "  0.4482610912799592,\n",
       "  0.5120546075085324,\n",
       "  0.5702504659534813],\n",
       " 'Java': [0.3755284755036061,\n",
       "  0.3792259446229157,\n",
       "  0.37178269326457686,\n",
       "  0.36597654258031614,\n",
       "  0.39655972696245734,\n",
       "  0.4534557152705083],\n",
       " 'Python': [0.23377269335986073,\n",
       "  0.22533272143184946,\n",
       "  0.2369385262586511,\n",
       "  0.2505252422233554,\n",
       "  0.3195631399317406,\n",
       "  0.3875584037582659],\n",
       " 'C#': [0.3763989057448396,\n",
       "  0.36377543215542296,\n",
       "  0.31433482607318947,\n",
       "  0.3117389087200408,\n",
       "  0.34064163822525595,\n",
       "  0.34409068858988434],\n",
       " 'PHP': [0.28898284008952996,\n",
       "  0.2615878843506195,\n",
       "  0.2953363188130456,\n",
       "  0.2606833248342682,\n",
       "  0.2809556313993174,\n",
       "  0.3072867464957745],\n",
       " 'C++': [0.21089281273315097,\n",
       "  0.21691907602875937,\n",
       "  0.20486723662188447,\n",
       "  0.19559408465068842,\n",
       "  0.22266211604095562,\n",
       "  0.25368294737917124],\n",
       " 'C': [0.1785625466301915,\n",
       "  0.17959308551323236,\n",
       "  0.16338716243723708,\n",
       "  0.15661397246302908,\n",
       "  0.19041638225255972,\n",
       "  0.2303214440728164],\n",
       " 'TypeScript': [nan, nan, nan, nan, 0.09523549488054607, 0.1739474557663339],\n",
       " 'Ruby': [0.09873165879134543,\n",
       "  0.09071439498240783,\n",
       "  0.07983896503369974,\n",
       "  0.08940336562978073,\n",
       "  0.09075767918088737,\n",
       "  0.10099062986697986]}"
      ]
     },
     "execution_count": 59,
     "metadata": {},
     "output_type": "execute_result"
    }
   ],
   "source": [
    "dict(get_all_values(count, 10, results))"
   ]
  },
  {
   "cell_type": "markdown",
   "metadata": {},
   "source": [
    "With those languages removed, we can show the trends of C and Ruby, with TypeScript, although a newer entry, still has > 1 data point and has an interesting trend.\n",
    "\n",
    "We can create a DataFrame from the resulting dictionary returned by ``yearly_results``, with the indexes being the keys (years)."
   ]
  },
  {
   "cell_type": "code",
   "execution_count": 60,
   "metadata": {},
   "outputs": [],
   "source": [
    "results_df = pd.DataFrame(dict(get_all_values(count, 10, results)), index=results.keys())"
   ]
  },
  {
   "cell_type": "code",
   "execution_count": 61,
   "metadata": {},
   "outputs": [
    {
     "data": {
      "text/html": [
       "<div>\n",
       "<style scoped>\n",
       "    .dataframe tbody tr th:only-of-type {\n",
       "        vertical-align: middle;\n",
       "    }\n",
       "\n",
       "    .dataframe tbody tr th {\n",
       "        vertical-align: top;\n",
       "    }\n",
       "\n",
       "    .dataframe thead th {\n",
       "        text-align: right;\n",
       "    }\n",
       "</style>\n",
       "<table border=\"1\" class=\"dataframe\">\n",
       "  <thead>\n",
       "    <tr style=\"text-align: right;\">\n",
       "      <th></th>\n",
       "      <th>JavaScript</th>\n",
       "      <th>SQL</th>\n",
       "      <th>Java</th>\n",
       "      <th>Python</th>\n",
       "      <th>C#</th>\n",
       "      <th>PHP</th>\n",
       "      <th>C++</th>\n",
       "      <th>C</th>\n",
       "      <th>TypeScript</th>\n",
       "      <th>Ruby</th>\n",
       "    </tr>\n",
       "  </thead>\n",
       "  <tbody>\n",
       "    <tr>\n",
       "      <th>2013</th>\n",
       "      <td>0.588784</td>\n",
       "      <td>0.571127</td>\n",
       "      <td>0.375528</td>\n",
       "      <td>0.233773</td>\n",
       "      <td>0.376399</td>\n",
       "      <td>0.288983</td>\n",
       "      <td>0.210893</td>\n",
       "      <td>0.178563</td>\n",
       "      <td>NaN</td>\n",
       "      <td>0.098732</td>\n",
       "    </tr>\n",
       "    <tr>\n",
       "      <th>2014</th>\n",
       "      <td>0.578706</td>\n",
       "      <td>0.530366</td>\n",
       "      <td>0.379226</td>\n",
       "      <td>0.225333</td>\n",
       "      <td>0.363775</td>\n",
       "      <td>0.261588</td>\n",
       "      <td>0.216919</td>\n",
       "      <td>0.179593</td>\n",
       "      <td>NaN</td>\n",
       "      <td>0.090714</td>\n",
       "    </tr>\n",
       "    <tr>\n",
       "      <th>2015</th>\n",
       "      <td>0.541096</td>\n",
       "      <td>0.426969</td>\n",
       "      <td>0.371783</td>\n",
       "      <td>0.236939</td>\n",
       "      <td>0.314335</td>\n",
       "      <td>0.295336</td>\n",
       "      <td>0.204867</td>\n",
       "      <td>0.163387</td>\n",
       "      <td>NaN</td>\n",
       "      <td>0.079839</td>\n",
       "    </tr>\n",
       "    <tr>\n",
       "      <th>2016</th>\n",
       "      <td>0.558593</td>\n",
       "      <td>0.448261</td>\n",
       "      <td>0.365977</td>\n",
       "      <td>0.250525</td>\n",
       "      <td>0.311739</td>\n",
       "      <td>0.260683</td>\n",
       "      <td>0.195594</td>\n",
       "      <td>0.156614</td>\n",
       "      <td>NaN</td>\n",
       "      <td>0.089403</td>\n",
       "    </tr>\n",
       "    <tr>\n",
       "      <th>2017</th>\n",
       "      <td>0.624573</td>\n",
       "      <td>0.512055</td>\n",
       "      <td>0.396560</td>\n",
       "      <td>0.319563</td>\n",
       "      <td>0.340642</td>\n",
       "      <td>0.280956</td>\n",
       "      <td>0.222662</td>\n",
       "      <td>0.190416</td>\n",
       "      <td>0.095235</td>\n",
       "      <td>0.090758</td>\n",
       "    </tr>\n",
       "    <tr>\n",
       "      <th>2018</th>\n",
       "      <td>0.698113</td>\n",
       "      <td>0.570250</td>\n",
       "      <td>0.453456</td>\n",
       "      <td>0.387558</td>\n",
       "      <td>0.344091</td>\n",
       "      <td>0.307287</td>\n",
       "      <td>0.253683</td>\n",
       "      <td>0.230321</td>\n",
       "      <td>0.173947</td>\n",
       "      <td>0.100991</td>\n",
       "    </tr>\n",
       "  </tbody>\n",
       "</table>\n",
       "</div>"
      ],
      "text/plain": [
       "      JavaScript       SQL      Java    Python        C#       PHP       C++  \\\n",
       "2013    0.588784  0.571127  0.375528  0.233773  0.376399  0.288983  0.210893   \n",
       "2014    0.578706  0.530366  0.379226  0.225333  0.363775  0.261588  0.216919   \n",
       "2015    0.541096  0.426969  0.371783  0.236939  0.314335  0.295336  0.204867   \n",
       "2016    0.558593  0.448261  0.365977  0.250525  0.311739  0.260683  0.195594   \n",
       "2017    0.624573  0.512055  0.396560  0.319563  0.340642  0.280956  0.222662   \n",
       "2018    0.698113  0.570250  0.453456  0.387558  0.344091  0.307287  0.253683   \n",
       "\n",
       "             C  TypeScript      Ruby  \n",
       "2013  0.178563         NaN  0.098732  \n",
       "2014  0.179593         NaN  0.090714  \n",
       "2015  0.163387         NaN  0.079839  \n",
       "2016  0.156614         NaN  0.089403  \n",
       "2017  0.190416    0.095235  0.090758  \n",
       "2018  0.230321    0.173947  0.100991  "
      ]
     },
     "execution_count": 61,
     "metadata": {},
     "output_type": "execute_result"
    }
   ],
   "source": [
    "results_df"
   ]
  },
  {
   "cell_type": "markdown",
   "metadata": {},
   "source": [
    "### Visualisation\n",
    "\n",
    "We can visualise the trends with the values in ``results_df``. A great way to demonstrate trends is by using a line graph. \n",
    "\n",
    "The function below helps us plot these trends."
   ]
  },
  {
   "cell_type": "code",
   "execution_count": 63,
   "metadata": {},
   "outputs": [],
   "source": [
    "def plot_line(dataset, title=\"\"):\n",
    "    '''\n",
    "    INPUT - dataset - pandas dataframe with the dataset of the developers survey\n",
    "            x - string - the name of the column you would like to group by\n",
    "            y - string - the name of the column you would like to visualise\n",
    "    OUTPUT - \n",
    "            A box plot of the user specified data\n",
    "    '''\n",
    "    plt.style.use('seaborn-whitegrid')\n",
    "    fig = plt.figure(figsize=(8, 12))\n",
    "    ax = plt.axes()\n",
    "    \n",
    "    # Create box plot with Seaborn's default settings\n",
    "    for col in dataset.columns:\n",
    "        plt.plot(dataset[col], linestyle='-', marker='o')\n",
    "            \n",
    "    box = ax.get_position()\n",
    "    ax.set_position([box.x0, box.y0, box.width * 0.8, box.height])\n",
    "    ax.legend(loc='center left', bbox_to_anchor=(1, 0.5))\n",
    "    ax.set(xlabel='Year', ylabel='Percentage',\n",
    "       title=title)"
   ]
  },
  {
   "cell_type": "code",
   "execution_count": 64,
   "metadata": {},
   "outputs": [
    {
     "data": {
      "image/png": "[encoded data removed]",
      "text/plain": [
       "<Figure size 576x864 with 1 Axes>"
      ]
     },
     "metadata": {},
     "output_type": "display_data"
    }
   ],
   "source": [
    "plot_line(results_df, 'Top 10 Most Popular Languages')"
   ]
  },
  {
   "cell_type": "markdown",
   "metadata": {},
   "source": [
    "### Adding the projection of the languages next year\n",
    "\n",
    "In the 2018 data, we have a column which states the languages in which a user would want to be using next year. Therefore, we can include these in our line graph."
   ]
  },
  {
   "cell_type": "code",
   "execution_count": 65,
   "metadata": {},
   "outputs": [],
   "source": [
    "df_2018_languages_before = df_2018_languages"
   ]
  },
  {
   "cell_type": "code",
   "execution_count": 66,
   "metadata": {},
   "outputs": [
    {
     "data": {
      "text/html": [
       "<div>\n",
       "<style scoped>\n",
       "    .dataframe tbody tr th:only-of-type {\n",
       "        vertical-align: middle;\n",
       "    }\n",
       "\n",
       "    .dataframe tbody tr th {\n",
       "        vertical-align: top;\n",
       "    }\n",
       "\n",
       "    .dataframe thead th {\n",
       "        text-align: right;\n",
       "    }\n",
       "</style>\n",
       "<table border=\"1\" class=\"dataframe\">\n",
       "  <thead>\n",
       "    <tr style=\"text-align: right;\">\n",
       "      <th></th>\n",
       "      <th>LanguageWorkedWith</th>\n",
       "      <th>LanguageDesireNextYear</th>\n",
       "    </tr>\n",
       "  </thead>\n",
       "  <tbody>\n",
       "    <tr>\n",
       "      <th>0</th>\n",
       "      <td>JavaScript;Python;HTML;CSS</td>\n",
       "      <td>JavaScript;Python;HTML;CSS</td>\n",
       "    </tr>\n",
       "    <tr>\n",
       "      <th>1</th>\n",
       "      <td>JavaScript;Python;Bash/Shell</td>\n",
       "      <td>Go;Python</td>\n",
       "    </tr>\n",
       "    <tr>\n",
       "      <th>2</th>\n",
       "      <td>NaN</td>\n",
       "      <td>NaN</td>\n",
       "    </tr>\n",
       "    <tr>\n",
       "      <th>3</th>\n",
       "      <td>C#;JavaScript;SQL;TypeScript;HTML;CSS;Bash/Shell</td>\n",
       "      <td>C#;JavaScript;SQL;TypeScript;HTML;CSS;Bash/Shell</td>\n",
       "    </tr>\n",
       "    <tr>\n",
       "      <th>4</th>\n",
       "      <td>C;C++;Java;Matlab;R;SQL;Bash/Shell</td>\n",
       "      <td>Assembly;C;C++;Matlab;SQL;Bash/Shell</td>\n",
       "    </tr>\n",
       "  </tbody>\n",
       "</table>\n",
       "</div>"
      ],
      "text/plain": [
       "                                 LanguageWorkedWith  \\\n",
       "0                        JavaScript;Python;HTML;CSS   \n",
       "1                      JavaScript;Python;Bash/Shell   \n",
       "2                                               NaN   \n",
       "3  C#;JavaScript;SQL;TypeScript;HTML;CSS;Bash/Shell   \n",
       "4                C;C++;Java;Matlab;R;SQL;Bash/Shell   \n",
       "\n",
       "                             LanguageDesireNextYear  \n",
       "0                        JavaScript;Python;HTML;CSS  \n",
       "1                                         Go;Python  \n",
       "2                                               NaN  \n",
       "3  C#;JavaScript;SQL;TypeScript;HTML;CSS;Bash/Shell  \n",
       "4              Assembly;C;C++;Matlab;SQL;Bash/Shell  "
      ]
     },
     "execution_count": 66,
     "metadata": {},
     "output_type": "execute_result"
    }
   ],
   "source": [
    "df_2018_data[['LanguageWorkedWith', 'LanguageDesireNextYear']].head()"
   ]
  },
  {
   "cell_type": "markdown",
   "metadata": {},
   "source": [
    "In earlier iterations we ignored columns who did want a language in the next year, therefore containing ``np.nan`` values. \n",
    "\n",
    "The first iteration was to process the ``LanguageDesireNextYear`` column and to increment the values in the ``results['2018']`` dictionary, if a user reports a language they are not using this year. But this inflated the values disproportionately with what the question was expecting. \n",
    "\n",
    "The question states the following: \n",
    "    \"Which of the following programming, scripting, and markup languages have you done extensive development work in over the past year, and which do you want to work in over the next year?  (If you both worked with the language and want to continue to do so, please check both boxes in that row.)\". \n",
    "\n",
    "Therefore, if a person is using a language next year that wasn't used this year, we shouldn't just increment the language count. \n",
    "\n",
    "The best way to use the projections would be to apply the same splitting and counting function on the ``LanguageDesireNextYear`` column. If this column is nan, then include their values from ``LanguageWorkedWith``, as it's unlikely they would want to quit development all together.\n",
    "\n",
    "**The function below was the first implementation of incrementing counts. I have left this code and the resulting visualisation to show the working. I have included the newer implementation below.**"
   ]
  },
  {
   "cell_type": "code",
   "execution_count": 67,
   "metadata": {},
   "outputs": [],
   "source": [
    "# Deprecated Function as the results were not a representation of the question. \n",
    "def project_language_want(data, col_worked, col_want, language_counts):\n",
    "    \n",
    "    for index, row in data.iterrows():\n",
    "        if row[col_want] is not np.nan:\n",
    "            #print(\"Worked {} and Want {}\".format(row[col_worked], row[col_want]))\n",
    "            if row[col_worked] is np.nan:\n",
    "                language_worked = []\n",
    "            else:\n",
    "                language_worked = row[col_worked].split(';')\n",
    "            language_want = row[col_want].split(';')\n",
    "            for val in language_want:\n",
    "                if val not in language_worked:\n",
    "                    #print(\"{} is a new language\".format(val))\n",
    "                    language_counts[val.strip()] += 1\n",
    "        \n",
    "    return language_counts\n",
    "\n",
    "df_2018_languages_after = project_language_want(df_2018_data, 'LanguageWorkedWith', 'LanguageDesireNextYear', df_2018_languages_before)\n",
    "    "
   ]
  },
  {
   "cell_type": "code",
   "execution_count": 68,
   "metadata": {},
   "outputs": [
    {
     "data": {
      "text/plain": [
       "{'JavaScript': 59289,\n",
       " 'Python': 42521,\n",
       " 'HTML': 55541,\n",
       " 'CSS': 53092,\n",
       " 'Bash/Shell': 33491,\n",
       " 'C#': 31089,\n",
       " 'SQL': 46988,\n",
       " 'TypeScript': 21389,\n",
       " 'C': 21618,\n",
       " 'C++': 25889,\n",
       " 'Java': 40080,\n",
       " 'Matlab': 5639,\n",
       " 'R': 9476,\n",
       " 'Assembly': 8279,\n",
       " 'CoffeeScript': 4008,\n",
       " 'Erlang': 3228,\n",
       " 'Go': 17431,\n",
       " 'Lua': 4201,\n",
       " 'Ruby': 11985,\n",
       " 'PHP': 26292,\n",
       " 'VB.NET': 5799,\n",
       " 'Swift': 11912,\n",
       " 'Groovy': 4283,\n",
       " 'Kotlin': 12867,\n",
       " 'Objective-C': 7421,\n",
       " 'Scala': 7638,\n",
       " 'F#': 4202,\n",
       " 'Haskell': 6026,\n",
       " 'Rust': 8249,\n",
       " 'Julia': 1557,\n",
       " 'VBA': 4116,\n",
       " 'Perl': 4267,\n",
       " 'Cobol': 960,\n",
       " 'Visual Basic 6': 3465,\n",
       " 'Delphi/Object Pascal': 2344,\n",
       " 'Hack': 877,\n",
       " 'Clojure': 3127,\n",
       " 'Ocaml': 1418}"
      ]
     },
     "execution_count": 68,
     "metadata": {},
     "output_type": "execute_result"
    }
   ],
   "source": [
    "df_2018_languages_after"
   ]
  },
  {
   "cell_type": "code",
   "execution_count": 69,
   "metadata": {},
   "outputs": [
    {
     "name": "stdout",
     "output_type": "stream",
     "text": [
      "Rows Before: 98855\n",
      "Rows After: 78745\n"
     ]
    }
   ],
   "source": [
    "results['2019'] = percentage_dict(df_2018_languages_after, df_2018_data, ['LanguageWorkedWith', 'LanguageDesireNextYear'])"
   ]
  },
  {
   "cell_type": "code",
   "execution_count": 70,
   "metadata": {},
   "outputs": [
    {
     "data": {
      "text/plain": [
       "{'JavaScript': 0.7529239951742968,\n",
       " 'Python': 0.5399834910153025,\n",
       " 'HTML': 0.7053273223696742,\n",
       " 'CSS': 0.6742269350434948,\n",
       " 'Bash/Shell': 0.42530954346307703,\n",
       " 'C#': 0.3948060194298051,\n",
       " 'SQL': 0.5967109022795098,\n",
       " 'TypeScript': 0.27162359514889833,\n",
       " 'C': 0.27453171629944756,\n",
       " 'C++': 0.32877008064004065,\n",
       " 'Java': 0.5089846974411074,\n",
       " 'Matlab': 0.07161089592990032,\n",
       " 'R': 0.12033779922534764,\n",
       " 'Assembly': 0.10513683408470378,\n",
       " 'CoffeeScript': 0.05089846974411074,\n",
       " 'Erlang': 0.040993078925646076,\n",
       " 'Go': 0.22136008635468918,\n",
       " 'Lua': 0.05334941901073084,\n",
       " 'Ruby': 0.15220013969140897,\n",
       " 'PHP': 0.33388786589624736,\n",
       " 'VB.NET': 0.07364277096958537,\n",
       " 'Swift': 0.15127309670455266,\n",
       " 'Groovy': 0.05439075496856943,\n",
       " 'Kotlin': 0.16340085084767286,\n",
       " 'Objective-C': 0.09424090418439265,\n",
       " 'Scala': 0.09699663470696553,\n",
       " 'F#': 0.053362118229728875,\n",
       " 'Haskell': 0.07652549368213855,\n",
       " 'Rust': 0.10475585751476284,\n",
       " 'Julia': 0.019772683979935233,\n",
       " 'VBA': 0.05226998539589815,\n",
       " 'Perl': 0.054187567464600926,\n",
       " 'Cobol': 0.012191250238110357,\n",
       " 'Visual Basic 6': 0.044002793828179565,\n",
       " 'Delphi/Object Pascal': 0.02976696933138612,\n",
       " 'Hack': 0.011137215061273732,\n",
       " 'Clojure': 0.03971045780684488,\n",
       " 'Ocaml': 0.018007492539208837}"
      ]
     },
     "execution_count": 70,
     "metadata": {},
     "output_type": "execute_result"
    }
   ],
   "source": [
    "results['2019']"
   ]
  },
  {
   "cell_type": "code",
   "execution_count": 71,
   "metadata": {},
   "outputs": [],
   "source": [
    "results_df_projection = pd.DataFrame(dict(get_all_values(count, 10, results)), index=results.keys())"
   ]
  },
  {
   "cell_type": "code",
   "execution_count": 72,
   "metadata": {},
   "outputs": [
    {
     "data": {
      "text/html": [
       "<div>\n",
       "<style scoped>\n",
       "    .dataframe tbody tr th:only-of-type {\n",
       "        vertical-align: middle;\n",
       "    }\n",
       "\n",
       "    .dataframe tbody tr th {\n",
       "        vertical-align: top;\n",
       "    }\n",
       "\n",
       "    .dataframe thead th {\n",
       "        text-align: right;\n",
       "    }\n",
       "</style>\n",
       "<table border=\"1\" class=\"dataframe\">\n",
       "  <thead>\n",
       "    <tr style=\"text-align: right;\">\n",
       "      <th></th>\n",
       "      <th>JavaScript</th>\n",
       "      <th>SQL</th>\n",
       "      <th>Java</th>\n",
       "      <th>Python</th>\n",
       "      <th>C#</th>\n",
       "      <th>PHP</th>\n",
       "      <th>C++</th>\n",
       "      <th>C</th>\n",
       "      <th>TypeScript</th>\n",
       "      <th>Ruby</th>\n",
       "    </tr>\n",
       "  </thead>\n",
       "  <tbody>\n",
       "    <tr>\n",
       "      <th>2013</th>\n",
       "      <td>0.588784</td>\n",
       "      <td>0.571127</td>\n",
       "      <td>0.375528</td>\n",
       "      <td>0.233773</td>\n",
       "      <td>0.376399</td>\n",
       "      <td>0.288983</td>\n",
       "      <td>0.210893</td>\n",
       "      <td>0.178563</td>\n",
       "      <td>NaN</td>\n",
       "      <td>0.098732</td>\n",
       "    </tr>\n",
       "    <tr>\n",
       "      <th>2014</th>\n",
       "      <td>0.578706</td>\n",
       "      <td>0.530366</td>\n",
       "      <td>0.379226</td>\n",
       "      <td>0.225333</td>\n",
       "      <td>0.363775</td>\n",
       "      <td>0.261588</td>\n",
       "      <td>0.216919</td>\n",
       "      <td>0.179593</td>\n",
       "      <td>NaN</td>\n",
       "      <td>0.090714</td>\n",
       "    </tr>\n",
       "    <tr>\n",
       "      <th>2015</th>\n",
       "      <td>0.541096</td>\n",
       "      <td>0.426969</td>\n",
       "      <td>0.371783</td>\n",
       "      <td>0.236939</td>\n",
       "      <td>0.314335</td>\n",
       "      <td>0.295336</td>\n",
       "      <td>0.204867</td>\n",
       "      <td>0.163387</td>\n",
       "      <td>NaN</td>\n",
       "      <td>0.079839</td>\n",
       "    </tr>\n",
       "    <tr>\n",
       "      <th>2016</th>\n",
       "      <td>0.558593</td>\n",
       "      <td>0.448261</td>\n",
       "      <td>0.365977</td>\n",
       "      <td>0.250525</td>\n",
       "      <td>0.311739</td>\n",
       "      <td>0.260683</td>\n",
       "      <td>0.195594</td>\n",
       "      <td>0.156614</td>\n",
       "      <td>NaN</td>\n",
       "      <td>0.089403</td>\n",
       "    </tr>\n",
       "    <tr>\n",
       "      <th>2017</th>\n",
       "      <td>0.624573</td>\n",
       "      <td>0.512055</td>\n",
       "      <td>0.396560</td>\n",
       "      <td>0.319563</td>\n",
       "      <td>0.340642</td>\n",
       "      <td>0.280956</td>\n",
       "      <td>0.222662</td>\n",
       "      <td>0.190416</td>\n",
       "      <td>0.095235</td>\n",
       "      <td>0.090758</td>\n",
       "    </tr>\n",
       "    <tr>\n",
       "      <th>2018</th>\n",
       "      <td>0.698113</td>\n",
       "      <td>0.570250</td>\n",
       "      <td>0.453456</td>\n",
       "      <td>0.387558</td>\n",
       "      <td>0.344091</td>\n",
       "      <td>0.307287</td>\n",
       "      <td>0.253683</td>\n",
       "      <td>0.230321</td>\n",
       "      <td>0.173947</td>\n",
       "      <td>0.100991</td>\n",
       "    </tr>\n",
       "    <tr>\n",
       "      <th>2019</th>\n",
       "      <td>0.752924</td>\n",
       "      <td>0.596711</td>\n",
       "      <td>0.508985</td>\n",
       "      <td>0.539983</td>\n",
       "      <td>0.394806</td>\n",
       "      <td>0.333888</td>\n",
       "      <td>0.328770</td>\n",
       "      <td>0.274532</td>\n",
       "      <td>0.271624</td>\n",
       "      <td>0.152200</td>\n",
       "    </tr>\n",
       "  </tbody>\n",
       "</table>\n",
       "</div>"
      ],
      "text/plain": [
       "      JavaScript       SQL      Java    Python        C#       PHP       C++  \\\n",
       "2013    0.588784  0.571127  0.375528  0.233773  0.376399  0.288983  0.210893   \n",
       "2014    0.578706  0.530366  0.379226  0.225333  0.363775  0.261588  0.216919   \n",
       "2015    0.541096  0.426969  0.371783  0.236939  0.314335  0.295336  0.204867   \n",
       "2016    0.558593  0.448261  0.365977  0.250525  0.311739  0.260683  0.195594   \n",
       "2017    0.624573  0.512055  0.396560  0.319563  0.340642  0.280956  0.222662   \n",
       "2018    0.698113  0.570250  0.453456  0.387558  0.344091  0.307287  0.253683   \n",
       "2019    0.752924  0.596711  0.508985  0.539983  0.394806  0.333888  0.328770   \n",
       "\n",
       "             C  TypeScript      Ruby  \n",
       "2013  0.178563         NaN  0.098732  \n",
       "2014  0.179593         NaN  0.090714  \n",
       "2015  0.163387         NaN  0.079839  \n",
       "2016  0.156614         NaN  0.089403  \n",
       "2017  0.190416    0.095235  0.090758  \n",
       "2018  0.230321    0.173947  0.100991  \n",
       "2019  0.274532    0.271624  0.152200  "
      ]
     },
     "execution_count": 72,
     "metadata": {},
     "output_type": "execute_result"
    }
   ],
   "source": [
    "results_df_projection"
   ]
  },
  {
   "cell_type": "code",
   "execution_count": 73,
   "metadata": {},
   "outputs": [
    {
     "data": {
      "image/png": "[encoded data removed]",
      "text/plain": [
       "<Figure size 576x864 with 1 Axes>"
      ]
     },
     "metadata": {},
     "output_type": "display_data"
    }
   ],
   "source": [
    "plot_line(results_df_projection, 'Top 10 Most Popular Languages Projection')"
   ]
  },
  {
   "cell_type": "markdown",
   "metadata": {},
   "source": [
    "#### The correct implementation in relation to what the question was expecting\n",
    "\n",
    "Row 14 in the DataFrame below shows where a user has reported no languages they desire next year. I will assume these users will be using the languages they have reported in ``LanguagesWorkedWith``. \n",
    "Therefore ``Java;JavaScript;PHP;VB.NET;HTML;CSS`` will be copied from ``LanguageWorkedWith`` into ``LanguageDesireNextYear`` where the value is currently ``np.nan``."
   ]
  },
  {
   "cell_type": "code",
   "execution_count": 74,
   "metadata": {},
   "outputs": [],
   "source": [
    "df_2018_data_filled = df_2018_data"
   ]
  },
  {
   "cell_type": "code",
   "execution_count": 75,
   "metadata": {},
   "outputs": [
    {
     "data": {
      "text/html": [
       "<div>\n",
       "<style scoped>\n",
       "    .dataframe tbody tr th:only-of-type {\n",
       "        vertical-align: middle;\n",
       "    }\n",
       "\n",
       "    .dataframe tbody tr th {\n",
       "        vertical-align: top;\n",
       "    }\n",
       "\n",
       "    .dataframe thead th {\n",
       "        text-align: right;\n",
       "    }\n",
       "</style>\n",
       "<table border=\"1\" class=\"dataframe\">\n",
       "  <thead>\n",
       "    <tr style=\"text-align: right;\">\n",
       "      <th></th>\n",
       "      <th>LanguageWorkedWith</th>\n",
       "      <th>LanguageDesireNextYear</th>\n",
       "    </tr>\n",
       "  </thead>\n",
       "  <tbody>\n",
       "    <tr>\n",
       "      <th>0</th>\n",
       "      <td>JavaScript;Python;HTML;CSS</td>\n",
       "      <td>JavaScript;Python;HTML;CSS</td>\n",
       "    </tr>\n",
       "    <tr>\n",
       "      <th>1</th>\n",
       "      <td>JavaScript;Python;Bash/Shell</td>\n",
       "      <td>Go;Python</td>\n",
       "    </tr>\n",
       "    <tr>\n",
       "      <th>2</th>\n",
       "      <td>NaN</td>\n",
       "      <td>NaN</td>\n",
       "    </tr>\n",
       "    <tr>\n",
       "      <th>3</th>\n",
       "      <td>C#;JavaScript;SQL;TypeScript;HTML;CSS;Bash/Shell</td>\n",
       "      <td>C#;JavaScript;SQL;TypeScript;HTML;CSS;Bash/Shell</td>\n",
       "    </tr>\n",
       "    <tr>\n",
       "      <th>4</th>\n",
       "      <td>C;C++;Java;Matlab;R;SQL;Bash/Shell</td>\n",
       "      <td>Assembly;C;C++;Matlab;SQL;Bash/Shell</td>\n",
       "    </tr>\n",
       "    <tr>\n",
       "      <th>5</th>\n",
       "      <td>Java;JavaScript;Python;TypeScript;HTML;CSS</td>\n",
       "      <td>C#;Go;Java;JavaScript;Python;SQL;TypeScript;HT...</td>\n",
       "    </tr>\n",
       "    <tr>\n",
       "      <th>6</th>\n",
       "      <td>JavaScript;HTML;CSS</td>\n",
       "      <td>C;Go;JavaScript;Python;HTML;CSS</td>\n",
       "    </tr>\n",
       "    <tr>\n",
       "      <th>7</th>\n",
       "      <td>JavaScript;TypeScript;HTML;CSS</td>\n",
       "      <td>Matlab;SQL;Kotlin;Bash/Shell</td>\n",
       "    </tr>\n",
       "    <tr>\n",
       "      <th>8</th>\n",
       "      <td>Assembly;CoffeeScript;Erlang;Go;JavaScript;Lua...</td>\n",
       "      <td>Erlang;Go;Python;Rust;SQL</td>\n",
       "    </tr>\n",
       "    <tr>\n",
       "      <th>9</th>\n",
       "      <td>NaN</td>\n",
       "      <td>NaN</td>\n",
       "    </tr>\n",
       "    <tr>\n",
       "      <th>10</th>\n",
       "      <td>NaN</td>\n",
       "      <td>NaN</td>\n",
       "    </tr>\n",
       "    <tr>\n",
       "      <th>11</th>\n",
       "      <td>NaN</td>\n",
       "      <td>NaN</td>\n",
       "    </tr>\n",
       "    <tr>\n",
       "      <th>12</th>\n",
       "      <td>NaN</td>\n",
       "      <td>NaN</td>\n",
       "    </tr>\n",
       "    <tr>\n",
       "      <th>13</th>\n",
       "      <td>Java</td>\n",
       "      <td>Java;Python</td>\n",
       "    </tr>\n",
       "    <tr>\n",
       "      <th>14</th>\n",
       "      <td>Java;JavaScript;PHP;VB.NET;HTML;CSS</td>\n",
       "      <td>NaN</td>\n",
       "    </tr>\n",
       "  </tbody>\n",
       "</table>\n",
       "</div>"
      ],
      "text/plain": [
       "                                   LanguageWorkedWith  \\\n",
       "0                          JavaScript;Python;HTML;CSS   \n",
       "1                        JavaScript;Python;Bash/Shell   \n",
       "2                                                 NaN   \n",
       "3    C#;JavaScript;SQL;TypeScript;HTML;CSS;Bash/Shell   \n",
       "4                  C;C++;Java;Matlab;R;SQL;Bash/Shell   \n",
       "5          Java;JavaScript;Python;TypeScript;HTML;CSS   \n",
       "6                                 JavaScript;HTML;CSS   \n",
       "7                      JavaScript;TypeScript;HTML;CSS   \n",
       "8   Assembly;CoffeeScript;Erlang;Go;JavaScript;Lua...   \n",
       "9                                                 NaN   \n",
       "10                                                NaN   \n",
       "11                                                NaN   \n",
       "12                                                NaN   \n",
       "13                                               Java   \n",
       "14                Java;JavaScript;PHP;VB.NET;HTML;CSS   \n",
       "\n",
       "                               LanguageDesireNextYear  \n",
       "0                          JavaScript;Python;HTML;CSS  \n",
       "1                                           Go;Python  \n",
       "2                                                 NaN  \n",
       "3    C#;JavaScript;SQL;TypeScript;HTML;CSS;Bash/Shell  \n",
       "4                Assembly;C;C++;Matlab;SQL;Bash/Shell  \n",
       "5   C#;Go;Java;JavaScript;Python;SQL;TypeScript;HT...  \n",
       "6                     C;Go;JavaScript;Python;HTML;CSS  \n",
       "7                        Matlab;SQL;Kotlin;Bash/Shell  \n",
       "8                           Erlang;Go;Python;Rust;SQL  \n",
       "9                                                 NaN  \n",
       "10                                                NaN  \n",
       "11                                                NaN  \n",
       "12                                                NaN  \n",
       "13                                        Java;Python  \n",
       "14                                                NaN  "
      ]
     },
     "execution_count": 75,
     "metadata": {},
     "output_type": "execute_result"
    }
   ],
   "source": [
    "df_2018_data_filled[['LanguageWorkedWith', 'LanguageDesireNextYear']].head(15)"
   ]
  },
  {
   "cell_type": "code",
   "execution_count": 76,
   "metadata": {},
   "outputs": [],
   "source": [
    "df_2018_data_filled['LanguageDesireNextYear'] = df_2018_data_filled['LanguageDesireNextYear'].fillna(df_2018_data_filled['LanguageWorkedWith'])"
   ]
  },
  {
   "cell_type": "code",
   "execution_count": 77,
   "metadata": {},
   "outputs": [
    {
     "data": {
      "text/html": [
       "<div>\n",
       "<style scoped>\n",
       "    .dataframe tbody tr th:only-of-type {\n",
       "        vertical-align: middle;\n",
       "    }\n",
       "\n",
       "    .dataframe tbody tr th {\n",
       "        vertical-align: top;\n",
       "    }\n",
       "\n",
       "    .dataframe thead th {\n",
       "        text-align: right;\n",
       "    }\n",
       "</style>\n",
       "<table border=\"1\" class=\"dataframe\">\n",
       "  <thead>\n",
       "    <tr style=\"text-align: right;\">\n",
       "      <th></th>\n",
       "      <th>LanguageWorkedWith</th>\n",
       "      <th>LanguageDesireNextYear</th>\n",
       "    </tr>\n",
       "  </thead>\n",
       "  <tbody>\n",
       "    <tr>\n",
       "      <th>0</th>\n",
       "      <td>JavaScript;Python;HTML;CSS</td>\n",
       "      <td>JavaScript;Python;HTML;CSS</td>\n",
       "    </tr>\n",
       "    <tr>\n",
       "      <th>1</th>\n",
       "      <td>JavaScript;Python;Bash/Shell</td>\n",
       "      <td>Go;Python</td>\n",
       "    </tr>\n",
       "    <tr>\n",
       "      <th>2</th>\n",
       "      <td>NaN</td>\n",
       "      <td>NaN</td>\n",
       "    </tr>\n",
       "    <tr>\n",
       "      <th>3</th>\n",
       "      <td>C#;JavaScript;SQL;TypeScript;HTML;CSS;Bash/Shell</td>\n",
       "      <td>C#;JavaScript;SQL;TypeScript;HTML;CSS;Bash/Shell</td>\n",
       "    </tr>\n",
       "    <tr>\n",
       "      <th>4</th>\n",
       "      <td>C;C++;Java;Matlab;R;SQL;Bash/Shell</td>\n",
       "      <td>Assembly;C;C++;Matlab;SQL;Bash/Shell</td>\n",
       "    </tr>\n",
       "    <tr>\n",
       "      <th>5</th>\n",
       "      <td>Java;JavaScript;Python;TypeScript;HTML;CSS</td>\n",
       "      <td>C#;Go;Java;JavaScript;Python;SQL;TypeScript;HT...</td>\n",
       "    </tr>\n",
       "    <tr>\n",
       "      <th>6</th>\n",
       "      <td>JavaScript;HTML;CSS</td>\n",
       "      <td>C;Go;JavaScript;Python;HTML;CSS</td>\n",
       "    </tr>\n",
       "    <tr>\n",
       "      <th>7</th>\n",
       "      <td>JavaScript;TypeScript;HTML;CSS</td>\n",
       "      <td>Matlab;SQL;Kotlin;Bash/Shell</td>\n",
       "    </tr>\n",
       "    <tr>\n",
       "      <th>8</th>\n",
       "      <td>Assembly;CoffeeScript;Erlang;Go;JavaScript;Lua...</td>\n",
       "      <td>Erlang;Go;Python;Rust;SQL</td>\n",
       "    </tr>\n",
       "    <tr>\n",
       "      <th>9</th>\n",
       "      <td>NaN</td>\n",
       "      <td>NaN</td>\n",
       "    </tr>\n",
       "    <tr>\n",
       "      <th>10</th>\n",
       "      <td>NaN</td>\n",
       "      <td>NaN</td>\n",
       "    </tr>\n",
       "    <tr>\n",
       "      <th>11</th>\n",
       "      <td>NaN</td>\n",
       "      <td>NaN</td>\n",
       "    </tr>\n",
       "    <tr>\n",
       "      <th>12</th>\n",
       "      <td>NaN</td>\n",
       "      <td>NaN</td>\n",
       "    </tr>\n",
       "    <tr>\n",
       "      <th>13</th>\n",
       "      <td>Java</td>\n",
       "      <td>Java;Python</td>\n",
       "    </tr>\n",
       "    <tr>\n",
       "      <th>14</th>\n",
       "      <td>Java;JavaScript;PHP;VB.NET;HTML;CSS</td>\n",
       "      <td>Java;JavaScript;PHP;VB.NET;HTML;CSS</td>\n",
       "    </tr>\n",
       "  </tbody>\n",
       "</table>\n",
       "</div>"
      ],
      "text/plain": [
       "                                   LanguageWorkedWith  \\\n",
       "0                          JavaScript;Python;HTML;CSS   \n",
       "1                        JavaScript;Python;Bash/Shell   \n",
       "2                                                 NaN   \n",
       "3    C#;JavaScript;SQL;TypeScript;HTML;CSS;Bash/Shell   \n",
       "4                  C;C++;Java;Matlab;R;SQL;Bash/Shell   \n",
       "5          Java;JavaScript;Python;TypeScript;HTML;CSS   \n",
       "6                                 JavaScript;HTML;CSS   \n",
       "7                      JavaScript;TypeScript;HTML;CSS   \n",
       "8   Assembly;CoffeeScript;Erlang;Go;JavaScript;Lua...   \n",
       "9                                                 NaN   \n",
       "10                                                NaN   \n",
       "11                                                NaN   \n",
       "12                                                NaN   \n",
       "13                                               Java   \n",
       "14                Java;JavaScript;PHP;VB.NET;HTML;CSS   \n",
       "\n",
       "                               LanguageDesireNextYear  \n",
       "0                          JavaScript;Python;HTML;CSS  \n",
       "1                                           Go;Python  \n",
       "2                                                 NaN  \n",
       "3    C#;JavaScript;SQL;TypeScript;HTML;CSS;Bash/Shell  \n",
       "4                Assembly;C;C++;Matlab;SQL;Bash/Shell  \n",
       "5   C#;Go;Java;JavaScript;Python;SQL;TypeScript;HT...  \n",
       "6                     C;Go;JavaScript;Python;HTML;CSS  \n",
       "7                        Matlab;SQL;Kotlin;Bash/Shell  \n",
       "8                           Erlang;Go;Python;Rust;SQL  \n",
       "9                                                 NaN  \n",
       "10                                                NaN  \n",
       "11                                                NaN  \n",
       "12                                                NaN  \n",
       "13                                        Java;Python  \n",
       "14                Java;JavaScript;PHP;VB.NET;HTML;CSS  "
      ]
     },
     "execution_count": 77,
     "metadata": {},
     "output_type": "execute_result"
    }
   ],
   "source": [
    "df_2018_data_filled[['LanguageWorkedWith', 'LanguageDesireNextYear']].head(15)"
   ]
  },
  {
   "cell_type": "markdown",
   "metadata": {},
   "source": [
    "The effect of our wrangling is shown in line 14 in the DataFrame above. The result of filling na with another series is a powerful function in pandas and produced the result we desired."
   ]
  },
  {
   "cell_type": "code",
   "execution_count": 79,
   "metadata": {},
   "outputs": [],
   "source": [
    "df_2019_languages_projection = explode_results(df_2018_data_filled, 'LanguageDesireNextYear')"
   ]
  },
  {
   "cell_type": "code",
   "execution_count": 80,
   "metadata": {},
   "outputs": [
    {
     "data": {
      "text/plain": [
       "{'JavaScript': 42260,\n",
       " 'Python': 34678,\n",
       " 'HTML': 35536,\n",
       " 'CSS': 33727,\n",
       " 'Go': 15864,\n",
       " 'C#': 22621,\n",
       " 'SQL': 31129,\n",
       " 'TypeScript': 17829,\n",
       " 'Bash/Shell': 22592,\n",
       " 'Assembly': 4655,\n",
       " 'C': 11716,\n",
       " 'C++': 16807,\n",
       " 'Matlab': 2401,\n",
       " 'Java': 25015,\n",
       " 'Kotlin': 12236,\n",
       " 'Erlang': 2843,\n",
       " 'Rust': 7947,\n",
       " 'PHP': 14026,\n",
       " 'VB.NET': 2049,\n",
       " 'F#': 3842,\n",
       " 'Haskell': 5226,\n",
       " 'Ocaml': 1180,\n",
       " 'R': 7344,\n",
       " 'Swift': 10242,\n",
       " 'Scala': 6393,\n",
       " 'Ruby': 8334,\n",
       " 'Clojure': 2767,\n",
       " 'CoffeeScript': 2039,\n",
       " 'Perl': 2199,\n",
       " 'Delphi/Object Pascal': 1169,\n",
       " 'Groovy': 2270,\n",
       " 'Hack': 767,\n",
       " 'Julia': 1389,\n",
       " 'Objective-C': 4051,\n",
       " 'VBA': 1374,\n",
       " 'Lua': 2541,\n",
       " 'Visual Basic 6': 973,\n",
       " 'Cobol': 551}"
      ]
     },
     "execution_count": 80,
     "metadata": {},
     "output_type": "execute_result"
    }
   ],
   "source": [
    "df_2019_languages_projection"
   ]
  },
  {
   "cell_type": "code",
   "execution_count": 81,
   "metadata": {},
   "outputs": [
    {
     "name": "stdout",
     "output_type": "stream",
     "text": [
      "Rows Before: 98855\n",
      "Rows After: 78745\n"
     ]
    }
   ],
   "source": [
    "results['2019'] = percentage_dict(df_2019_languages_projection, df_2018_data_filled, 'LanguageDesireNextYear')"
   ]
  },
  {
   "cell_type": "code",
   "execution_count": 82,
   "metadata": {},
   "outputs": [],
   "source": [
    "results_df_projection = pd.DataFrame(dict(get_all_values(count, 10, results)), index=results.keys())"
   ]
  },
  {
   "cell_type": "code",
   "execution_count": 83,
   "metadata": {},
   "outputs": [
    {
     "data": {
      "text/html": [
       "<div>\n",
       "<style scoped>\n",
       "    .dataframe tbody tr th:only-of-type {\n",
       "        vertical-align: middle;\n",
       "    }\n",
       "\n",
       "    .dataframe tbody tr th {\n",
       "        vertical-align: top;\n",
       "    }\n",
       "\n",
       "    .dataframe thead th {\n",
       "        text-align: right;\n",
       "    }\n",
       "</style>\n",
       "<table border=\"1\" class=\"dataframe\">\n",
       "  <thead>\n",
       "    <tr style=\"text-align: right;\">\n",
       "      <th></th>\n",
       "      <th>JavaScript</th>\n",
       "      <th>SQL</th>\n",
       "      <th>Java</th>\n",
       "      <th>Python</th>\n",
       "      <th>C#</th>\n",
       "      <th>PHP</th>\n",
       "      <th>C++</th>\n",
       "      <th>C</th>\n",
       "      <th>TypeScript</th>\n",
       "      <th>Ruby</th>\n",
       "    </tr>\n",
       "  </thead>\n",
       "  <tbody>\n",
       "    <tr>\n",
       "      <th>2013</th>\n",
       "      <td>0.588784</td>\n",
       "      <td>0.571127</td>\n",
       "      <td>0.375528</td>\n",
       "      <td>0.233773</td>\n",
       "      <td>0.376399</td>\n",
       "      <td>0.288983</td>\n",
       "      <td>0.210893</td>\n",
       "      <td>0.178563</td>\n",
       "      <td>NaN</td>\n",
       "      <td>0.098732</td>\n",
       "    </tr>\n",
       "    <tr>\n",
       "      <th>2014</th>\n",
       "      <td>0.578706</td>\n",
       "      <td>0.530366</td>\n",
       "      <td>0.379226</td>\n",
       "      <td>0.225333</td>\n",
       "      <td>0.363775</td>\n",
       "      <td>0.261588</td>\n",
       "      <td>0.216919</td>\n",
       "      <td>0.179593</td>\n",
       "      <td>NaN</td>\n",
       "      <td>0.090714</td>\n",
       "    </tr>\n",
       "    <tr>\n",
       "      <th>2015</th>\n",
       "      <td>0.541096</td>\n",
       "      <td>0.426969</td>\n",
       "      <td>0.371783</td>\n",
       "      <td>0.236939</td>\n",
       "      <td>0.314335</td>\n",
       "      <td>0.295336</td>\n",
       "      <td>0.204867</td>\n",
       "      <td>0.163387</td>\n",
       "      <td>NaN</td>\n",
       "      <td>0.079839</td>\n",
       "    </tr>\n",
       "    <tr>\n",
       "      <th>2016</th>\n",
       "      <td>0.558593</td>\n",
       "      <td>0.448261</td>\n",
       "      <td>0.365977</td>\n",
       "      <td>0.250525</td>\n",
       "      <td>0.311739</td>\n",
       "      <td>0.260683</td>\n",
       "      <td>0.195594</td>\n",
       "      <td>0.156614</td>\n",
       "      <td>NaN</td>\n",
       "      <td>0.089403</td>\n",
       "    </tr>\n",
       "    <tr>\n",
       "      <th>2017</th>\n",
       "      <td>0.624573</td>\n",
       "      <td>0.512055</td>\n",
       "      <td>0.396560</td>\n",
       "      <td>0.319563</td>\n",
       "      <td>0.340642</td>\n",
       "      <td>0.280956</td>\n",
       "      <td>0.222662</td>\n",
       "      <td>0.190416</td>\n",
       "      <td>0.095235</td>\n",
       "      <td>0.090758</td>\n",
       "    </tr>\n",
       "    <tr>\n",
       "      <th>2018</th>\n",
       "      <td>0.698113</td>\n",
       "      <td>0.570250</td>\n",
       "      <td>0.453456</td>\n",
       "      <td>0.387558</td>\n",
       "      <td>0.344091</td>\n",
       "      <td>0.307287</td>\n",
       "      <td>0.253683</td>\n",
       "      <td>0.230321</td>\n",
       "      <td>0.173947</td>\n",
       "      <td>0.100991</td>\n",
       "    </tr>\n",
       "    <tr>\n",
       "      <th>2019</th>\n",
       "      <td>0.536669</td>\n",
       "      <td>0.395314</td>\n",
       "      <td>0.317671</td>\n",
       "      <td>0.440384</td>\n",
       "      <td>0.287269</td>\n",
       "      <td>0.178119</td>\n",
       "      <td>0.213436</td>\n",
       "      <td>0.148784</td>\n",
       "      <td>0.226414</td>\n",
       "      <td>0.105835</td>\n",
       "    </tr>\n",
       "  </tbody>\n",
       "</table>\n",
       "</div>"
      ],
      "text/plain": [
       "      JavaScript       SQL      Java    Python        C#       PHP       C++  \\\n",
       "2013    0.588784  0.571127  0.375528  0.233773  0.376399  0.288983  0.210893   \n",
       "2014    0.578706  0.530366  0.379226  0.225333  0.363775  0.261588  0.216919   \n",
       "2015    0.541096  0.426969  0.371783  0.236939  0.314335  0.295336  0.204867   \n",
       "2016    0.558593  0.448261  0.365977  0.250525  0.311739  0.260683  0.195594   \n",
       "2017    0.624573  0.512055  0.396560  0.319563  0.340642  0.280956  0.222662   \n",
       "2018    0.698113  0.570250  0.453456  0.387558  0.344091  0.307287  0.253683   \n",
       "2019    0.536669  0.395314  0.317671  0.440384  0.287269  0.178119  0.213436   \n",
       "\n",
       "             C  TypeScript      Ruby  \n",
       "2013  0.178563         NaN  0.098732  \n",
       "2014  0.179593         NaN  0.090714  \n",
       "2015  0.163387         NaN  0.079839  \n",
       "2016  0.156614         NaN  0.089403  \n",
       "2017  0.190416    0.095235  0.090758  \n",
       "2018  0.230321    0.173947  0.100991  \n",
       "2019  0.148784    0.226414  0.105835  "
      ]
     },
     "execution_count": 83,
     "metadata": {},
     "output_type": "execute_result"
    }
   ],
   "source": [
    "results_df_projection"
   ]
  },
  {
   "cell_type": "code",
   "execution_count": 84,
   "metadata": {},
   "outputs": [
    {
     "data": {
      "image/png": "[encoded data removed]",
      "text/plain": [
       "<Figure size 576x864 with 1 Axes>"
      ]
     },
     "metadata": {},
     "output_type": "display_data"
    }
   ],
   "source": [
    "plot_line(results_df_projection, 'Top 10 Most Popular Languages Projection')"
   ]
  },
  {
   "cell_type": "markdown",
   "metadata": {},
   "source": [
    "The projects according to what the question requested, shows a noticable dip and seems abnormal, even with filled columns. This may be due to the fact people have misunderstood the question or the question being poorly worded. "
   ]
  },
  {
   "cell_type": "markdown",
   "metadata": {},
   "source": [
    "## 5. Developer Role Salary Distributions\n",
    "\n",
    "The last question we are concerned with is relating to the most popular roles in 2018 and how much are the salaries for each role. We can begin by using the 2018 dataset and removing any nulls in ``DevType`` or ``ConvertedSalary`` columns and subsetting the data with just these two columns."
   ]
  },
  {
   "cell_type": "code",
   "execution_count": 85,
   "metadata": {},
   "outputs": [],
   "source": [
    "dev_type_2018 = df_2018_data"
   ]
  },
  {
   "cell_type": "code",
   "execution_count": 86,
   "metadata": {},
   "outputs": [
    {
     "data": {
      "text/plain": [
       "(98855, 129)"
      ]
     },
     "execution_count": 86,
     "metadata": {},
     "output_type": "execute_result"
    }
   ],
   "source": [
    "dev_type_2018.shape"
   ]
  },
  {
   "cell_type": "code",
   "execution_count": 87,
   "metadata": {},
   "outputs": [],
   "source": [
    "def remove_rows(dataset, cols, vals=[], values=False, nulls=True):\n",
    "    '''\n",
    "    INPUT - dataset - pandas dataframe with the dataset of the developers survey\n",
    "            col - string - the name of the column you would like to select\n",
    "            vals - list of strings - the names of the values you would like to remove\n",
    "            values - boolean - true to remove values.\n",
    "            nulls - boolean - remove nulls for a specified column\n",
    "    OUTPUT - \n",
    "            A subset of the original data with the specified values or nulls removed\n",
    "    ''' \n",
    "    if values:\n",
    "        if len(vals) >= 1:\n",
    "            for val in vals:\n",
    "                dataset = dataset[dataset[col] != val]\n",
    "    \n",
    "    if nulls:\n",
    "        dataset = dataset.dropna(how='any', subset = cols, axis=0)\n",
    "        \n",
    "    return dataset[cols]"
   ]
  },
  {
   "cell_type": "code",
   "execution_count": 88,
   "metadata": {},
   "outputs": [],
   "source": [
    "dev_type_2018_dropped = remove_rows(dev_type_2018, ['DevType', 'ConvertedSalary'], nulls=True)"
   ]
  },
  {
   "cell_type": "code",
   "execution_count": 89,
   "metadata": {},
   "outputs": [
    {
     "data": {
      "text/plain": [
       "(47365, 2)"
      ]
     },
     "execution_count": 89,
     "metadata": {},
     "output_type": "execute_result"
    }
   ],
   "source": [
    "dev_type_2018_dropped.shape"
   ]
  },
  {
   "cell_type": "code",
   "execution_count": 90,
   "metadata": {},
   "outputs": [
    {
     "data": {
      "text/html": [
       "<div>\n",
       "<style scoped>\n",
       "    .dataframe tbody tr th:only-of-type {\n",
       "        vertical-align: middle;\n",
       "    }\n",
       "\n",
       "    .dataframe tbody tr th {\n",
       "        vertical-align: top;\n",
       "    }\n",
       "\n",
       "    .dataframe thead th {\n",
       "        text-align: right;\n",
       "    }\n",
       "</style>\n",
       "<table border=\"1\" class=\"dataframe\">\n",
       "  <thead>\n",
       "    <tr style=\"text-align: right;\">\n",
       "      <th></th>\n",
       "      <th>DevType</th>\n",
       "      <th>ConvertedSalary</th>\n",
       "    </tr>\n",
       "  </thead>\n",
       "  <tbody>\n",
       "    <tr>\n",
       "      <th>1</th>\n",
       "      <td>Database administrator;DevOps specialist;Full-...</td>\n",
       "      <td>70841.0</td>\n",
       "    </tr>\n",
       "    <tr>\n",
       "      <th>4</th>\n",
       "      <td>Data or business analyst;Desktop or enterprise...</td>\n",
       "      <td>21426.0</td>\n",
       "    </tr>\n",
       "    <tr>\n",
       "      <th>5</th>\n",
       "      <td>Back-end developer;Database administrator;Fron...</td>\n",
       "      <td>41671.0</td>\n",
       "    </tr>\n",
       "    <tr>\n",
       "      <th>6</th>\n",
       "      <td>Back-end developer;Front-end developer;Full-st...</td>\n",
       "      <td>120000.0</td>\n",
       "    </tr>\n",
       "    <tr>\n",
       "      <th>8</th>\n",
       "      <td>Back-end developer;C-suite executive (CEO, CTO...</td>\n",
       "      <td>250000.0</td>\n",
       "    </tr>\n",
       "  </tbody>\n",
       "</table>\n",
       "</div>"
      ],
      "text/plain": [
       "                                             DevType  ConvertedSalary\n",
       "1  Database administrator;DevOps specialist;Full-...          70841.0\n",
       "4  Data or business analyst;Desktop or enterprise...          21426.0\n",
       "5  Back-end developer;Database administrator;Fron...          41671.0\n",
       "6  Back-end developer;Front-end developer;Full-st...         120000.0\n",
       "8  Back-end developer;C-suite executive (CEO, CTO...         250000.0"
      ]
     },
     "execution_count": 90,
     "metadata": {},
     "output_type": "execute_result"
    }
   ],
   "source": [
    "dev_type_2018_dropped.head()"
   ]
  },
  {
   "cell_type": "markdown",
   "metadata": {},
   "source": [
    "The ``DevType`` column contains multiple selections delimitered again by a semi-colon. We can use our function from earlier to explode the strings and strip them.\n",
    "\n",
    "One value will be problematic, ``C-suite executive ()``. We need to rename this key as the string pattern match will not work in a later step due to the parenthesis."
   ]
  },
  {
   "cell_type": "code",
   "execution_count": 92,
   "metadata": {},
   "outputs": [
    {
     "data": {
      "text/plain": [
       "{'Database administrator': 7135,\n",
       " 'DevOps specialist': 6087,\n",
       " 'Full-stack developer': 25339,\n",
       " 'System administrator': 5745,\n",
       " 'Data or business analyst': 4088,\n",
       " 'Desktop or enterprise applications developer': 8807,\n",
       " 'Game or graphics developer': 1950,\n",
       " 'QA or test developer': 3603,\n",
       " 'Student': 4736,\n",
       " 'Back-end developer': 28987,\n",
       " 'Front-end developer': 18489,\n",
       " 'Engineering manager': 2973,\n",
       " 'Mobile developer': 9205,\n",
       " 'Designer': 5490,\n",
       " 'Marketing or sales professional': 476,\n",
       " 'Embedded applications or devices developer': 2659,\n",
       " 'Educator or academic researcher': 1724,\n",
       " 'Data scientist or machine learning specialist': 3763,\n",
       " 'Product manager': 2278,\n",
       " 'C-suite executive': 1620}"
      ]
     },
     "execution_count": 92,
     "metadata": {},
     "output_type": "execute_result"
    }
   ],
   "source": [
    "popular_roles = explode_results(dev_type_2018_dropped, 'DevType')\n",
    "popular_roles['C-suite executive'] = popular_roles.pop('C-suite executive (CEO, CTO, etc.)')\n",
    "popular_roles"
   ]
  },
  {
   "cell_type": "markdown",
   "metadata": {},
   "source": [
    "Simiarly, we can use our percentage function to calculate user base share."
   ]
  },
  {
   "cell_type": "code",
   "execution_count": 93,
   "metadata": {},
   "outputs": [
    {
     "name": "stdout",
     "output_type": "stream",
     "text": [
      "Rows Before: 47365\n",
      "Rows After: 47365\n"
     ]
    }
   ],
   "source": [
    "role_share = percentage_dict(popular_roles, dev_type_2018_dropped, 'DevType')"
   ]
  },
  {
   "cell_type": "code",
   "execution_count": 94,
   "metadata": {},
   "outputs": [
    {
     "data": {
      "text/plain": [
       "['Database administrator',\n",
       " 'DevOps specialist',\n",
       " 'Full-stack developer',\n",
       " 'System administrator',\n",
       " 'Data or business analyst',\n",
       " 'Desktop or enterprise applications developer',\n",
       " 'Game or graphics developer',\n",
       " 'QA or test developer',\n",
       " 'Student',\n",
       " 'Back-end developer',\n",
       " 'Front-end developer',\n",
       " 'Engineering manager',\n",
       " 'Mobile developer',\n",
       " 'Designer',\n",
       " 'Marketing or sales professional',\n",
       " 'Embedded applications or devices developer',\n",
       " 'Educator or academic researcher',\n",
       " 'Data scientist or machine learning specialist',\n",
       " 'Product manager',\n",
       " 'C-suite executive']"
      ]
     },
     "execution_count": 94,
     "metadata": {},
     "output_type": "execute_result"
    }
   ],
   "source": [
    "developer_types = list(popular_roles.keys())\n",
    "developer_types"
   ]
  },
  {
   "cell_type": "markdown",
   "metadata": {},
   "source": [
    "To calculate the salary of each group, I firstly iterated every row and increased a count value for each language and returned a dictionary. But if I wanted to plot distributions, which would be more informative to the user, I needed to use an alternate method as opposed to just computing the mean.\n",
    "\n",
    "Therefore, I opted to subset the 2018 data by rows that contained certain roles. For example, a dataframe for all people who responded ``Database administrator``, then another dataframe for all people who responded ``DevOps specialist``, which may have overlaps with other dataframes, depending on how many roles a person reported. Each of these subsets are tagged in a new column, which can be seen below."
   ]
  },
  {
   "cell_type": "code",
   "execution_count": 95,
   "metadata": {},
   "outputs": [
    {
     "name": "stderr",
     "output_type": "stream",
     "text": [
      "C:\\Users\\Day\\Anaconda3\\lib\\site-packages\\ipykernel_launcher.py:19: SettingWithCopyWarning: \n",
      "A value is trying to be set on a copy of a slice from a DataFrame.\n",
      "Try using .loc[row_indexer,col_indexer] = value instead\n",
      "\n",
      "See the caveats in the documentation: http://pandas.pydata.org/pandas-docs/stable/indexing.html#indexing-view-versus-copy\n"
     ]
    }
   ],
   "source": [
    "def salary_calculation_function_merge_frames(dataframe, column, roles, role_count, salary_column):\n",
    "    '''\n",
    "    INPUT - dataframe - pandas dataframe with the dataset of the developers survey\n",
    "            column - string - the name of the column you would like to select\n",
    "            roles - list of strings - the dictionary of role names\n",
    "            role_count - dict - a dictionary of role counts used for asserting subsets are correct\n",
    "            salary_column - string - the name of the salary column to include in the subsets\n",
    "    OUTPUT - \n",
    "            A dataframe comprising of all concatenated subsets of the original data.\n",
    "    ''' \n",
    "    combined_dataframe = pd.DataFrame()\n",
    "    \n",
    "    for role in roles:\n",
    "        role_dataframe = dataframe[dataframe[column].str.contains(role)]\n",
    "        # Check the number of rows is consistent with the reported count.\n",
    "        assert role_dataframe.shape[0] == role_count[role]\n",
    "        \n",
    "        temp_dataframe = dataframe[dataframe[column].str.contains(role)]\n",
    "        temp_dataframe['Role'] = role\n",
    "          \n",
    "        frames = [combined_dataframe, temp_dataframe]\n",
    "\n",
    "        combined_dataframe = pd.concat(frames)\n",
    "    \n",
    "    return combined_dataframe\n",
    "\n",
    "role_dataframe = salary_calculation_function_merge_frames(dev_type_2018_dropped, 'DevType', developer_types, popular_roles, 'ConvertedSalary')"
   ]
  },
  {
   "cell_type": "code",
   "execution_count": 96,
   "metadata": {},
   "outputs": [
    {
     "data": {
      "text/html": [
       "<div>\n",
       "<style scoped>\n",
       "    .dataframe tbody tr th:only-of-type {\n",
       "        vertical-align: middle;\n",
       "    }\n",
       "\n",
       "    .dataframe tbody tr th {\n",
       "        vertical-align: top;\n",
       "    }\n",
       "\n",
       "    .dataframe thead th {\n",
       "        text-align: right;\n",
       "    }\n",
       "</style>\n",
       "<table border=\"1\" class=\"dataframe\">\n",
       "  <thead>\n",
       "    <tr style=\"text-align: right;\">\n",
       "      <th></th>\n",
       "      <th>DevType</th>\n",
       "      <th>ConvertedSalary</th>\n",
       "      <th>Role</th>\n",
       "    </tr>\n",
       "  </thead>\n",
       "  <tbody>\n",
       "    <tr>\n",
       "      <th>1</th>\n",
       "      <td>Database administrator;DevOps specialist;Full-...</td>\n",
       "      <td>70841.0</td>\n",
       "      <td>Database administrator</td>\n",
       "    </tr>\n",
       "    <tr>\n",
       "      <th>5</th>\n",
       "      <td>Back-end developer;Database administrator;Fron...</td>\n",
       "      <td>41671.0</td>\n",
       "      <td>Database administrator</td>\n",
       "    </tr>\n",
       "    <tr>\n",
       "      <th>8</th>\n",
       "      <td>Back-end developer;C-suite executive (CEO, CTO...</td>\n",
       "      <td>250000.0</td>\n",
       "      <td>Database administrator</td>\n",
       "    </tr>\n",
       "    <tr>\n",
       "      <th>20</th>\n",
       "      <td>Database administrator;Full-stack developer;Mo...</td>\n",
       "      <td>95968.0</td>\n",
       "      <td>Database administrator</td>\n",
       "    </tr>\n",
       "    <tr>\n",
       "      <th>22</th>\n",
       "      <td>Back-end developer;Database administrator;Desi...</td>\n",
       "      <td>420.0</td>\n",
       "      <td>Database administrator</td>\n",
       "    </tr>\n",
       "  </tbody>\n",
       "</table>\n",
       "</div>"
      ],
      "text/plain": [
       "                                              DevType  ConvertedSalary  \\\n",
       "1   Database administrator;DevOps specialist;Full-...          70841.0   \n",
       "5   Back-end developer;Database administrator;Fron...          41671.0   \n",
       "8   Back-end developer;C-suite executive (CEO, CTO...         250000.0   \n",
       "20  Database administrator;Full-stack developer;Mo...          95968.0   \n",
       "22  Back-end developer;Database administrator;Desi...            420.0   \n",
       "\n",
       "                      Role  \n",
       "1   Database administrator  \n",
       "5   Database administrator  \n",
       "8   Database administrator  \n",
       "20  Database administrator  \n",
       "22  Database administrator  "
      ]
     },
     "execution_count": 96,
     "metadata": {},
     "output_type": "execute_result"
    }
   ],
   "source": [
    "role_dataframe.head()"
   ]
  },
  {
   "cell_type": "code",
   "execution_count": 97,
   "metadata": {},
   "outputs": [
    {
     "data": {
      "text/plain": [
       "array(['Database administrator', 'DevOps specialist',\n",
       "       'Full-stack developer', 'System administrator',\n",
       "       'Data or business analyst',\n",
       "       'Desktop or enterprise applications developer',\n",
       "       'Game or graphics developer', 'QA or test developer', 'Student',\n",
       "       'Back-end developer', 'Front-end developer', 'Engineering manager',\n",
       "       'Mobile developer', 'Designer', 'Marketing or sales professional',\n",
       "       'Embedded applications or devices developer',\n",
       "       'Educator or academic researcher',\n",
       "       'Data scientist or machine learning specialist', 'Product manager',\n",
       "       'C-suite executive'], dtype=object)"
      ]
     },
     "execution_count": 97,
     "metadata": {},
     "output_type": "execute_result"
    }
   ],
   "source": [
    "role_dataframe['Role'].unique()"
   ]
  },
  {
   "cell_type": "markdown",
   "metadata": {},
   "source": [
    "We can check the new dataframe contains all roles and is of the correct size by comparing the number of rows with the counted values in the ``popular_roles`` dictionary."
   ]
  },
  {
   "cell_type": "code",
   "execution_count": 98,
   "metadata": {},
   "outputs": [
    {
     "name": "stdout",
     "output_type": "stream",
     "text": [
      "Assertion Passed\n"
     ]
    }
   ],
   "source": [
    "assert role_dataframe.shape[0] == sum(popular_roles.values())\n",
    "print(\"Assertion Passed\")"
   ]
  },
  {
   "cell_type": "markdown",
   "metadata": {},
   "source": [
    "Now when we have much more data than the mean, and can plot this data in a similar fashion to earlier questions."
   ]
  },
  {
   "cell_type": "code",
   "execution_count": 99,
   "metadata": {},
   "outputs": [
    {
     "data": {
      "text/html": [
       "<div>\n",
       "<style scoped>\n",
       "    .dataframe tbody tr th:only-of-type {\n",
       "        vertical-align: middle;\n",
       "    }\n",
       "\n",
       "    .dataframe tbody tr th {\n",
       "        vertical-align: top;\n",
       "    }\n",
       "\n",
       "    .dataframe thead tr th {\n",
       "        text-align: left;\n",
       "    }\n",
       "\n",
       "    .dataframe thead tr:last-of-type th {\n",
       "        text-align: right;\n",
       "    }\n",
       "</style>\n",
       "<table border=\"1\" class=\"dataframe\">\n",
       "  <thead>\n",
       "    <tr>\n",
       "      <th></th>\n",
       "      <th colspan=\"8\" halign=\"left\">ConvertedSalary</th>\n",
       "    </tr>\n",
       "    <tr>\n",
       "      <th></th>\n",
       "      <th>count</th>\n",
       "      <th>mean</th>\n",
       "      <th>std</th>\n",
       "      <th>min</th>\n",
       "      <th>25%</th>\n",
       "      <th>50%</th>\n",
       "      <th>75%</th>\n",
       "      <th>max</th>\n",
       "    </tr>\n",
       "    <tr>\n",
       "      <th>Role</th>\n",
       "      <th></th>\n",
       "      <th></th>\n",
       "      <th></th>\n",
       "      <th></th>\n",
       "      <th></th>\n",
       "      <th></th>\n",
       "      <th></th>\n",
       "      <th></th>\n",
       "    </tr>\n",
       "  </thead>\n",
       "  <tbody>\n",
       "    <tr>\n",
       "      <th>Back-end developer</th>\n",
       "      <td>28987.0</td>\n",
       "      <td>96609.911581</td>\n",
       "      <td>202985.094120</td>\n",
       "      <td>0.0</td>\n",
       "      <td>24478.00</td>\n",
       "      <td>55562.0</td>\n",
       "      <td>95000.0</td>\n",
       "      <td>2000000.0</td>\n",
       "    </tr>\n",
       "    <tr>\n",
       "      <th>C-suite executive</th>\n",
       "      <td>1620.0</td>\n",
       "      <td>117667.222840</td>\n",
       "      <td>208705.678778</td>\n",
       "      <td>0.0</td>\n",
       "      <td>29376.00</td>\n",
       "      <td>69244.0</td>\n",
       "      <td>120786.5</td>\n",
       "      <td>2000000.0</td>\n",
       "    </tr>\n",
       "    <tr>\n",
       "      <th>Data or business analyst</th>\n",
       "      <td>4088.0</td>\n",
       "      <td>106542.401908</td>\n",
       "      <td>221458.047750</td>\n",
       "      <td>0.0</td>\n",
       "      <td>28234.75</td>\n",
       "      <td>58890.5</td>\n",
       "      <td>95000.0</td>\n",
       "      <td>2000000.0</td>\n",
       "    </tr>\n",
       "    <tr>\n",
       "      <th>Data scientist or machine learning specialist</th>\n",
       "      <td>3763.0</td>\n",
       "      <td>101430.365400</td>\n",
       "      <td>199579.105408</td>\n",
       "      <td>0.0</td>\n",
       "      <td>28044.00</td>\n",
       "      <td>60000.0</td>\n",
       "      <td>100652.0</td>\n",
       "      <td>2000000.0</td>\n",
       "    </tr>\n",
       "    <tr>\n",
       "      <th>Database administrator</th>\n",
       "      <td>7135.0</td>\n",
       "      <td>97767.508619</td>\n",
       "      <td>220254.031943</td>\n",
       "      <td>0.0</td>\n",
       "      <td>21732.50</td>\n",
       "      <td>51394.0</td>\n",
       "      <td>86230.0</td>\n",
       "      <td>2000000.0</td>\n",
       "    </tr>\n",
       "    <tr>\n",
       "      <th>Designer</th>\n",
       "      <td>5490.0</td>\n",
       "      <td>89856.495811</td>\n",
       "      <td>215507.960576</td>\n",
       "      <td>0.0</td>\n",
       "      <td>14688.00</td>\n",
       "      <td>45992.0</td>\n",
       "      <td>82000.0</td>\n",
       "      <td>2000000.0</td>\n",
       "    </tr>\n",
       "    <tr>\n",
       "      <th>Desktop or enterprise applications developer</th>\n",
       "      <td>8807.0</td>\n",
       "      <td>96060.245373</td>\n",
       "      <td>196625.018828</td>\n",
       "      <td>0.0</td>\n",
       "      <td>27312.00</td>\n",
       "      <td>57480.0</td>\n",
       "      <td>92684.5</td>\n",
       "      <td>2000000.0</td>\n",
       "    </tr>\n",
       "    <tr>\n",
       "      <th>DevOps specialist</th>\n",
       "      <td>6087.0</td>\n",
       "      <td>115029.313948</td>\n",
       "      <td>211682.927074</td>\n",
       "      <td>0.0</td>\n",
       "      <td>41124.00</td>\n",
       "      <td>72469.0</td>\n",
       "      <td>110000.0</td>\n",
       "      <td>2000000.0</td>\n",
       "    </tr>\n",
       "    <tr>\n",
       "      <th>Educator or academic researcher</th>\n",
       "      <td>1724.0</td>\n",
       "      <td>83182.155452</td>\n",
       "      <td>180710.494994</td>\n",
       "      <td>0.0</td>\n",
       "      <td>16374.00</td>\n",
       "      <td>43711.5</td>\n",
       "      <td>79552.0</td>\n",
       "      <td>2000000.0</td>\n",
       "    </tr>\n",
       "    <tr>\n",
       "      <th>Embedded applications or devices developer</th>\n",
       "      <td>2659.0</td>\n",
       "      <td>94803.100790</td>\n",
       "      <td>186867.380218</td>\n",
       "      <td>0.0</td>\n",
       "      <td>29376.00</td>\n",
       "      <td>59180.0</td>\n",
       "      <td>91791.0</td>\n",
       "      <td>2000000.0</td>\n",
       "    </tr>\n",
       "    <tr>\n",
       "      <th>Engineering manager</th>\n",
       "      <td>2973.0</td>\n",
       "      <td>129926.441641</td>\n",
       "      <td>209937.050287</td>\n",
       "      <td>0.0</td>\n",
       "      <td>48300.00</td>\n",
       "      <td>88573.0</td>\n",
       "      <td>135000.0</td>\n",
       "      <td>2000000.0</td>\n",
       "    </tr>\n",
       "    <tr>\n",
       "      <th>Front-end developer</th>\n",
       "      <td>18489.0</td>\n",
       "      <td>95027.715128</td>\n",
       "      <td>209811.730047</td>\n",
       "      <td>0.0</td>\n",
       "      <td>22032.00</td>\n",
       "      <td>51408.0</td>\n",
       "      <td>88116.0</td>\n",
       "      <td>2000000.0</td>\n",
       "    </tr>\n",
       "    <tr>\n",
       "      <th>Full-stack developer</th>\n",
       "      <td>25339.0</td>\n",
       "      <td>100156.391334</td>\n",
       "      <td>206597.675355</td>\n",
       "      <td>0.0</td>\n",
       "      <td>28800.00</td>\n",
       "      <td>59000.0</td>\n",
       "      <td>96000.0</td>\n",
       "      <td>2000000.0</td>\n",
       "    </tr>\n",
       "    <tr>\n",
       "      <th>Game or graphics developer</th>\n",
       "      <td>1950.0</td>\n",
       "      <td>82366.682564</td>\n",
       "      <td>192787.654168</td>\n",
       "      <td>0.0</td>\n",
       "      <td>11115.00</td>\n",
       "      <td>40000.0</td>\n",
       "      <td>79552.0</td>\n",
       "      <td>2000000.0</td>\n",
       "    </tr>\n",
       "    <tr>\n",
       "      <th>Marketing or sales professional</th>\n",
       "      <td>476.0</td>\n",
       "      <td>106729.302521</td>\n",
       "      <td>231991.230922</td>\n",
       "      <td>0.0</td>\n",
       "      <td>20605.50</td>\n",
       "      <td>49197.5</td>\n",
       "      <td>93862.5</td>\n",
       "      <td>2000000.0</td>\n",
       "    </tr>\n",
       "    <tr>\n",
       "      <th>Mobile developer</th>\n",
       "      <td>9205.0</td>\n",
       "      <td>84073.317762</td>\n",
       "      <td>191282.578054</td>\n",
       "      <td>0.0</td>\n",
       "      <td>14688.00</td>\n",
       "      <td>43224.0</td>\n",
       "      <td>82584.0</td>\n",
       "      <td>2000000.0</td>\n",
       "    </tr>\n",
       "    <tr>\n",
       "      <th>Product manager</th>\n",
       "      <td>2278.0</td>\n",
       "      <td>112144.072432</td>\n",
       "      <td>218293.613301</td>\n",
       "      <td>0.0</td>\n",
       "      <td>32532.00</td>\n",
       "      <td>63174.0</td>\n",
       "      <td>104178.0</td>\n",
       "      <td>2000000.0</td>\n",
       "    </tr>\n",
       "    <tr>\n",
       "      <th>QA or test developer</th>\n",
       "      <td>3603.0</td>\n",
       "      <td>95877.932279</td>\n",
       "      <td>212481.632486</td>\n",
       "      <td>0.0</td>\n",
       "      <td>26396.00</td>\n",
       "      <td>55000.0</td>\n",
       "      <td>86610.0</td>\n",
       "      <td>2000000.0</td>\n",
       "    </tr>\n",
       "    <tr>\n",
       "      <th>Student</th>\n",
       "      <td>4736.0</td>\n",
       "      <td>43759.387458</td>\n",
       "      <td>148888.020631</td>\n",
       "      <td>0.0</td>\n",
       "      <td>4239.00</td>\n",
       "      <td>14202.0</td>\n",
       "      <td>33780.0</td>\n",
       "      <td>2000000.0</td>\n",
       "    </tr>\n",
       "    <tr>\n",
       "      <th>System administrator</th>\n",
       "      <td>5745.0</td>\n",
       "      <td>101142.149695</td>\n",
       "      <td>217154.995997</td>\n",
       "      <td>0.0</td>\n",
       "      <td>27781.00</td>\n",
       "      <td>55562.0</td>\n",
       "      <td>90000.0</td>\n",
       "      <td>2000000.0</td>\n",
       "    </tr>\n",
       "  </tbody>\n",
       "</table>\n",
       "</div>"
      ],
      "text/plain": [
       "                                              ConvertedSalary                 \\\n",
       "                                                        count           mean   \n",
       "Role                                                                           \n",
       "Back-end developer                                    28987.0   96609.911581   \n",
       "C-suite executive                                      1620.0  117667.222840   \n",
       "Data or business analyst                               4088.0  106542.401908   \n",
       "Data scientist or machine learning specialist          3763.0  101430.365400   \n",
       "Database administrator                                 7135.0   97767.508619   \n",
       "Designer                                               5490.0   89856.495811   \n",
       "Desktop or enterprise applications developer           8807.0   96060.245373   \n",
       "DevOps specialist                                      6087.0  115029.313948   \n",
       "Educator or academic researcher                        1724.0   83182.155452   \n",
       "Embedded applications or devices developer             2659.0   94803.100790   \n",
       "Engineering manager                                    2973.0  129926.441641   \n",
       "Front-end developer                                   18489.0   95027.715128   \n",
       "Full-stack developer                                  25339.0  100156.391334   \n",
       "Game or graphics developer                             1950.0   82366.682564   \n",
       "Marketing or sales professional                         476.0  106729.302521   \n",
       "Mobile developer                                       9205.0   84073.317762   \n",
       "Product manager                                        2278.0  112144.072432   \n",
       "QA or test developer                                   3603.0   95877.932279   \n",
       "Student                                                4736.0   43759.387458   \n",
       "System administrator                                   5745.0  101142.149695   \n",
       "\n",
       "                                                                             \\\n",
       "                                                         std  min       25%   \n",
       "Role                                                                          \n",
       "Back-end developer                             202985.094120  0.0  24478.00   \n",
       "C-suite executive                              208705.678778  0.0  29376.00   \n",
       "Data or business analyst                       221458.047750  0.0  28234.75   \n",
       "Data scientist or machine learning specialist  199579.105408  0.0  28044.00   \n",
       "Database administrator                         220254.031943  0.0  21732.50   \n",
       "Designer                                       215507.960576  0.0  14688.00   \n",
       "Desktop or enterprise applications developer   196625.018828  0.0  27312.00   \n",
       "DevOps specialist                              211682.927074  0.0  41124.00   \n",
       "Educator or academic researcher                180710.494994  0.0  16374.00   \n",
       "Embedded applications or devices developer     186867.380218  0.0  29376.00   \n",
       "Engineering manager                            209937.050287  0.0  48300.00   \n",
       "Front-end developer                            209811.730047  0.0  22032.00   \n",
       "Full-stack developer                           206597.675355  0.0  28800.00   \n",
       "Game or graphics developer                     192787.654168  0.0  11115.00   \n",
       "Marketing or sales professional                231991.230922  0.0  20605.50   \n",
       "Mobile developer                               191282.578054  0.0  14688.00   \n",
       "Product manager                                218293.613301  0.0  32532.00   \n",
       "QA or test developer                           212481.632486  0.0  26396.00   \n",
       "Student                                        148888.020631  0.0   4239.00   \n",
       "System administrator                           217154.995997  0.0  27781.00   \n",
       "\n",
       "                                                                             \n",
       "                                                   50%       75%        max  \n",
       "Role                                                                         \n",
       "Back-end developer                             55562.0   95000.0  2000000.0  \n",
       "C-suite executive                              69244.0  120786.5  2000000.0  \n",
       "Data or business analyst                       58890.5   95000.0  2000000.0  \n",
       "Data scientist or machine learning specialist  60000.0  100652.0  2000000.0  \n",
       "Database administrator                         51394.0   86230.0  2000000.0  \n",
       "Designer                                       45992.0   82000.0  2000000.0  \n",
       "Desktop or enterprise applications developer   57480.0   92684.5  2000000.0  \n",
       "DevOps specialist                              72469.0  110000.0  2000000.0  \n",
       "Educator or academic researcher                43711.5   79552.0  2000000.0  \n",
       "Embedded applications or devices developer     59180.0   91791.0  2000000.0  \n",
       "Engineering manager                            88573.0  135000.0  2000000.0  \n",
       "Front-end developer                            51408.0   88116.0  2000000.0  \n",
       "Full-stack developer                           59000.0   96000.0  2000000.0  \n",
       "Game or graphics developer                     40000.0   79552.0  2000000.0  \n",
       "Marketing or sales professional                49197.5   93862.5  2000000.0  \n",
       "Mobile developer                               43224.0   82584.0  2000000.0  \n",
       "Product manager                                63174.0  104178.0  2000000.0  \n",
       "QA or test developer                           55000.0   86610.0  2000000.0  \n",
       "Student                                        14202.0   33780.0  2000000.0  \n",
       "System administrator                           55562.0   90000.0  2000000.0  "
      ]
     },
     "execution_count": 99,
     "metadata": {},
     "output_type": "execute_result"
    }
   ],
   "source": [
    "role_dataframe.groupby('Role').describe()"
   ]
  },
  {
   "cell_type": "markdown",
   "metadata": {},
   "source": [
    "I have used the same functions from the previous notebook to draw our plots."
   ]
  },
  {
   "cell_type": "code",
   "execution_count": 100,
   "metadata": {},
   "outputs": [],
   "source": [
    "def plot_box(dataset, x, y, show_outliers=True):\n",
    "    '''\n",
    "    INPUT - dataset - pandas dataframe with the dataset of the developers survey\n",
    "            x - string - the name of the column you would like to group by\n",
    "            y - string - the name of the column you would like to visualise\n",
    "    OUTPUT - \n",
    "            A box plot of the user specified data\n",
    "    '''\n",
    "    # Set figure size and style to enhance readability \n",
    "    sns.set(rc={'figure.figsize':(11.7,8.27)})\n",
    "    sns.set(font_scale=1.5)\n",
    "    sns.set_style(\"darkgrid\")\n",
    "    # Create box plot with Seaborn's default settings\n",
    "    _ = sns.boxplot(x=x, y=y, data=dataset, showfliers=show_outliers)\n",
    "    # Label the axes\n",
    "    _ = plt.xlabel(x)\n",
    "    _ = plt.ylabel(\"\")\n",
    "    # Show the plot\n",
    "    plt.show()"
   ]
  },
  {
   "cell_type": "code",
   "execution_count": 101,
   "metadata": {},
   "outputs": [
    {
     "data": {
      "image/png": "[encoded data removed]",
      "text/plain": [
       "<Figure size 842.4x595.44 with 1 Axes>"
      ]
     },
     "metadata": {},
     "output_type": "display_data"
    }
   ],
   "source": [
    "plot_box(role_dataframe, 'ConvertedSalary', 'Role',  True)"
   ]
  },
  {
   "cell_type": "markdown",
   "metadata": {},
   "source": [
    "Again the outliers (> 1.5 * IQR) squash our data and I have therefore opted to hide them."
   ]
  },
  {
   "cell_type": "code",
   "execution_count": 102,
   "metadata": {},
   "outputs": [
    {
     "data": {
      "image/png": "[encoded data removed]",
      "text/plain": [
       "<Figure size 842.4x595.44 with 1 Axes>"
      ]
     },
     "metadata": {},
     "output_type": "display_data"
    }
   ],
   "source": [
    "plot_box(role_dataframe, 'ConvertedSalary', 'Role',  False)"
   ]
  },
  {
   "cell_type": "markdown",
   "metadata": {},
   "source": [
    "Using the same information, we can plot a bar chart to show job role popularity in 2018."
   ]
  },
  {
   "cell_type": "code",
   "execution_count": 103,
   "metadata": {},
   "outputs": [],
   "source": [
    "def plot_bar(dataset, x, y, show_outliers=True):\n",
    "    '''\n",
    "    INPUT - dataset - pandas dataframe with the dataset of the developers survey\n",
    "            x - string - the name of the column you would like to group by\n",
    "            y - string - the name of the column you would like to visualise\n",
    "    OUTPUT - \n",
    "            A box plot of the user specified data\n",
    "    '''\n",
    "    # Create box plot with Seaborn's default settings\n",
    "    ax = dataset.plot.barh(x=x, y=y, legend=None)\n",
    "    ax.set_xlabel(y)\n",
    "    ax.set_ylabel(\"\")"
   ]
  },
  {
   "cell_type": "code",
   "execution_count": 104,
   "metadata": {},
   "outputs": [
    {
     "data": {
      "text/html": [
       "<div>\n",
       "<style scoped>\n",
       "    .dataframe tbody tr th:only-of-type {\n",
       "        vertical-align: middle;\n",
       "    }\n",
       "\n",
       "    .dataframe tbody tr th {\n",
       "        vertical-align: top;\n",
       "    }\n",
       "\n",
       "    .dataframe thead tr th {\n",
       "        text-align: left;\n",
       "    }\n",
       "\n",
       "    .dataframe thead tr:last-of-type th {\n",
       "        text-align: right;\n",
       "    }\n",
       "</style>\n",
       "<table border=\"1\" class=\"dataframe\">\n",
       "  <thead>\n",
       "    <tr>\n",
       "      <th></th>\n",
       "      <th colspan=\"8\" halign=\"left\">ConvertedSalary</th>\n",
       "    </tr>\n",
       "    <tr>\n",
       "      <th></th>\n",
       "      <th>count</th>\n",
       "      <th>mean</th>\n",
       "      <th>std</th>\n",
       "      <th>min</th>\n",
       "      <th>25%</th>\n",
       "      <th>50%</th>\n",
       "      <th>75%</th>\n",
       "      <th>max</th>\n",
       "    </tr>\n",
       "    <tr>\n",
       "      <th>Role</th>\n",
       "      <th></th>\n",
       "      <th></th>\n",
       "      <th></th>\n",
       "      <th></th>\n",
       "      <th></th>\n",
       "      <th></th>\n",
       "      <th></th>\n",
       "      <th></th>\n",
       "    </tr>\n",
       "  </thead>\n",
       "  <tbody>\n",
       "    <tr>\n",
       "      <th>Back-end developer</th>\n",
       "      <td>28987.0</td>\n",
       "      <td>96609.911581</td>\n",
       "      <td>202985.094120</td>\n",
       "      <td>0.0</td>\n",
       "      <td>24478.00</td>\n",
       "      <td>55562.0</td>\n",
       "      <td>95000.0</td>\n",
       "      <td>2000000.0</td>\n",
       "    </tr>\n",
       "    <tr>\n",
       "      <th>C-suite executive</th>\n",
       "      <td>1620.0</td>\n",
       "      <td>117667.222840</td>\n",
       "      <td>208705.678778</td>\n",
       "      <td>0.0</td>\n",
       "      <td>29376.00</td>\n",
       "      <td>69244.0</td>\n",
       "      <td>120786.5</td>\n",
       "      <td>2000000.0</td>\n",
       "    </tr>\n",
       "    <tr>\n",
       "      <th>Data or business analyst</th>\n",
       "      <td>4088.0</td>\n",
       "      <td>106542.401908</td>\n",
       "      <td>221458.047750</td>\n",
       "      <td>0.0</td>\n",
       "      <td>28234.75</td>\n",
       "      <td>58890.5</td>\n",
       "      <td>95000.0</td>\n",
       "      <td>2000000.0</td>\n",
       "    </tr>\n",
       "    <tr>\n",
       "      <th>Data scientist or machine learning specialist</th>\n",
       "      <td>3763.0</td>\n",
       "      <td>101430.365400</td>\n",
       "      <td>199579.105408</td>\n",
       "      <td>0.0</td>\n",
       "      <td>28044.00</td>\n",
       "      <td>60000.0</td>\n",
       "      <td>100652.0</td>\n",
       "      <td>2000000.0</td>\n",
       "    </tr>\n",
       "    <tr>\n",
       "      <th>Database administrator</th>\n",
       "      <td>7135.0</td>\n",
       "      <td>97767.508619</td>\n",
       "      <td>220254.031943</td>\n",
       "      <td>0.0</td>\n",
       "      <td>21732.50</td>\n",
       "      <td>51394.0</td>\n",
       "      <td>86230.0</td>\n",
       "      <td>2000000.0</td>\n",
       "    </tr>\n",
       "    <tr>\n",
       "      <th>Designer</th>\n",
       "      <td>5490.0</td>\n",
       "      <td>89856.495811</td>\n",
       "      <td>215507.960576</td>\n",
       "      <td>0.0</td>\n",
       "      <td>14688.00</td>\n",
       "      <td>45992.0</td>\n",
       "      <td>82000.0</td>\n",
       "      <td>2000000.0</td>\n",
       "    </tr>\n",
       "    <tr>\n",
       "      <th>Desktop or enterprise applications developer</th>\n",
       "      <td>8807.0</td>\n",
       "      <td>96060.245373</td>\n",
       "      <td>196625.018828</td>\n",
       "      <td>0.0</td>\n",
       "      <td>27312.00</td>\n",
       "      <td>57480.0</td>\n",
       "      <td>92684.5</td>\n",
       "      <td>2000000.0</td>\n",
       "    </tr>\n",
       "    <tr>\n",
       "      <th>DevOps specialist</th>\n",
       "      <td>6087.0</td>\n",
       "      <td>115029.313948</td>\n",
       "      <td>211682.927074</td>\n",
       "      <td>0.0</td>\n",
       "      <td>41124.00</td>\n",
       "      <td>72469.0</td>\n",
       "      <td>110000.0</td>\n",
       "      <td>2000000.0</td>\n",
       "    </tr>\n",
       "    <tr>\n",
       "      <th>Educator or academic researcher</th>\n",
       "      <td>1724.0</td>\n",
       "      <td>83182.155452</td>\n",
       "      <td>180710.494994</td>\n",
       "      <td>0.0</td>\n",
       "      <td>16374.00</td>\n",
       "      <td>43711.5</td>\n",
       "      <td>79552.0</td>\n",
       "      <td>2000000.0</td>\n",
       "    </tr>\n",
       "    <tr>\n",
       "      <th>Embedded applications or devices developer</th>\n",
       "      <td>2659.0</td>\n",
       "      <td>94803.100790</td>\n",
       "      <td>186867.380218</td>\n",
       "      <td>0.0</td>\n",
       "      <td>29376.00</td>\n",
       "      <td>59180.0</td>\n",
       "      <td>91791.0</td>\n",
       "      <td>2000000.0</td>\n",
       "    </tr>\n",
       "    <tr>\n",
       "      <th>Engineering manager</th>\n",
       "      <td>2973.0</td>\n",
       "      <td>129926.441641</td>\n",
       "      <td>209937.050287</td>\n",
       "      <td>0.0</td>\n",
       "      <td>48300.00</td>\n",
       "      <td>88573.0</td>\n",
       "      <td>135000.0</td>\n",
       "      <td>2000000.0</td>\n",
       "    </tr>\n",
       "    <tr>\n",
       "      <th>Front-end developer</th>\n",
       "      <td>18489.0</td>\n",
       "      <td>95027.715128</td>\n",
       "      <td>209811.730047</td>\n",
       "      <td>0.0</td>\n",
       "      <td>22032.00</td>\n",
       "      <td>51408.0</td>\n",
       "      <td>88116.0</td>\n",
       "      <td>2000000.0</td>\n",
       "    </tr>\n",
       "    <tr>\n",
       "      <th>Full-stack developer</th>\n",
       "      <td>25339.0</td>\n",
       "      <td>100156.391334</td>\n",
       "      <td>206597.675355</td>\n",
       "      <td>0.0</td>\n",
       "      <td>28800.00</td>\n",
       "      <td>59000.0</td>\n",
       "      <td>96000.0</td>\n",
       "      <td>2000000.0</td>\n",
       "    </tr>\n",
       "    <tr>\n",
       "      <th>Game or graphics developer</th>\n",
       "      <td>1950.0</td>\n",
       "      <td>82366.682564</td>\n",
       "      <td>192787.654168</td>\n",
       "      <td>0.0</td>\n",
       "      <td>11115.00</td>\n",
       "      <td>40000.0</td>\n",
       "      <td>79552.0</td>\n",
       "      <td>2000000.0</td>\n",
       "    </tr>\n",
       "    <tr>\n",
       "      <th>Marketing or sales professional</th>\n",
       "      <td>476.0</td>\n",
       "      <td>106729.302521</td>\n",
       "      <td>231991.230922</td>\n",
       "      <td>0.0</td>\n",
       "      <td>20605.50</td>\n",
       "      <td>49197.5</td>\n",
       "      <td>93862.5</td>\n",
       "      <td>2000000.0</td>\n",
       "    </tr>\n",
       "    <tr>\n",
       "      <th>Mobile developer</th>\n",
       "      <td>9205.0</td>\n",
       "      <td>84073.317762</td>\n",
       "      <td>191282.578054</td>\n",
       "      <td>0.0</td>\n",
       "      <td>14688.00</td>\n",
       "      <td>43224.0</td>\n",
       "      <td>82584.0</td>\n",
       "      <td>2000000.0</td>\n",
       "    </tr>\n",
       "    <tr>\n",
       "      <th>Product manager</th>\n",
       "      <td>2278.0</td>\n",
       "      <td>112144.072432</td>\n",
       "      <td>218293.613301</td>\n",
       "      <td>0.0</td>\n",
       "      <td>32532.00</td>\n",
       "      <td>63174.0</td>\n",
       "      <td>104178.0</td>\n",
       "      <td>2000000.0</td>\n",
       "    </tr>\n",
       "    <tr>\n",
       "      <th>QA or test developer</th>\n",
       "      <td>3603.0</td>\n",
       "      <td>95877.932279</td>\n",
       "      <td>212481.632486</td>\n",
       "      <td>0.0</td>\n",
       "      <td>26396.00</td>\n",
       "      <td>55000.0</td>\n",
       "      <td>86610.0</td>\n",
       "      <td>2000000.0</td>\n",
       "    </tr>\n",
       "    <tr>\n",
       "      <th>Student</th>\n",
       "      <td>4736.0</td>\n",
       "      <td>43759.387458</td>\n",
       "      <td>148888.020631</td>\n",
       "      <td>0.0</td>\n",
       "      <td>4239.00</td>\n",
       "      <td>14202.0</td>\n",
       "      <td>33780.0</td>\n",
       "      <td>2000000.0</td>\n",
       "    </tr>\n",
       "    <tr>\n",
       "      <th>System administrator</th>\n",
       "      <td>5745.0</td>\n",
       "      <td>101142.149695</td>\n",
       "      <td>217154.995997</td>\n",
       "      <td>0.0</td>\n",
       "      <td>27781.00</td>\n",
       "      <td>55562.0</td>\n",
       "      <td>90000.0</td>\n",
       "      <td>2000000.0</td>\n",
       "    </tr>\n",
       "  </tbody>\n",
       "</table>\n",
       "</div>"
      ],
      "text/plain": [
       "                                              ConvertedSalary                 \\\n",
       "                                                        count           mean   \n",
       "Role                                                                           \n",
       "Back-end developer                                    28987.0   96609.911581   \n",
       "C-suite executive                                      1620.0  117667.222840   \n",
       "Data or business analyst                               4088.0  106542.401908   \n",
       "Data scientist or machine learning specialist          3763.0  101430.365400   \n",
       "Database administrator                                 7135.0   97767.508619   \n",
       "Designer                                               5490.0   89856.495811   \n",
       "Desktop or enterprise applications developer           8807.0   96060.245373   \n",
       "DevOps specialist                                      6087.0  115029.313948   \n",
       "Educator or academic researcher                        1724.0   83182.155452   \n",
       "Embedded applications or devices developer             2659.0   94803.100790   \n",
       "Engineering manager                                    2973.0  129926.441641   \n",
       "Front-end developer                                   18489.0   95027.715128   \n",
       "Full-stack developer                                  25339.0  100156.391334   \n",
       "Game or graphics developer                             1950.0   82366.682564   \n",
       "Marketing or sales professional                         476.0  106729.302521   \n",
       "Mobile developer                                       9205.0   84073.317762   \n",
       "Product manager                                        2278.0  112144.072432   \n",
       "QA or test developer                                   3603.0   95877.932279   \n",
       "Student                                                4736.0   43759.387458   \n",
       "System administrator                                   5745.0  101142.149695   \n",
       "\n",
       "                                                                             \\\n",
       "                                                         std  min       25%   \n",
       "Role                                                                          \n",
       "Back-end developer                             202985.094120  0.0  24478.00   \n",
       "C-suite executive                              208705.678778  0.0  29376.00   \n",
       "Data or business analyst                       221458.047750  0.0  28234.75   \n",
       "Data scientist or machine learning specialist  199579.105408  0.0  28044.00   \n",
       "Database administrator                         220254.031943  0.0  21732.50   \n",
       "Designer                                       215507.960576  0.0  14688.00   \n",
       "Desktop or enterprise applications developer   196625.018828  0.0  27312.00   \n",
       "DevOps specialist                              211682.927074  0.0  41124.00   \n",
       "Educator or academic researcher                180710.494994  0.0  16374.00   \n",
       "Embedded applications or devices developer     186867.380218  0.0  29376.00   \n",
       "Engineering manager                            209937.050287  0.0  48300.00   \n",
       "Front-end developer                            209811.730047  0.0  22032.00   \n",
       "Full-stack developer                           206597.675355  0.0  28800.00   \n",
       "Game or graphics developer                     192787.654168  0.0  11115.00   \n",
       "Marketing or sales professional                231991.230922  0.0  20605.50   \n",
       "Mobile developer                               191282.578054  0.0  14688.00   \n",
       "Product manager                                218293.613301  0.0  32532.00   \n",
       "QA or test developer                           212481.632486  0.0  26396.00   \n",
       "Student                                        148888.020631  0.0   4239.00   \n",
       "System administrator                           217154.995997  0.0  27781.00   \n",
       "\n",
       "                                                                             \n",
       "                                                   50%       75%        max  \n",
       "Role                                                                         \n",
       "Back-end developer                             55562.0   95000.0  2000000.0  \n",
       "C-suite executive                              69244.0  120786.5  2000000.0  \n",
       "Data or business analyst                       58890.5   95000.0  2000000.0  \n",
       "Data scientist or machine learning specialist  60000.0  100652.0  2000000.0  \n",
       "Database administrator                         51394.0   86230.0  2000000.0  \n",
       "Designer                                       45992.0   82000.0  2000000.0  \n",
       "Desktop or enterprise applications developer   57480.0   92684.5  2000000.0  \n",
       "DevOps specialist                              72469.0  110000.0  2000000.0  \n",
       "Educator or academic researcher                43711.5   79552.0  2000000.0  \n",
       "Embedded applications or devices developer     59180.0   91791.0  2000000.0  \n",
       "Engineering manager                            88573.0  135000.0  2000000.0  \n",
       "Front-end developer                            51408.0   88116.0  2000000.0  \n",
       "Full-stack developer                           59000.0   96000.0  2000000.0  \n",
       "Game or graphics developer                     40000.0   79552.0  2000000.0  \n",
       "Marketing or sales professional                49197.5   93862.5  2000000.0  \n",
       "Mobile developer                               43224.0   82584.0  2000000.0  \n",
       "Product manager                                63174.0  104178.0  2000000.0  \n",
       "QA or test developer                           55000.0   86610.0  2000000.0  \n",
       "Student                                        14202.0   33780.0  2000000.0  \n",
       "System administrator                           55562.0   90000.0  2000000.0  "
      ]
     },
     "execution_count": 104,
     "metadata": {},
     "output_type": "execute_result"
    }
   ],
   "source": [
    "role_dataframe.groupby('Role').describe()"
   ]
  },
  {
   "cell_type": "markdown",
   "metadata": {},
   "source": [
    "We are dealing with a dataframe and not a dictionary and have therefore opted to create a new ``Percent`` column using mathematical operators on a series."
   ]
  },
  {
   "cell_type": "code",
   "execution_count": 105,
   "metadata": {},
   "outputs": [],
   "source": [
    "roles_popularity_dataframe = pd.DataFrame(role_dataframe.groupby('Role').describe()['ConvertedSalary', 'count']).reset_index()"
   ]
  },
  {
   "cell_type": "code",
   "execution_count": 106,
   "metadata": {},
   "outputs": [],
   "source": [
    "roles_popularity_dataframe['Percent'] = roles_popularity_dataframe['ConvertedSalary', 'count']/dev_type_2018_dropped.shape[0]"
   ]
  },
  {
   "cell_type": "code",
   "execution_count": 107,
   "metadata": {},
   "outputs": [],
   "source": [
    "roles_popularity_dataframe = roles_popularity_dataframe.sort_values(by=['Percent'])"
   ]
  },
  {
   "cell_type": "code",
   "execution_count": 108,
   "metadata": {},
   "outputs": [
    {
     "data": {
      "text/html": [
       "<div>\n",
       "<style scoped>\n",
       "    .dataframe tbody tr th:only-of-type {\n",
       "        vertical-align: middle;\n",
       "    }\n",
       "\n",
       "    .dataframe tbody tr th {\n",
       "        vertical-align: top;\n",
       "    }\n",
       "\n",
       "    .dataframe thead tr th {\n",
       "        text-align: left;\n",
       "    }\n",
       "</style>\n",
       "<table border=\"1\" class=\"dataframe\">\n",
       "  <thead>\n",
       "    <tr>\n",
       "      <th></th>\n",
       "      <th>Role</th>\n",
       "      <th>ConvertedSalary</th>\n",
       "      <th>Percent</th>\n",
       "    </tr>\n",
       "    <tr>\n",
       "      <th></th>\n",
       "      <th></th>\n",
       "      <th>count</th>\n",
       "      <th></th>\n",
       "    </tr>\n",
       "  </thead>\n",
       "  <tbody>\n",
       "    <tr>\n",
       "      <th>14</th>\n",
       "      <td>Marketing or sales professional</td>\n",
       "      <td>476.0</td>\n",
       "      <td>0.010050</td>\n",
       "    </tr>\n",
       "    <tr>\n",
       "      <th>1</th>\n",
       "      <td>C-suite executive</td>\n",
       "      <td>1620.0</td>\n",
       "      <td>0.034202</td>\n",
       "    </tr>\n",
       "    <tr>\n",
       "      <th>8</th>\n",
       "      <td>Educator or academic researcher</td>\n",
       "      <td>1724.0</td>\n",
       "      <td>0.036398</td>\n",
       "    </tr>\n",
       "    <tr>\n",
       "      <th>13</th>\n",
       "      <td>Game or graphics developer</td>\n",
       "      <td>1950.0</td>\n",
       "      <td>0.041170</td>\n",
       "    </tr>\n",
       "    <tr>\n",
       "      <th>16</th>\n",
       "      <td>Product manager</td>\n",
       "      <td>2278.0</td>\n",
       "      <td>0.048095</td>\n",
       "    </tr>\n",
       "  </tbody>\n",
       "</table>\n",
       "</div>"
      ],
      "text/plain": [
       "                               Role ConvertedSalary   Percent\n",
       "                                              count          \n",
       "14  Marketing or sales professional           476.0  0.010050\n",
       "1                 C-suite executive          1620.0  0.034202\n",
       "8   Educator or academic researcher          1724.0  0.036398\n",
       "13       Game or graphics developer          1950.0  0.041170\n",
       "16                  Product manager          2278.0  0.048095"
      ]
     },
     "execution_count": 108,
     "metadata": {},
     "output_type": "execute_result"
    }
   ],
   "source": [
    "roles_popularity_dataframe.head()"
   ]
  },
  {
   "cell_type": "markdown",
   "metadata": {},
   "source": [
    "Using the plotting function from earlier, we can show the most popular languages as a percentage of the userbase."
   ]
  },
  {
   "cell_type": "code",
   "execution_count": 109,
   "metadata": {},
   "outputs": [
    {
     "data": {
      "image/png": "[encoded data removed]",
      "text/plain": [
       "<Figure size 842.4x595.44 with 1 Axes>"
      ]
     },
     "metadata": {},
     "output_type": "display_data"
    }
   ],
   "source": [
    "plot_bar(roles_popularity_dataframe, 'Role', 'Percent')"
   ]
  },
  {
   "cell_type": "code",
   "execution_count": null,
   "metadata": {},
   "outputs": [],
   "source": []
  }
 ],
 "metadata": {
  "kernelspec": {
   "display_name": "Python 3",
   "language": "python",
   "name": "python3"
  },
  "language_info": {
   "codemirror_mode": {
    "name": "ipython",
    "version": 3
   },
   "file_extension": ".py",
   "mimetype": "text/x-python",
   "name": "python",
   "nbconvert_exporter": "python",
   "pygments_lexer": "ipython3",
   "version": "3.6.5"
  }
 },
 "nbformat": 4,
 "nbformat_minor": 2
}
