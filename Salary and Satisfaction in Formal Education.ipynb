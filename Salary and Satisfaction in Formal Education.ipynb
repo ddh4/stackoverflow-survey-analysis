{
 "cells": [
  {
   "cell_type": "markdown",
   "metadata": {},
   "source": [
    "# Stack Overflow Data (2011-2018)\n",
    "\n",
    "## CRISP-DM\n",
    "\n",
    "<img src=\"images/crisp-dm-wikipedia.png\" width=\"300\" height=\"300\" >\n",
    "\n",
    "\n",
    "### Business Understanding\n",
    "\n",
    "Deriving understanding can be data driven or objective driven, i.e. we have access to data and forumate questions based on what is available, or we pose questions and gather data that will be useful in solving the questions. \n",
    "\n",
    "<img src=\"images/data-question-solution.png\" width=\"500\" >\n",
    "\n",
    "In this project, our questions are motivated by the available data as we have access to a wealth of information provided by StackOverflow pertaining to responses regarding developer experience from their most comprehensive survey of software developers, available [here](https://insights.stackoverflow.com/survey). The questions posed in these surveys capture information from career satisfaction and job search to education and sound preference when coding.\n",
    "\n",
    "The questions derived from the data are the following:\n",
    "\n",
    "1. What are the formal education levels of people in tech?\n",
    "2. What are the salary distributions of each formal education level?\n",
    "3. What are the job satisfaction distributions of each formal education level?\n",
    "4. What are the most popular language trends for the past 6 years?\n",
    "5. What are the most popular job roles and their salaries?\n",
    "\n",
    "\n",
    "### Data Understanding\n",
    "\n",
    "As mentioned, the data has been made publically available by StackOverlow and therefore has been downloaded and stored in the ``datasets`` repository. The data gathered by StackOverflow is over a period of 6 years, specifically from 2013 to 2018. It would be expected that, for a variety of reasons, the questions posed in these surveys and the format of the answers, have changed over time. \n",
    "\n",
    "The format of questions and how the data is stored has varied over the years. The earlier datasets are quite cumbersome in how the questions and responses are stored, but the later years, 2017 & 2018, consist of a more robust standard and include an accompanying data dictionary. Some changes are only minor, i.e. years 2013 & 2014, such as including more topical questions to guage online interaction with the StackOverflow platform, whereas others are more dramatic, i.e. 2016, which changes the entire layout of how the data is captured.\n",
    "\n",
    "| Format |  2011  |  2012  |  2013  |   2014  |  2015  |   2016  |   2017  |   2018  |\n",
    "|------|------|------|------|------|------|------|------|------|\n",
    "|1|Y|Y|-|-|-|-|-|-|\n",
    "|2|-|-|Y|-|-|-|-|-|\n",
    "|3|-|-|-|Y|-|-|-|-|\n",
    "|4|-|-|-|-|Y|-|-|-|\n",
    "|5|-|-|-|-|-|Y|-|-|\n",
    "|6|-|-|-|-|-|-|Y|Y|\n",
    "\n",
    "We will use Stack Overflow 2018 dataset for questions 1,2,3 and 5 and use 2013-2018 datasets for question 3.\n",
    "\n",
    "\n",
    "### Prepare Data\n",
    "\n",
    "This is commonly denoted as 80% of the process and the steps are documented in the notebook below, which includes loading the data into DataFrame objects, handling missing data, computing statistics and engineering new features and creating plotting functions to explain our business questions. The multiple formats add considerable complexity during the data science process in the data wrangling phase as we need to ensure attributes are consistent, same format and on the same scale.\n",
    "\n",
    "### Model Data\n",
    "\n",
    "In this project, we do not implement any predictive models but we opt for exploratory data analysis techniques and trend analysis over multiple datasets to assist in explaining our business questions.\n",
    "\n",
    "### Results\n",
    "\n",
    "Results are the findings from our wrangling and modeling and discussed in the blog post. As a result of our wrangling procedures, it enabled us to utilise matplotlib and seaborn to produce graphs to demonstrate our findings.\n"
   ]
  },
  {
   "cell_type": "code",
   "execution_count": null,
   "metadata": {},
   "outputs": [],
   "source": []
  }
 ],
 "metadata": {
  "kernelspec": {
   "display_name": "Python 3",
   "language": "python",
   "name": "python3"
  },
  "language_info": {
   "codemirror_mode": {
    "name": "ipython",
    "version": 3
   },
   "file_extension": ".py",
   "mimetype": "text/x-python",
   "name": "python",
   "nbconvert_exporter": "python",
   "pygments_lexer": "ipython3",
   "version": "3.6.5"
  }
 },
 "nbformat": 4,
 "nbformat_minor": 2
}
